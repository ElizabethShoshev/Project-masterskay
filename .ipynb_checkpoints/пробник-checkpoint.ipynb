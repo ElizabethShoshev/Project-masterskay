{
 "cells": [
  {
   "cell_type": "markdown",
   "id": "c7dd57e1",
   "metadata": {},
   "source": [
    "# Исследование: Прогноз сердечных заболеваний\n",
    "\n",
    "## Содержание: основной причиной смерти в развитых странах являются болезни сердца. Поэтому необходимо проделать работу, чтобы помочь предотвратить риск сердечного приступа или инсульта.\n",
    "\n",
    "## Постановка задачи: использоват имеющийся набор данных, чтобы предсказать, какие пациенты с наибольшей вероятностью будут страдать от сердечно-сосудистых заболеваний в ближайшем будущем.\n",
    "\n",
    "#### Материал взят из репозитория машинного обучения Калифорнийского университета в Ирвине по адресу https://archive.ics.uci.edu/ml/datasets/Heart+Disease."
   ]
  },
  {
   "cell_type": "markdown",
   "id": "01e033ca",
   "metadata": {},
   "source": [
    "## Шаг 1. Откроем файл с данными и прочитаем его"
   ]
  },
  {
   "cell_type": "code",
   "execution_count": 2,
   "id": "343e4fda",
   "metadata": {},
   "outputs": [],
   "source": [
    "#Импорт библиотек и различных метрик для работы \n",
    "import pandas as pd\n",
    "import numpy as np\n",
    "import matplotlib.pyplot as plt\n",
    "import seaborn as sns\n",
    "import warnings\n",
    "from sklearn.model_selection import train_test_split\n",
    "from sklearn.linear_model import LogisticRegression\n",
    "from sklearn.tree import DecisionTreeClassifier\n",
    "from sklearn.ensemble import RandomForestClassifier\n",
    "from sklearn.metrics import mean_absolute_error\n",
    "from sklearn.dummy import DummyClassifier\n",
    "from sklearn.metrics import accuracy_score \n",
    "from sklearn.metrics import precision_score\n",
    "from sklearn.metrics import recall_score\n",
    "from sklearn.metrics import confusion_matrix\n",
    "from sklearn.preprocessing import OrdinalEncoder\n",
    "from sklearn.preprocessing import StandardScaler\n",
    "from sklearn.metrics import f1_score\n",
    "from sklearn.utils import shuffle\n",
    "from sklearn.metrics import roc_curve\n",
    "from sklearn.metrics import roc_auc_score\n",
    "from sklearn.model_selection import GridSearchCV\n",
    "from sklearn.model_selection import train_test_split,cross_val_score, GridSearchCV, StratifiedShuffleSplit\n",
    "from sklearn.model_selection import train_test_split\n",
    "\n",
    "import warnings\n",
    "warnings.filterwarnings('ignore')"
   ]
  },
  {
   "cell_type": "code",
   "execution_count": 3,
   "id": "a8a7453c",
   "metadata": {},
   "outputs": [],
   "source": [
    "data = pd.read_csv('C:/Users/User/Downloads/Heart_Disease_Prediction.csv') "
   ]
  },
  {
   "cell_type": "code",
   "execution_count": 4,
   "id": "632a61cd",
   "metadata": {},
   "outputs": [
    {
     "name": "stdout",
     "output_type": "stream",
     "text": [
      "<class 'pandas.core.frame.DataFrame'>\n",
      "RangeIndex: 270 entries, 0 to 269\n",
      "Data columns (total 14 columns):\n",
      " #   Column                   Non-Null Count  Dtype  \n",
      "---  ------                   --------------  -----  \n",
      " 0   Age                      270 non-null    int64  \n",
      " 1   Sex                      270 non-null    int64  \n",
      " 2   Chest pain type          270 non-null    int64  \n",
      " 3   BP                       270 non-null    int64  \n",
      " 4   Cholesterol              270 non-null    int64  \n",
      " 5   FBS over 120             270 non-null    int64  \n",
      " 6   EKG results              270 non-null    int64  \n",
      " 7   Max HR                   270 non-null    int64  \n",
      " 8   Exercise angina          270 non-null    int64  \n",
      " 9   ST depression            270 non-null    float64\n",
      " 10  Slope of ST              270 non-null    int64  \n",
      " 11  Number of vessels fluro  270 non-null    int64  \n",
      " 12  Thallium                 270 non-null    int64  \n",
      " 13  Heart Disease            270 non-null    object \n",
      "dtypes: float64(1), int64(12), object(1)\n",
      "memory usage: 29.7+ KB\n"
     ]
    },
    {
     "data": {
      "text/html": [
       "<div>\n",
       "<style scoped>\n",
       "    .dataframe tbody tr th:only-of-type {\n",
       "        vertical-align: middle;\n",
       "    }\n",
       "\n",
       "    .dataframe tbody tr th {\n",
       "        vertical-align: top;\n",
       "    }\n",
       "\n",
       "    .dataframe thead th {\n",
       "        text-align: right;\n",
       "    }\n",
       "</style>\n",
       "<table border=\"1\" class=\"dataframe\">\n",
       "  <thead>\n",
       "    <tr style=\"text-align: right;\">\n",
       "      <th></th>\n",
       "      <th>Age</th>\n",
       "      <th>Sex</th>\n",
       "      <th>Chest pain type</th>\n",
       "      <th>BP</th>\n",
       "      <th>Cholesterol</th>\n",
       "      <th>FBS over 120</th>\n",
       "      <th>EKG results</th>\n",
       "      <th>Max HR</th>\n",
       "      <th>Exercise angina</th>\n",
       "      <th>ST depression</th>\n",
       "      <th>Slope of ST</th>\n",
       "      <th>Number of vessels fluro</th>\n",
       "      <th>Thallium</th>\n",
       "      <th>Heart Disease</th>\n",
       "    </tr>\n",
       "  </thead>\n",
       "  <tbody>\n",
       "    <tr>\n",
       "      <th>0</th>\n",
       "      <td>70</td>\n",
       "      <td>1</td>\n",
       "      <td>4</td>\n",
       "      <td>130</td>\n",
       "      <td>322</td>\n",
       "      <td>0</td>\n",
       "      <td>2</td>\n",
       "      <td>109</td>\n",
       "      <td>0</td>\n",
       "      <td>2.4</td>\n",
       "      <td>2</td>\n",
       "      <td>3</td>\n",
       "      <td>3</td>\n",
       "      <td>Presence</td>\n",
       "    </tr>\n",
       "    <tr>\n",
       "      <th>1</th>\n",
       "      <td>67</td>\n",
       "      <td>0</td>\n",
       "      <td>3</td>\n",
       "      <td>115</td>\n",
       "      <td>564</td>\n",
       "      <td>0</td>\n",
       "      <td>2</td>\n",
       "      <td>160</td>\n",
       "      <td>0</td>\n",
       "      <td>1.6</td>\n",
       "      <td>2</td>\n",
       "      <td>0</td>\n",
       "      <td>7</td>\n",
       "      <td>Absence</td>\n",
       "    </tr>\n",
       "    <tr>\n",
       "      <th>2</th>\n",
       "      <td>57</td>\n",
       "      <td>1</td>\n",
       "      <td>2</td>\n",
       "      <td>124</td>\n",
       "      <td>261</td>\n",
       "      <td>0</td>\n",
       "      <td>0</td>\n",
       "      <td>141</td>\n",
       "      <td>0</td>\n",
       "      <td>0.3</td>\n",
       "      <td>1</td>\n",
       "      <td>0</td>\n",
       "      <td>7</td>\n",
       "      <td>Presence</td>\n",
       "    </tr>\n",
       "    <tr>\n",
       "      <th>3</th>\n",
       "      <td>64</td>\n",
       "      <td>1</td>\n",
       "      <td>4</td>\n",
       "      <td>128</td>\n",
       "      <td>263</td>\n",
       "      <td>0</td>\n",
       "      <td>0</td>\n",
       "      <td>105</td>\n",
       "      <td>1</td>\n",
       "      <td>0.2</td>\n",
       "      <td>2</td>\n",
       "      <td>1</td>\n",
       "      <td>7</td>\n",
       "      <td>Absence</td>\n",
       "    </tr>\n",
       "    <tr>\n",
       "      <th>4</th>\n",
       "      <td>74</td>\n",
       "      <td>0</td>\n",
       "      <td>2</td>\n",
       "      <td>120</td>\n",
       "      <td>269</td>\n",
       "      <td>0</td>\n",
       "      <td>2</td>\n",
       "      <td>121</td>\n",
       "      <td>1</td>\n",
       "      <td>0.2</td>\n",
       "      <td>1</td>\n",
       "      <td>1</td>\n",
       "      <td>3</td>\n",
       "      <td>Absence</td>\n",
       "    </tr>\n",
       "    <tr>\n",
       "      <th>...</th>\n",
       "      <td>...</td>\n",
       "      <td>...</td>\n",
       "      <td>...</td>\n",
       "      <td>...</td>\n",
       "      <td>...</td>\n",
       "      <td>...</td>\n",
       "      <td>...</td>\n",
       "      <td>...</td>\n",
       "      <td>...</td>\n",
       "      <td>...</td>\n",
       "      <td>...</td>\n",
       "      <td>...</td>\n",
       "      <td>...</td>\n",
       "      <td>...</td>\n",
       "    </tr>\n",
       "    <tr>\n",
       "      <th>265</th>\n",
       "      <td>52</td>\n",
       "      <td>1</td>\n",
       "      <td>3</td>\n",
       "      <td>172</td>\n",
       "      <td>199</td>\n",
       "      <td>1</td>\n",
       "      <td>0</td>\n",
       "      <td>162</td>\n",
       "      <td>0</td>\n",
       "      <td>0.5</td>\n",
       "      <td>1</td>\n",
       "      <td>0</td>\n",
       "      <td>7</td>\n",
       "      <td>Absence</td>\n",
       "    </tr>\n",
       "    <tr>\n",
       "      <th>266</th>\n",
       "      <td>44</td>\n",
       "      <td>1</td>\n",
       "      <td>2</td>\n",
       "      <td>120</td>\n",
       "      <td>263</td>\n",
       "      <td>0</td>\n",
       "      <td>0</td>\n",
       "      <td>173</td>\n",
       "      <td>0</td>\n",
       "      <td>0.0</td>\n",
       "      <td>1</td>\n",
       "      <td>0</td>\n",
       "      <td>7</td>\n",
       "      <td>Absence</td>\n",
       "    </tr>\n",
       "    <tr>\n",
       "      <th>267</th>\n",
       "      <td>56</td>\n",
       "      <td>0</td>\n",
       "      <td>2</td>\n",
       "      <td>140</td>\n",
       "      <td>294</td>\n",
       "      <td>0</td>\n",
       "      <td>2</td>\n",
       "      <td>153</td>\n",
       "      <td>0</td>\n",
       "      <td>1.3</td>\n",
       "      <td>2</td>\n",
       "      <td>0</td>\n",
       "      <td>3</td>\n",
       "      <td>Absence</td>\n",
       "    </tr>\n",
       "    <tr>\n",
       "      <th>268</th>\n",
       "      <td>57</td>\n",
       "      <td>1</td>\n",
       "      <td>4</td>\n",
       "      <td>140</td>\n",
       "      <td>192</td>\n",
       "      <td>0</td>\n",
       "      <td>0</td>\n",
       "      <td>148</td>\n",
       "      <td>0</td>\n",
       "      <td>0.4</td>\n",
       "      <td>2</td>\n",
       "      <td>0</td>\n",
       "      <td>6</td>\n",
       "      <td>Absence</td>\n",
       "    </tr>\n",
       "    <tr>\n",
       "      <th>269</th>\n",
       "      <td>67</td>\n",
       "      <td>1</td>\n",
       "      <td>4</td>\n",
       "      <td>160</td>\n",
       "      <td>286</td>\n",
       "      <td>0</td>\n",
       "      <td>2</td>\n",
       "      <td>108</td>\n",
       "      <td>1</td>\n",
       "      <td>1.5</td>\n",
       "      <td>2</td>\n",
       "      <td>3</td>\n",
       "      <td>3</td>\n",
       "      <td>Presence</td>\n",
       "    </tr>\n",
       "  </tbody>\n",
       "</table>\n",
       "<p>270 rows × 14 columns</p>\n",
       "</div>"
      ],
      "text/plain": [
       "     Age  Sex  Chest pain type   BP  Cholesterol  FBS over 120  EKG results  \\\n",
       "0     70    1                4  130          322             0            2   \n",
       "1     67    0                3  115          564             0            2   \n",
       "2     57    1                2  124          261             0            0   \n",
       "3     64    1                4  128          263             0            0   \n",
       "4     74    0                2  120          269             0            2   \n",
       "..   ...  ...              ...  ...          ...           ...          ...   \n",
       "265   52    1                3  172          199             1            0   \n",
       "266   44    1                2  120          263             0            0   \n",
       "267   56    0                2  140          294             0            2   \n",
       "268   57    1                4  140          192             0            0   \n",
       "269   67    1                4  160          286             0            2   \n",
       "\n",
       "     Max HR  Exercise angina  ST depression  Slope of ST  \\\n",
       "0       109                0            2.4            2   \n",
       "1       160                0            1.6            2   \n",
       "2       141                0            0.3            1   \n",
       "3       105                1            0.2            2   \n",
       "4       121                1            0.2            1   \n",
       "..      ...              ...            ...          ...   \n",
       "265     162                0            0.5            1   \n",
       "266     173                0            0.0            1   \n",
       "267     153                0            1.3            2   \n",
       "268     148                0            0.4            2   \n",
       "269     108                1            1.5            2   \n",
       "\n",
       "     Number of vessels fluro  Thallium Heart Disease  \n",
       "0                          3         3      Presence  \n",
       "1                          0         7       Absence  \n",
       "2                          0         7      Presence  \n",
       "3                          1         7       Absence  \n",
       "4                          1         3       Absence  \n",
       "..                       ...       ...           ...  \n",
       "265                        0         7       Absence  \n",
       "266                        0         7       Absence  \n",
       "267                        0         3       Absence  \n",
       "268                        0         6       Absence  \n",
       "269                        3         3      Presence  \n",
       "\n",
       "[270 rows x 14 columns]"
      ]
     },
     "metadata": {},
     "output_type": "display_data"
    }
   ],
   "source": [
    "data.info()\n",
    "display (data)"
   ]
  },
  {
   "cell_type": "markdown",
   "id": "069b409c",
   "metadata": {},
   "source": [
    "### Описание данных\n",
    "\n",
    "Age: The person’s age in years\n",
    "\n",
    "Sex: The person’s sex (1 = male, 0 = female)\n",
    "\n",
    "Chest pain type: chest pain type:\n",
    "                 Value 1: asymptomatic\n",
    "                 Value 2: atypical angina\n",
    "                 Value 3: non-anginal pain\n",
    "                 Value 4: typical angina\n",
    "\n",
    "BP: The person’s resting blood pressure (mm Hg on admission to the hospital)\n",
    "\n",
    "Cholesterol: The person’s cholesterol measurement in mg/dl\n",
    "\n",
    "FBS over 120: The person’s fasting blood sugar (> 120 mg/dl, 1 = true; 0 = false)\n",
    "\n",
    "EKG results: resting electrocardiographic results — \n",
    "             Value 0: showing probable or definite left ventricular hypertrophy by Estes’ criteria\n",
    "             Value 1: normal \n",
    "             Value 2: having ST-T wave abnormality (T wave inversions and/or ST elevation or depression of > 0.05 mV)\n",
    "\n",
    "Max HR: The person’s maximum heart rate achieved\n",
    "\n",
    "Exercise angina: Exercise induced angina (1 = yes; 0 = no)\n",
    "\n",
    "ST depression: ST depression induced by exercise relative to rest (‘ST’ relates to positions on the ECG plot. See more here)\n",
    "\n",
    "Slope of ST: the slope of the peak exercise ST segment \n",
    "             0: downsloping; \n",
    "             1: flat; \n",
    "             2: upsloping\n",
    "\n",
    "Number of vessels fluro: The number of major vessels (0–3)\n",
    "\n",
    "\n",
    "\n",
    "\n",
    "\n",
    "Thallium: A blood disorder called thalassemia \n",
    "          Value 0: NULL (dropped from the dataset previously \n",
    "          Value 1: fixed defect (no blood flow in some part of the heart) \n",
    "          Value 2: normal blood flow \n",
    "          Value 3: reversible defect (a blood flow is observed but it is not normal)\t\n",
    "\n",
    "target: Heart Disease ((1 = yes(Presence), 0 = no(Absence)))\n",
    "\n"
   ]
  },
  {
   "cell_type": "markdown",
   "id": "67bdfe84",
   "metadata": {},
   "source": [
    "# Шаг 2. Предобработка и исследовательский анализ данных"
   ]
  },
  {
   "cell_type": "code",
   "execution_count": 5,
   "id": "04be84c2",
   "metadata": {},
   "outputs": [
    {
     "data": {
      "text/html": [
       "<div>\n",
       "<style scoped>\n",
       "    .dataframe tbody tr th:only-of-type {\n",
       "        vertical-align: middle;\n",
       "    }\n",
       "\n",
       "    .dataframe tbody tr th {\n",
       "        vertical-align: top;\n",
       "    }\n",
       "\n",
       "    .dataframe thead th {\n",
       "        text-align: right;\n",
       "    }\n",
       "</style>\n",
       "<table border=\"1\" class=\"dataframe\">\n",
       "  <thead>\n",
       "    <tr style=\"text-align: right;\">\n",
       "      <th></th>\n",
       "      <th>age</th>\n",
       "      <th>sex</th>\n",
       "      <th>chest_pain_type</th>\n",
       "      <th>bp</th>\n",
       "      <th>cholesterol</th>\n",
       "      <th>fbs_over_120</th>\n",
       "      <th>ekg_results</th>\n",
       "      <th>max_hr</th>\n",
       "      <th>exercise_angina</th>\n",
       "      <th>st_depression</th>\n",
       "      <th>slope_of_st</th>\n",
       "      <th>number_of_vessels_fluro</th>\n",
       "      <th>thallium</th>\n",
       "      <th>heart_disease</th>\n",
       "    </tr>\n",
       "  </thead>\n",
       "  <tbody>\n",
       "    <tr>\n",
       "      <th>0</th>\n",
       "      <td>70</td>\n",
       "      <td>1</td>\n",
       "      <td>4</td>\n",
       "      <td>130</td>\n",
       "      <td>322</td>\n",
       "      <td>0</td>\n",
       "      <td>2</td>\n",
       "      <td>109</td>\n",
       "      <td>0</td>\n",
       "      <td>2.4</td>\n",
       "      <td>2</td>\n",
       "      <td>3</td>\n",
       "      <td>3</td>\n",
       "      <td>Presence</td>\n",
       "    </tr>\n",
       "    <tr>\n",
       "      <th>1</th>\n",
       "      <td>67</td>\n",
       "      <td>0</td>\n",
       "      <td>3</td>\n",
       "      <td>115</td>\n",
       "      <td>564</td>\n",
       "      <td>0</td>\n",
       "      <td>2</td>\n",
       "      <td>160</td>\n",
       "      <td>0</td>\n",
       "      <td>1.6</td>\n",
       "      <td>2</td>\n",
       "      <td>0</td>\n",
       "      <td>7</td>\n",
       "      <td>Absence</td>\n",
       "    </tr>\n",
       "    <tr>\n",
       "      <th>2</th>\n",
       "      <td>57</td>\n",
       "      <td>1</td>\n",
       "      <td>2</td>\n",
       "      <td>124</td>\n",
       "      <td>261</td>\n",
       "      <td>0</td>\n",
       "      <td>0</td>\n",
       "      <td>141</td>\n",
       "      <td>0</td>\n",
       "      <td>0.3</td>\n",
       "      <td>1</td>\n",
       "      <td>0</td>\n",
       "      <td>7</td>\n",
       "      <td>Presence</td>\n",
       "    </tr>\n",
       "    <tr>\n",
       "      <th>3</th>\n",
       "      <td>64</td>\n",
       "      <td>1</td>\n",
       "      <td>4</td>\n",
       "      <td>128</td>\n",
       "      <td>263</td>\n",
       "      <td>0</td>\n",
       "      <td>0</td>\n",
       "      <td>105</td>\n",
       "      <td>1</td>\n",
       "      <td>0.2</td>\n",
       "      <td>2</td>\n",
       "      <td>1</td>\n",
       "      <td>7</td>\n",
       "      <td>Absence</td>\n",
       "    </tr>\n",
       "    <tr>\n",
       "      <th>4</th>\n",
       "      <td>74</td>\n",
       "      <td>0</td>\n",
       "      <td>2</td>\n",
       "      <td>120</td>\n",
       "      <td>269</td>\n",
       "      <td>0</td>\n",
       "      <td>2</td>\n",
       "      <td>121</td>\n",
       "      <td>1</td>\n",
       "      <td>0.2</td>\n",
       "      <td>1</td>\n",
       "      <td>1</td>\n",
       "      <td>3</td>\n",
       "      <td>Absence</td>\n",
       "    </tr>\n",
       "    <tr>\n",
       "      <th>...</th>\n",
       "      <td>...</td>\n",
       "      <td>...</td>\n",
       "      <td>...</td>\n",
       "      <td>...</td>\n",
       "      <td>...</td>\n",
       "      <td>...</td>\n",
       "      <td>...</td>\n",
       "      <td>...</td>\n",
       "      <td>...</td>\n",
       "      <td>...</td>\n",
       "      <td>...</td>\n",
       "      <td>...</td>\n",
       "      <td>...</td>\n",
       "      <td>...</td>\n",
       "    </tr>\n",
       "    <tr>\n",
       "      <th>265</th>\n",
       "      <td>52</td>\n",
       "      <td>1</td>\n",
       "      <td>3</td>\n",
       "      <td>172</td>\n",
       "      <td>199</td>\n",
       "      <td>1</td>\n",
       "      <td>0</td>\n",
       "      <td>162</td>\n",
       "      <td>0</td>\n",
       "      <td>0.5</td>\n",
       "      <td>1</td>\n",
       "      <td>0</td>\n",
       "      <td>7</td>\n",
       "      <td>Absence</td>\n",
       "    </tr>\n",
       "    <tr>\n",
       "      <th>266</th>\n",
       "      <td>44</td>\n",
       "      <td>1</td>\n",
       "      <td>2</td>\n",
       "      <td>120</td>\n",
       "      <td>263</td>\n",
       "      <td>0</td>\n",
       "      <td>0</td>\n",
       "      <td>173</td>\n",
       "      <td>0</td>\n",
       "      <td>0.0</td>\n",
       "      <td>1</td>\n",
       "      <td>0</td>\n",
       "      <td>7</td>\n",
       "      <td>Absence</td>\n",
       "    </tr>\n",
       "    <tr>\n",
       "      <th>267</th>\n",
       "      <td>56</td>\n",
       "      <td>0</td>\n",
       "      <td>2</td>\n",
       "      <td>140</td>\n",
       "      <td>294</td>\n",
       "      <td>0</td>\n",
       "      <td>2</td>\n",
       "      <td>153</td>\n",
       "      <td>0</td>\n",
       "      <td>1.3</td>\n",
       "      <td>2</td>\n",
       "      <td>0</td>\n",
       "      <td>3</td>\n",
       "      <td>Absence</td>\n",
       "    </tr>\n",
       "    <tr>\n",
       "      <th>268</th>\n",
       "      <td>57</td>\n",
       "      <td>1</td>\n",
       "      <td>4</td>\n",
       "      <td>140</td>\n",
       "      <td>192</td>\n",
       "      <td>0</td>\n",
       "      <td>0</td>\n",
       "      <td>148</td>\n",
       "      <td>0</td>\n",
       "      <td>0.4</td>\n",
       "      <td>2</td>\n",
       "      <td>0</td>\n",
       "      <td>6</td>\n",
       "      <td>Absence</td>\n",
       "    </tr>\n",
       "    <tr>\n",
       "      <th>269</th>\n",
       "      <td>67</td>\n",
       "      <td>1</td>\n",
       "      <td>4</td>\n",
       "      <td>160</td>\n",
       "      <td>286</td>\n",
       "      <td>0</td>\n",
       "      <td>2</td>\n",
       "      <td>108</td>\n",
       "      <td>1</td>\n",
       "      <td>1.5</td>\n",
       "      <td>2</td>\n",
       "      <td>3</td>\n",
       "      <td>3</td>\n",
       "      <td>Presence</td>\n",
       "    </tr>\n",
       "  </tbody>\n",
       "</table>\n",
       "<p>270 rows × 14 columns</p>\n",
       "</div>"
      ],
      "text/plain": [
       "     age  sex  chest_pain_type   bp  cholesterol  fbs_over_120  ekg_results  \\\n",
       "0     70    1                4  130          322             0            2   \n",
       "1     67    0                3  115          564             0            2   \n",
       "2     57    1                2  124          261             0            0   \n",
       "3     64    1                4  128          263             0            0   \n",
       "4     74    0                2  120          269             0            2   \n",
       "..   ...  ...              ...  ...          ...           ...          ...   \n",
       "265   52    1                3  172          199             1            0   \n",
       "266   44    1                2  120          263             0            0   \n",
       "267   56    0                2  140          294             0            2   \n",
       "268   57    1                4  140          192             0            0   \n",
       "269   67    1                4  160          286             0            2   \n",
       "\n",
       "     max_hr  exercise_angina  st_depression  slope_of_st  \\\n",
       "0       109                0            2.4            2   \n",
       "1       160                0            1.6            2   \n",
       "2       141                0            0.3            1   \n",
       "3       105                1            0.2            2   \n",
       "4       121                1            0.2            1   \n",
       "..      ...              ...            ...          ...   \n",
       "265     162                0            0.5            1   \n",
       "266     173                0            0.0            1   \n",
       "267     153                0            1.3            2   \n",
       "268     148                0            0.4            2   \n",
       "269     108                1            1.5            2   \n",
       "\n",
       "     number_of_vessels_fluro  thallium heart_disease  \n",
       "0                          3         3      Presence  \n",
       "1                          0         7       Absence  \n",
       "2                          0         7      Presence  \n",
       "3                          1         7       Absence  \n",
       "4                          1         3       Absence  \n",
       "..                       ...       ...           ...  \n",
       "265                        0         7       Absence  \n",
       "266                        0         7       Absence  \n",
       "267                        0         3       Absence  \n",
       "268                        0         6       Absence  \n",
       "269                        3         3      Presence  \n",
       "\n",
       "[270 rows x 14 columns]"
      ]
     },
     "metadata": {},
     "output_type": "display_data"
    }
   ],
   "source": [
    "#Изменим на змеиный шрифт названия столбцов и приведем к единообразию\n",
    "data = data.rename(columns = {'Heart Disease': 'heart_disease', 'Age': 'age', 'Sex': 'sex', \n",
    "                              'Chest pain type': 'chest_pain_type', 'BP': 'bp', 'Cholesterol': 'cholesterol', \n",
    "                              'FBS over 120': 'fbs_over_120', 'EKG results': 'ekg_results', 'Max HR': 'max_hr', \n",
    "                              'Exercise angina': 'exercise_angina', 'ST depression': 'st_depression', \n",
    "                              'Slope of ST': 'slope_of_st','Number of vessels fluro': 'number_of_vessels_fluro', \n",
    "                              'Thallium': 'thallium', 'Heart Disease': 'heart_disease' })\n",
    "#Проверим \n",
    "display (data)"
   ]
  },
  {
   "cell_type": "code",
   "execution_count": 6,
   "id": "8ef6cacd",
   "metadata": {},
   "outputs": [
    {
     "data": {
      "text/plain": [
       "(270, 14)"
      ]
     },
     "execution_count": 6,
     "metadata": {},
     "output_type": "execute_result"
    }
   ],
   "source": [
    "data.shape"
   ]
  },
  {
   "cell_type": "markdown",
   "id": "c662b516",
   "metadata": {},
   "source": [
    "##### Проверим на возможность ошибок в датасете"
   ]
  },
  {
   "cell_type": "code",
   "execution_count": 7,
   "id": "2c5f07ad",
   "metadata": {},
   "outputs": [
    {
     "data": {
      "text/plain": [
       "array([70, 67, 57, 64, 74, 65, 56, 59, 60, 63, 53, 44, 61, 71, 46, 40, 48,\n",
       "       43, 47, 54, 51, 58, 66, 37, 50, 42, 62, 49, 52, 45, 41, 76, 39, 35,\n",
       "       55, 34, 38, 69, 68, 77, 29], dtype=int64)"
      ]
     },
     "execution_count": 7,
     "metadata": {},
     "output_type": "execute_result"
    }
   ],
   "source": [
    "data['age'].unique()"
   ]
  },
  {
   "cell_type": "code",
   "execution_count": 8,
   "id": "dc573e00",
   "metadata": {},
   "outputs": [
    {
     "data": {
      "text/plain": [
       "array(['Presence', 'Absence'], dtype=object)"
      ]
     },
     "execution_count": 8,
     "metadata": {},
     "output_type": "execute_result"
    }
   ],
   "source": [
    "data['heart_disease'].unique()"
   ]
  },
  {
   "cell_type": "code",
   "execution_count": 9,
   "id": "0bc320e1",
   "metadata": {},
   "outputs": [
    {
     "data": {
      "text/plain": [
       "age                        0\n",
       "sex                        0\n",
       "chest_pain_type            0\n",
       "bp                         0\n",
       "cholesterol                0\n",
       "fbs_over_120               0\n",
       "ekg_results                0\n",
       "max_hr                     0\n",
       "exercise_angina            0\n",
       "st_depression              0\n",
       "slope_of_st                0\n",
       "number_of_vessels_fluro    0\n",
       "thallium                   0\n",
       "heart_disease              0\n",
       "dtype: int64"
      ]
     },
     "execution_count": 9,
     "metadata": {},
     "output_type": "execute_result"
    }
   ],
   "source": [
    "data.isna().sum()"
   ]
  },
  {
   "cell_type": "code",
   "execution_count": 10,
   "id": "1320f7d0",
   "metadata": {},
   "outputs": [
    {
     "data": {
      "text/plain": [
       "array([2, 0, 1], dtype=int64)"
      ]
     },
     "execution_count": 10,
     "metadata": {},
     "output_type": "execute_result"
    }
   ],
   "source": [
    "data['ekg_results'].unique()"
   ]
  },
  {
   "cell_type": "code",
   "execution_count": 11,
   "id": "870872eb",
   "metadata": {},
   "outputs": [
    {
     "data": {
      "text/plain": [
       "0"
      ]
     },
     "execution_count": 11,
     "metadata": {},
     "output_type": "execute_result"
    }
   ],
   "source": [
    "# Поиск дубликатов\n",
    "data.duplicated().sum()"
   ]
  },
  {
   "cell_type": "code",
   "execution_count": 12,
   "id": "15ef3aa2",
   "metadata": {},
   "outputs": [
    {
     "data": {
      "text/html": [
       "<div>\n",
       "<style scoped>\n",
       "    .dataframe tbody tr th:only-of-type {\n",
       "        vertical-align: middle;\n",
       "    }\n",
       "\n",
       "    .dataframe tbody tr th {\n",
       "        vertical-align: top;\n",
       "    }\n",
       "\n",
       "    .dataframe thead th {\n",
       "        text-align: right;\n",
       "    }\n",
       "</style>\n",
       "<table border=\"1\" class=\"dataframe\">\n",
       "  <thead>\n",
       "    <tr style=\"text-align: right;\">\n",
       "      <th></th>\n",
       "      <th>age</th>\n",
       "      <th>sex</th>\n",
       "      <th>chest_pain_type</th>\n",
       "      <th>bp</th>\n",
       "      <th>cholesterol</th>\n",
       "      <th>fbs_over_120</th>\n",
       "      <th>ekg_results</th>\n",
       "      <th>max_hr</th>\n",
       "      <th>exercise_angina</th>\n",
       "      <th>st_depression</th>\n",
       "      <th>slope_of_st</th>\n",
       "      <th>number_of_vessels_fluro</th>\n",
       "      <th>thallium</th>\n",
       "    </tr>\n",
       "  </thead>\n",
       "  <tbody>\n",
       "    <tr>\n",
       "      <th>count</th>\n",
       "      <td>270.000000</td>\n",
       "      <td>270.000000</td>\n",
       "      <td>270.000000</td>\n",
       "      <td>270.000000</td>\n",
       "      <td>270.000000</td>\n",
       "      <td>270.000000</td>\n",
       "      <td>270.000000</td>\n",
       "      <td>270.000000</td>\n",
       "      <td>270.000000</td>\n",
       "      <td>270.00000</td>\n",
       "      <td>270.000000</td>\n",
       "      <td>270.000000</td>\n",
       "      <td>270.000000</td>\n",
       "    </tr>\n",
       "    <tr>\n",
       "      <th>mean</th>\n",
       "      <td>54.433333</td>\n",
       "      <td>0.677778</td>\n",
       "      <td>3.174074</td>\n",
       "      <td>131.344444</td>\n",
       "      <td>249.659259</td>\n",
       "      <td>0.148148</td>\n",
       "      <td>1.022222</td>\n",
       "      <td>149.677778</td>\n",
       "      <td>0.329630</td>\n",
       "      <td>1.05000</td>\n",
       "      <td>1.585185</td>\n",
       "      <td>0.670370</td>\n",
       "      <td>4.696296</td>\n",
       "    </tr>\n",
       "    <tr>\n",
       "      <th>std</th>\n",
       "      <td>9.109067</td>\n",
       "      <td>0.468195</td>\n",
       "      <td>0.950090</td>\n",
       "      <td>17.861608</td>\n",
       "      <td>51.686237</td>\n",
       "      <td>0.355906</td>\n",
       "      <td>0.997891</td>\n",
       "      <td>23.165717</td>\n",
       "      <td>0.470952</td>\n",
       "      <td>1.14521</td>\n",
       "      <td>0.614390</td>\n",
       "      <td>0.943896</td>\n",
       "      <td>1.940659</td>\n",
       "    </tr>\n",
       "    <tr>\n",
       "      <th>min</th>\n",
       "      <td>29.000000</td>\n",
       "      <td>0.000000</td>\n",
       "      <td>1.000000</td>\n",
       "      <td>94.000000</td>\n",
       "      <td>126.000000</td>\n",
       "      <td>0.000000</td>\n",
       "      <td>0.000000</td>\n",
       "      <td>71.000000</td>\n",
       "      <td>0.000000</td>\n",
       "      <td>0.00000</td>\n",
       "      <td>1.000000</td>\n",
       "      <td>0.000000</td>\n",
       "      <td>3.000000</td>\n",
       "    </tr>\n",
       "    <tr>\n",
       "      <th>25%</th>\n",
       "      <td>48.000000</td>\n",
       "      <td>0.000000</td>\n",
       "      <td>3.000000</td>\n",
       "      <td>120.000000</td>\n",
       "      <td>213.000000</td>\n",
       "      <td>0.000000</td>\n",
       "      <td>0.000000</td>\n",
       "      <td>133.000000</td>\n",
       "      <td>0.000000</td>\n",
       "      <td>0.00000</td>\n",
       "      <td>1.000000</td>\n",
       "      <td>0.000000</td>\n",
       "      <td>3.000000</td>\n",
       "    </tr>\n",
       "    <tr>\n",
       "      <th>50%</th>\n",
       "      <td>55.000000</td>\n",
       "      <td>1.000000</td>\n",
       "      <td>3.000000</td>\n",
       "      <td>130.000000</td>\n",
       "      <td>245.000000</td>\n",
       "      <td>0.000000</td>\n",
       "      <td>2.000000</td>\n",
       "      <td>153.500000</td>\n",
       "      <td>0.000000</td>\n",
       "      <td>0.80000</td>\n",
       "      <td>2.000000</td>\n",
       "      <td>0.000000</td>\n",
       "      <td>3.000000</td>\n",
       "    </tr>\n",
       "    <tr>\n",
       "      <th>75%</th>\n",
       "      <td>61.000000</td>\n",
       "      <td>1.000000</td>\n",
       "      <td>4.000000</td>\n",
       "      <td>140.000000</td>\n",
       "      <td>280.000000</td>\n",
       "      <td>0.000000</td>\n",
       "      <td>2.000000</td>\n",
       "      <td>166.000000</td>\n",
       "      <td>1.000000</td>\n",
       "      <td>1.60000</td>\n",
       "      <td>2.000000</td>\n",
       "      <td>1.000000</td>\n",
       "      <td>7.000000</td>\n",
       "    </tr>\n",
       "    <tr>\n",
       "      <th>max</th>\n",
       "      <td>77.000000</td>\n",
       "      <td>1.000000</td>\n",
       "      <td>4.000000</td>\n",
       "      <td>200.000000</td>\n",
       "      <td>564.000000</td>\n",
       "      <td>1.000000</td>\n",
       "      <td>2.000000</td>\n",
       "      <td>202.000000</td>\n",
       "      <td>1.000000</td>\n",
       "      <td>6.20000</td>\n",
       "      <td>3.000000</td>\n",
       "      <td>3.000000</td>\n",
       "      <td>7.000000</td>\n",
       "    </tr>\n",
       "  </tbody>\n",
       "</table>\n",
       "</div>"
      ],
      "text/plain": [
       "              age         sex  chest_pain_type          bp  cholesterol  \\\n",
       "count  270.000000  270.000000       270.000000  270.000000   270.000000   \n",
       "mean    54.433333    0.677778         3.174074  131.344444   249.659259   \n",
       "std      9.109067    0.468195         0.950090   17.861608    51.686237   \n",
       "min     29.000000    0.000000         1.000000   94.000000   126.000000   \n",
       "25%     48.000000    0.000000         3.000000  120.000000   213.000000   \n",
       "50%     55.000000    1.000000         3.000000  130.000000   245.000000   \n",
       "75%     61.000000    1.000000         4.000000  140.000000   280.000000   \n",
       "max     77.000000    1.000000         4.000000  200.000000   564.000000   \n",
       "\n",
       "       fbs_over_120  ekg_results      max_hr  exercise_angina  st_depression  \\\n",
       "count    270.000000   270.000000  270.000000       270.000000      270.00000   \n",
       "mean       0.148148     1.022222  149.677778         0.329630        1.05000   \n",
       "std        0.355906     0.997891   23.165717         0.470952        1.14521   \n",
       "min        0.000000     0.000000   71.000000         0.000000        0.00000   \n",
       "25%        0.000000     0.000000  133.000000         0.000000        0.00000   \n",
       "50%        0.000000     2.000000  153.500000         0.000000        0.80000   \n",
       "75%        0.000000     2.000000  166.000000         1.000000        1.60000   \n",
       "max        1.000000     2.000000  202.000000         1.000000        6.20000   \n",
       "\n",
       "       slope_of_st  number_of_vessels_fluro    thallium  \n",
       "count   270.000000               270.000000  270.000000  \n",
       "mean      1.585185                 0.670370    4.696296  \n",
       "std       0.614390                 0.943896    1.940659  \n",
       "min       1.000000                 0.000000    3.000000  \n",
       "25%       1.000000                 0.000000    3.000000  \n",
       "50%       2.000000                 0.000000    3.000000  \n",
       "75%       2.000000                 1.000000    7.000000  \n",
       "max       3.000000                 3.000000    7.000000  "
      ]
     },
     "execution_count": 12,
     "metadata": {},
     "output_type": "execute_result"
    }
   ],
   "source": [
    "data.describe()"
   ]
  },
  {
   "cell_type": "markdown",
   "id": "b2ca263d",
   "metadata": {},
   "source": [
    "data['heart_disease'].unique()"
   ]
  },
  {
   "cell_type": "markdown",
   "id": "1092ca40",
   "metadata": {},
   "source": [
    "Вывод: данные чистые, предварительной обработки не потребовалось. Удалять столбцы не будем, т.к. это медицинские понятия и наличие одного или другого показателя может влиять на болезнь человека\n",
    "Целевой признак будет формироваться из колонки наличие болезни \"heart_disease\", т.к. в задании просят предсказать, какие пациенты с наибольшей вероятностью будут страдать от сердечно-сосудистых заболеваний."
   ]
  },
  {
   "cell_type": "code",
   "execution_count": 13,
   "id": "e290bd95",
   "metadata": {},
   "outputs": [
    {
     "name": "stdout",
     "output_type": "stream",
     "text": [
      "<class 'pandas.core.frame.DataFrame'>\n",
      "RangeIndex: 270 entries, 0 to 269\n",
      "Data columns (total 4 columns):\n",
      " #   Column       Non-Null Count  Dtype\n",
      "---  ------       --------------  -----\n",
      " 0   age          270 non-null    int64\n",
      " 1   bp           270 non-null    int64\n",
      " 2   cholesterol  270 non-null    int64\n",
      " 3   max_hr       270 non-null    int64\n",
      "dtypes: int64(4)\n",
      "memory usage: 8.6 KB\n"
     ]
    }
   ],
   "source": [
    "ds = data[['age', 'bp', 'cholesterol', 'max_hr']]\n",
    "ds.info()"
   ]
  },
  {
   "cell_type": "code",
   "execution_count": 14,
   "id": "b37b048e",
   "metadata": {},
   "outputs": [
    {
     "data": {
      "image/png": "[encoded data removed]",
      "text/plain": [
       "<Figure size 864x864 with 16 Axes>"
      ]
     },
     "metadata": {
      "needs_background": "light"
     },
     "output_type": "display_data"
    }
   ],
   "source": [
    "ax = pd.plotting.scatter_matrix(ds,figsize=(12, 12))"
   ]
  },
  {
   "cell_type": "markdown",
   "id": "dc2d9191",
   "metadata": {},
   "source": [
    "#### Применим one hot encoding "
   ]
  },
  {
   "cell_type": "code",
   "execution_count": 15,
   "id": "bbe3d7d2",
   "metadata": {},
   "outputs": [
    {
     "data": {
      "text/html": [
       "<div>\n",
       "<style scoped>\n",
       "    .dataframe tbody tr th:only-of-type {\n",
       "        vertical-align: middle;\n",
       "    }\n",
       "\n",
       "    .dataframe tbody tr th {\n",
       "        vertical-align: top;\n",
       "    }\n",
       "\n",
       "    .dataframe thead th {\n",
       "        text-align: right;\n",
       "    }\n",
       "</style>\n",
       "<table border=\"1\" class=\"dataframe\">\n",
       "  <thead>\n",
       "    <tr style=\"text-align: right;\">\n",
       "      <th></th>\n",
       "      <th>age</th>\n",
       "      <th>sex</th>\n",
       "      <th>chest_pain_type</th>\n",
       "      <th>bp</th>\n",
       "      <th>cholesterol</th>\n",
       "      <th>fbs_over_120</th>\n",
       "      <th>ekg_results</th>\n",
       "      <th>max_hr</th>\n",
       "      <th>exercise_angina</th>\n",
       "      <th>st_depression</th>\n",
       "      <th>slope_of_st</th>\n",
       "      <th>number_of_vessels_fluro</th>\n",
       "      <th>thallium</th>\n",
       "      <th>heart_disease_Presence</th>\n",
       "    </tr>\n",
       "  </thead>\n",
       "  <tbody>\n",
       "    <tr>\n",
       "      <th>0</th>\n",
       "      <td>70</td>\n",
       "      <td>1</td>\n",
       "      <td>4</td>\n",
       "      <td>130</td>\n",
       "      <td>322</td>\n",
       "      <td>0</td>\n",
       "      <td>2</td>\n",
       "      <td>109</td>\n",
       "      <td>0</td>\n",
       "      <td>2.4</td>\n",
       "      <td>2</td>\n",
       "      <td>3</td>\n",
       "      <td>3</td>\n",
       "      <td>1</td>\n",
       "    </tr>\n",
       "    <tr>\n",
       "      <th>1</th>\n",
       "      <td>67</td>\n",
       "      <td>0</td>\n",
       "      <td>3</td>\n",
       "      <td>115</td>\n",
       "      <td>564</td>\n",
       "      <td>0</td>\n",
       "      <td>2</td>\n",
       "      <td>160</td>\n",
       "      <td>0</td>\n",
       "      <td>1.6</td>\n",
       "      <td>2</td>\n",
       "      <td>0</td>\n",
       "      <td>7</td>\n",
       "      <td>0</td>\n",
       "    </tr>\n",
       "    <tr>\n",
       "      <th>2</th>\n",
       "      <td>57</td>\n",
       "      <td>1</td>\n",
       "      <td>2</td>\n",
       "      <td>124</td>\n",
       "      <td>261</td>\n",
       "      <td>0</td>\n",
       "      <td>0</td>\n",
       "      <td>141</td>\n",
       "      <td>0</td>\n",
       "      <td>0.3</td>\n",
       "      <td>1</td>\n",
       "      <td>0</td>\n",
       "      <td>7</td>\n",
       "      <td>1</td>\n",
       "    </tr>\n",
       "    <tr>\n",
       "      <th>3</th>\n",
       "      <td>64</td>\n",
       "      <td>1</td>\n",
       "      <td>4</td>\n",
       "      <td>128</td>\n",
       "      <td>263</td>\n",
       "      <td>0</td>\n",
       "      <td>0</td>\n",
       "      <td>105</td>\n",
       "      <td>1</td>\n",
       "      <td>0.2</td>\n",
       "      <td>2</td>\n",
       "      <td>1</td>\n",
       "      <td>7</td>\n",
       "      <td>0</td>\n",
       "    </tr>\n",
       "    <tr>\n",
       "      <th>4</th>\n",
       "      <td>74</td>\n",
       "      <td>0</td>\n",
       "      <td>2</td>\n",
       "      <td>120</td>\n",
       "      <td>269</td>\n",
       "      <td>0</td>\n",
       "      <td>2</td>\n",
       "      <td>121</td>\n",
       "      <td>1</td>\n",
       "      <td>0.2</td>\n",
       "      <td>1</td>\n",
       "      <td>1</td>\n",
       "      <td>3</td>\n",
       "      <td>0</td>\n",
       "    </tr>\n",
       "  </tbody>\n",
       "</table>\n",
       "</div>"
      ],
      "text/plain": [
       "   age  sex  chest_pain_type   bp  cholesterol  fbs_over_120  ekg_results  \\\n",
       "0   70    1                4  130          322             0            2   \n",
       "1   67    0                3  115          564             0            2   \n",
       "2   57    1                2  124          261             0            0   \n",
       "3   64    1                4  128          263             0            0   \n",
       "4   74    0                2  120          269             0            2   \n",
       "\n",
       "   max_hr  exercise_angina  st_depression  slope_of_st  \\\n",
       "0     109                0            2.4            2   \n",
       "1     160                0            1.6            2   \n",
       "2     141                0            0.3            1   \n",
       "3     105                1            0.2            2   \n",
       "4     121                1            0.2            1   \n",
       "\n",
       "   number_of_vessels_fluro  thallium  heart_disease_Presence  \n",
       "0                        3         3                       1  \n",
       "1                        0         7                       0  \n",
       "2                        0         7                       1  \n",
       "3                        1         7                       0  \n",
       "4                        1         3                       0  "
      ]
     },
     "execution_count": 15,
     "metadata": {},
     "output_type": "execute_result"
    }
   ],
   "source": [
    "# Применим one hot encoding к датафрейму, избежав \"ловушку фиктивных признаков\"\n",
    "data_ohe=pd.get_dummies(data, drop_first=True)\n",
    "data_ohe.head()"
   ]
  },
  {
   "cell_type": "code",
   "execution_count": 16,
   "id": "57a00b67",
   "metadata": {},
   "outputs": [],
   "source": [
    "features=data_ohe.drop(['heart_disease_Presence'],axis=1) # Признаки\n",
    "target=data_ohe['heart_disease_Presence'] # Целевой признак"
   ]
  },
  {
   "cell_type": "markdown",
   "id": "e7de8647",
   "metadata": {},
   "source": [
    "#### Данные разобьем на три части: обучающую, валидационную и тестовую. Исходные данные разбиваем в соотношении 3:1:1."
   ]
  },
  {
   "cell_type": "code",
   "execution_count": 17,
   "id": "48464abf",
   "metadata": {},
   "outputs": [
    {
     "name": "stdout",
     "output_type": "stream",
     "text": [
      "train_features (162, 13)\n"
     ]
    }
   ],
   "source": [
    "train_features, test_features, train_target, test_target = train_test_split(features, target, \n",
    "                                                    train_size=0.6, \n",
    "                                                    random_state=12345,\n",
    "                                                    stratify=target,shuffle=True)\n",
    "print('train_features',train_features.shape)"
   ]
  },
  {
   "cell_type": "code",
   "execution_count": 18,
   "id": "87b54890",
   "metadata": {},
   "outputs": [],
   "source": [
    "test_features, valid_features, test_target, valid_target = train_test_split(test_features, test_target, \n",
    "                                                    train_size=0.5, \n",
    "                                                    random_state=12345,\n",
    "                                                    stratify= test_target, shuffle=True)"
   ]
  },
  {
   "cell_type": "markdown",
   "id": "5a51da55",
   "metadata": {},
   "source": [
    "#### Построим baseline модель "
   ]
  },
  {
   "cell_type": "code",
   "execution_count": 19,
   "id": "97369647",
   "metadata": {},
   "outputs": [
    {
     "name": "stdout",
     "output_type": "stream",
     "text": [
      "accuracy: 0.89\n",
      "precision: 0.91\n",
      "recall: 0.83\n",
      "F1: 0.87\n",
      "AUC ROC: 0.9458\n",
      "confusion_matrix:\n",
      "[[28  2]\n",
      " [ 4 20]]\n",
      "F1: 0.8695652173913043\n"
     ]
    }
   ],
   "source": [
    "# Построим логистическую регрессию до каких-либо улучшений моделей\n",
    "model_logistic=LogisticRegression(random_state=12345, solver='liblinear').fit(train_features,train_target)\n",
    "prediction_logistic=model_logistic.predict(valid_features)\n",
    "print(\"accuracy:\", round ((model_logistic.score(valid_features,valid_target)),2))\n",
    "print(\"precision:\", round((precision_score(valid_target, prediction_logistic)),2))\n",
    "print(\"recall:\", round((recall_score(valid_target, prediction_logistic)),2))\n",
    "print(\"F1:\", round ((f1_score(valid_target, prediction_logistic)),2))\n",
    "print(\"AUC ROC:\", round(roc_auc_score(valid_target, (model_logistic.predict_proba(valid_features))[:, 1]),4))\n",
    "print(\"confusion_matrix:\")\n",
    "print(confusion_matrix(valid_target, prediction_logistic))\n",
    "print('F1:',f1_score(valid_target,prediction_logistic))"
   ]
  },
  {
   "cell_type": "code",
   "execution_count": 20,
   "id": "03292424",
   "metadata": {},
   "outputs": [
    {
     "name": "stdout",
     "output_type": "stream",
     "text": [
      "accuracy: 0.87\n",
      "precision: 0.9\n",
      "recall: 0.79\n",
      "F1: 0.84\n",
      "AUC ROC: 0.9361\n",
      "confusion_matrix:\n",
      "[[28  2]\n",
      " [ 5 19]]\n"
     ]
    }
   ],
   "source": [
    "# Строим модель  Random forest при дисбалансе классов и гиперпараметрах по умолчанию \n",
    "model_forest = RandomForestClassifier(random_state=12345)\n",
    "model_forest.fit(train_features,train_target)        \n",
    "forest_prediction = model_forest.predict(valid_features)\n",
    "print(\"accuracy:\", round ((model_forest.score(valid_features,valid_target)),2))\n",
    "print(\"precision:\", round((precision_score(valid_target, forest_prediction)),2))\n",
    "print(\"recall:\", round((recall_score(valid_target, forest_prediction)),2))\n",
    "print(\"F1:\", round ((f1_score(valid_target, forest_prediction)),2))\n",
    "print(\"AUC ROC:\", round(roc_auc_score(valid_target, (model_forest.predict_proba(valid_features))[:, 1]),4))\n",
    "print(\"confusion_matrix:\")\n",
    "print(confusion_matrix(valid_target, forest_prediction))"
   ]
  },
  {
   "cell_type": "code",
   "execution_count": null,
   "id": "1af2f819",
   "metadata": {},
   "outputs": [],
   "source": []
  },
  {
   "cell_type": "markdown",
   "id": "7dec26df",
   "metadata": {},
   "source": [
    "#####   Проверим соотношение классов"
   ]
  },
  {
   "cell_type": "code",
   "execution_count": 21,
   "id": "424daa34",
   "metadata": {},
   "outputs": [
    {
     "name": "stdout",
     "output_type": "stream",
     "text": [
      "Размеры выборок:\n",
      "train_features (162, 13)\n",
      "valid_features (54, 13)\n",
      "test_features (54, 13)\n",
      "train_target (162,)\n",
      "valid_target (54,)\n",
      "test_target (54,)\n"
     ]
    }
   ],
   "source": [
    "print('Размеры выборок:')\n",
    "print('train_features',train_features.shape)\n",
    "print('valid_features', valid_features.shape)\n",
    "print('test_features', test_features.shape)\n",
    "print('train_target', train_target.shape)\n",
    "print('valid_target', valid_target.shape)\n",
    "print('test_target', test_target.shape)"
   ]
  },
  {
   "cell_type": "code",
   "execution_count": 22,
   "id": "a74d75d3",
   "metadata": {},
   "outputs": [
    {
     "name": "stdout",
     "output_type": "stream",
     "text": [
      "соотношение классов в исходном датасете: 1.25\n",
      "соотношение классов на учебной выборке: 1.25\n",
      "соотношение классов на валидационной выборке: 1.25\n",
      "соотношение классов на тестовой выборке: 1.25\n"
     ]
    }
   ],
   "source": [
    "print('соотношение классов в исходном датасете:', round((target[target == 0].count()/target[target == 1].count()),2))\n",
    "print('соотношение классов на учебной выборке:', round((train_target[train_target == 0\n",
    "                                                             ].count()/train_target[train_target == 1].count()),2))\n",
    "print('соотношение классов на валидационной выборке:', round((valid_target[valid_target == 0\n",
    "                                                                   ].count()/valid_target[valid_target == 1].count()),2))\n",
    "print('соотношение классов на тестовой выборке:', round((test_target[test_target == 0].count()/\n",
    "                                                         test_target[test_target == 1].count()),2))"
   ]
  },
  {
   "cell_type": "code",
   "execution_count": 23,
   "id": "7976a2b8",
   "metadata": {},
   "outputs": [
    {
     "data": {
      "image/png": "[encoded data removed]",
      "text/plain": [
       "<Figure size 576x576 with 1 Axes>"
      ]
     },
     "metadata": {},
     "output_type": "display_data"
    }
   ],
   "source": [
    "a = data_ohe.groupby('heart_disease_Presence').size()\n",
    "a.plot(kind='pie', subplots=True, figsize=(8, 8))\n",
    "plt.title(\"Соотношение классов целевого признака\")\n",
    "plt.ylabel(\"\")\n",
    "plt.show()"
   ]
  },
  {
   "cell_type": "code",
   "execution_count": 24,
   "id": "82193daf",
   "metadata": {},
   "outputs": [
    {
     "data": {
      "text/html": [
       "<div>\n",
       "<style scoped>\n",
       "    .dataframe tbody tr th:only-of-type {\n",
       "        vertical-align: middle;\n",
       "    }\n",
       "\n",
       "    .dataframe tbody tr th {\n",
       "        vertical-align: top;\n",
       "    }\n",
       "\n",
       "    .dataframe thead th {\n",
       "        text-align: right;\n",
       "    }\n",
       "</style>\n",
       "<table border=\"1\" class=\"dataframe\">\n",
       "  <thead>\n",
       "    <tr style=\"text-align: right;\">\n",
       "      <th></th>\n",
       "      <th>age</th>\n",
       "      <th>sex</th>\n",
       "      <th>chest_pain_type</th>\n",
       "      <th>bp</th>\n",
       "      <th>cholesterol</th>\n",
       "      <th>fbs_over_120</th>\n",
       "      <th>ekg_results</th>\n",
       "      <th>max_hr</th>\n",
       "      <th>exercise_angina</th>\n",
       "      <th>st_depression</th>\n",
       "      <th>slope_of_st</th>\n",
       "      <th>number_of_vessels_fluro</th>\n",
       "      <th>thallium</th>\n",
       "    </tr>\n",
       "  </thead>\n",
       "  <tbody>\n",
       "    <tr>\n",
       "      <th>94</th>\n",
       "      <td>-0.277557</td>\n",
       "      <td>1</td>\n",
       "      <td>4</td>\n",
       "      <td>-0.400792</td>\n",
       "      <td>-0.630817</td>\n",
       "      <td>0</td>\n",
       "      <td>0</td>\n",
       "      <td>0.857684</td>\n",
       "      <td>0</td>\n",
       "      <td>1.0</td>\n",
       "      <td>1</td>\n",
       "      <td>2</td>\n",
       "      <td>7</td>\n",
       "    </tr>\n",
       "    <tr>\n",
       "      <th>72</th>\n",
       "      <td>1.672702</td>\n",
       "      <td>1</td>\n",
       "      <td>2</td>\n",
       "      <td>1.259916</td>\n",
       "      <td>-0.019109</td>\n",
       "      <td>0</td>\n",
       "      <td>2</td>\n",
       "      <td>-0.239133</td>\n",
       "      <td>0</td>\n",
       "      <td>0.0</td>\n",
       "      <td>1</td>\n",
       "      <td>0</td>\n",
       "      <td>3</td>\n",
       "    </tr>\n",
       "    <tr>\n",
       "      <th>189</th>\n",
       "      <td>1.672702</td>\n",
       "      <td>1</td>\n",
       "      <td>3</td>\n",
       "      <td>1.474201</td>\n",
       "      <td>0.425770</td>\n",
       "      <td>0</td>\n",
       "      <td>0</td>\n",
       "      <td>-1.599186</td>\n",
       "      <td>1</td>\n",
       "      <td>2.9</td>\n",
       "      <td>2</td>\n",
       "      <td>1</td>\n",
       "      <td>7</td>\n",
       "    </tr>\n",
       "    <tr>\n",
       "      <th>47</th>\n",
       "      <td>-1.144339</td>\n",
       "      <td>1</td>\n",
       "      <td>4</td>\n",
       "      <td>-1.204360</td>\n",
       "      <td>-0.908866</td>\n",
       "      <td>0</td>\n",
       "      <td>2</td>\n",
       "      <td>1.252538</td>\n",
       "      <td>0</td>\n",
       "      <td>0.0</td>\n",
       "      <td>1</td>\n",
       "      <td>1</td>\n",
       "      <td>3</td>\n",
       "    </tr>\n",
       "    <tr>\n",
       "      <th>1</th>\n",
       "      <td>1.347658</td>\n",
       "      <td>0</td>\n",
       "      <td>3</td>\n",
       "      <td>-0.936504</td>\n",
       "      <td>5.894067</td>\n",
       "      <td>0</td>\n",
       "      <td>2</td>\n",
       "      <td>0.506702</td>\n",
       "      <td>0</td>\n",
       "      <td>1.6</td>\n",
       "      <td>2</td>\n",
       "      <td>0</td>\n",
       "      <td>7</td>\n",
       "    </tr>\n",
       "  </tbody>\n",
       "</table>\n",
       "</div>"
      ],
      "text/plain": [
       "          age  sex  chest_pain_type        bp  cholesterol  fbs_over_120  \\\n",
       "94  -0.277557    1                4 -0.400792    -0.630817             0   \n",
       "72   1.672702    1                2  1.259916    -0.019109             0   \n",
       "189  1.672702    1                3  1.474201     0.425770             0   \n",
       "47  -1.144339    1                4 -1.204360    -0.908866             0   \n",
       "1    1.347658    0                3 -0.936504     5.894067             0   \n",
       "\n",
       "     ekg_results    max_hr  exercise_angina  st_depression  slope_of_st  \\\n",
       "94             0  0.857684                0            1.0            1   \n",
       "72             2 -0.239133                0            0.0            1   \n",
       "189            0 -1.599186                1            2.9            2   \n",
       "47             2  1.252538                0            0.0            1   \n",
       "1              2  0.506702                0            1.6            2   \n",
       "\n",
       "     number_of_vessels_fluro  thallium  \n",
       "94                         2         7  \n",
       "72                         0         3  \n",
       "189                        1         7  \n",
       "47                         1         3  \n",
       "1                          0         7  "
      ]
     },
     "metadata": {},
     "output_type": "display_data"
    },
    {
     "data": {
      "text/html": [
       "<div>\n",
       "<style scoped>\n",
       "    .dataframe tbody tr th:only-of-type {\n",
       "        vertical-align: middle;\n",
       "    }\n",
       "\n",
       "    .dataframe tbody tr th {\n",
       "        vertical-align: top;\n",
       "    }\n",
       "\n",
       "    .dataframe thead th {\n",
       "        text-align: right;\n",
       "    }\n",
       "</style>\n",
       "<table border=\"1\" class=\"dataframe\">\n",
       "  <thead>\n",
       "    <tr style=\"text-align: right;\">\n",
       "      <th></th>\n",
       "      <th>age</th>\n",
       "      <th>sex</th>\n",
       "      <th>chest_pain_type</th>\n",
       "      <th>bp</th>\n",
       "      <th>cholesterol</th>\n",
       "      <th>fbs_over_120</th>\n",
       "      <th>ekg_results</th>\n",
       "      <th>max_hr</th>\n",
       "      <th>exercise_angina</th>\n",
       "      <th>st_depression</th>\n",
       "      <th>slope_of_st</th>\n",
       "      <th>number_of_vessels_fluro</th>\n",
       "      <th>thallium</th>\n",
       "    </tr>\n",
       "  </thead>\n",
       "  <tbody>\n",
       "    <tr>\n",
       "      <th>232</th>\n",
       "      <td>-0.951149</td>\n",
       "      <td>1</td>\n",
       "      <td>4</td>\n",
       "      <td>-0.986470</td>\n",
       "      <td>0.179209</td>\n",
       "      <td>0</td>\n",
       "      <td>2</td>\n",
       "      <td>1.305306</td>\n",
       "      <td>0</td>\n",
       "      <td>0.0</td>\n",
       "      <td>1</td>\n",
       "      <td>0</td>\n",
       "      <td>3</td>\n",
       "    </tr>\n",
       "    <tr>\n",
       "      <th>269</th>\n",
       "      <td>1.688956</td>\n",
       "      <td>1</td>\n",
       "      <td>4</td>\n",
       "      <td>1.700886</td>\n",
       "      <td>0.694801</td>\n",
       "      <td>0</td>\n",
       "      <td>2</td>\n",
       "      <td>-1.938844</td>\n",
       "      <td>1</td>\n",
       "      <td>1.5</td>\n",
       "      <td>2</td>\n",
       "      <td>3</td>\n",
       "      <td>3</td>\n",
       "    </tr>\n",
       "    <tr>\n",
       "      <th>188</th>\n",
       "      <td>1.088932</td>\n",
       "      <td>0</td>\n",
       "      <td>4</td>\n",
       "      <td>0.506506</td>\n",
       "      <td>2.836493</td>\n",
       "      <td>0</td>\n",
       "      <td>2</td>\n",
       "      <td>0.125615</td>\n",
       "      <td>0</td>\n",
       "      <td>1.2</td>\n",
       "      <td>2</td>\n",
       "      <td>0</td>\n",
       "      <td>3</td>\n",
       "    </tr>\n",
       "    <tr>\n",
       "      <th>119</th>\n",
       "      <td>0.368903</td>\n",
       "      <td>1</td>\n",
       "      <td>4</td>\n",
       "      <td>-0.090684</td>\n",
       "      <td>0.635310</td>\n",
       "      <td>1</td>\n",
       "      <td>2</td>\n",
       "      <td>-2.149503</td>\n",
       "      <td>1</td>\n",
       "      <td>1.6</td>\n",
       "      <td>3</td>\n",
       "      <td>0</td>\n",
       "      <td>7</td>\n",
       "    </tr>\n",
       "    <tr>\n",
       "      <th>137</th>\n",
       "      <td>0.368903</td>\n",
       "      <td>1</td>\n",
       "      <td>4</td>\n",
       "      <td>-0.389280</td>\n",
       "      <td>-0.038927</td>\n",
       "      <td>1</td>\n",
       "      <td>2</td>\n",
       "      <td>-0.422098</td>\n",
       "      <td>1</td>\n",
       "      <td>1.2</td>\n",
       "      <td>2</td>\n",
       "      <td>1</td>\n",
       "      <td>3</td>\n",
       "    </tr>\n",
       "  </tbody>\n",
       "</table>\n",
       "</div>"
      ],
      "text/plain": [
       "          age  sex  chest_pain_type        bp  cholesterol  fbs_over_120  \\\n",
       "232 -0.951149    1                4 -0.986470     0.179209             0   \n",
       "269  1.688956    1                4  1.700886     0.694801             0   \n",
       "188  1.088932    0                4  0.506506     2.836493             0   \n",
       "119  0.368903    1                4 -0.090684     0.635310             1   \n",
       "137  0.368903    1                4 -0.389280    -0.038927             1   \n",
       "\n",
       "     ekg_results    max_hr  exercise_angina  st_depression  slope_of_st  \\\n",
       "232            2  1.305306                0            0.0            1   \n",
       "269            2 -1.938844                1            1.5            2   \n",
       "188            2  0.125615                0            1.2            2   \n",
       "119            2 -2.149503                1            1.6            3   \n",
       "137            2 -0.422098                1            1.2            2   \n",
       "\n",
       "     number_of_vessels_fluro  thallium  \n",
       "232                        0         3  \n",
       "269                        3         3  \n",
       "188                        0         3  \n",
       "119                        0         7  \n",
       "137                        1         3  "
      ]
     },
     "metadata": {},
     "output_type": "display_data"
    },
    {
     "data": {
      "text/html": [
       "<div>\n",
       "<style scoped>\n",
       "    .dataframe tbody tr th:only-of-type {\n",
       "        vertical-align: middle;\n",
       "    }\n",
       "\n",
       "    .dataframe tbody tr th {\n",
       "        vertical-align: top;\n",
       "    }\n",
       "\n",
       "    .dataframe thead th {\n",
       "        text-align: right;\n",
       "    }\n",
       "</style>\n",
       "<table border=\"1\" class=\"dataframe\">\n",
       "  <thead>\n",
       "    <tr style=\"text-align: right;\">\n",
       "      <th></th>\n",
       "      <th>age</th>\n",
       "      <th>sex</th>\n",
       "      <th>chest_pain_type</th>\n",
       "      <th>bp</th>\n",
       "      <th>cholesterol</th>\n",
       "      <th>fbs_over_120</th>\n",
       "      <th>ekg_results</th>\n",
       "      <th>max_hr</th>\n",
       "      <th>exercise_angina</th>\n",
       "      <th>st_depression</th>\n",
       "      <th>slope_of_st</th>\n",
       "      <th>number_of_vessels_fluro</th>\n",
       "      <th>thallium</th>\n",
       "    </tr>\n",
       "  </thead>\n",
       "  <tbody>\n",
       "    <tr>\n",
       "      <th>209</th>\n",
       "      <td>-2.015415</td>\n",
       "      <td>1</td>\n",
       "      <td>3</td>\n",
       "      <td>0.142640</td>\n",
       "      <td>-0.211941</td>\n",
       "      <td>0</td>\n",
       "      <td>0</td>\n",
       "      <td>1.653599</td>\n",
       "      <td>0</td>\n",
       "      <td>3.5</td>\n",
       "      <td>3</td>\n",
       "      <td>0</td>\n",
       "      <td>3</td>\n",
       "    </tr>\n",
       "    <tr>\n",
       "      <th>163</th>\n",
       "      <td>0.265504</td>\n",
       "      <td>1</td>\n",
       "      <td>4</td>\n",
       "      <td>0.015325</td>\n",
       "      <td>-0.005522</td>\n",
       "      <td>0</td>\n",
       "      <td>2</td>\n",
       "      <td>-0.828009</td>\n",
       "      <td>1</td>\n",
       "      <td>3.0</td>\n",
       "      <td>2</td>\n",
       "      <td>2</td>\n",
       "      <td>7</td>\n",
       "    </tr>\n",
       "    <tr>\n",
       "      <th>240</th>\n",
       "      <td>1.351656</td>\n",
       "      <td>1</td>\n",
       "      <td>3</td>\n",
       "      <td>3.325511</td>\n",
       "      <td>0.338512</td>\n",
       "      <td>1</td>\n",
       "      <td>2</td>\n",
       "      <td>0.042731</td>\n",
       "      <td>1</td>\n",
       "      <td>1.6</td>\n",
       "      <td>2</td>\n",
       "      <td>0</td>\n",
       "      <td>7</td>\n",
       "    </tr>\n",
       "    <tr>\n",
       "      <th>145</th>\n",
       "      <td>-0.277572</td>\n",
       "      <td>1</td>\n",
       "      <td>4</td>\n",
       "      <td>-0.302962</td>\n",
       "      <td>0.521996</td>\n",
       "      <td>0</td>\n",
       "      <td>0</td>\n",
       "      <td>-2.351804</td>\n",
       "      <td>1</td>\n",
       "      <td>2.0</td>\n",
       "      <td>2</td>\n",
       "      <td>2</td>\n",
       "      <td>7</td>\n",
       "    </tr>\n",
       "    <tr>\n",
       "      <th>151</th>\n",
       "      <td>-0.603418</td>\n",
       "      <td>0</td>\n",
       "      <td>3</td>\n",
       "      <td>-0.493934</td>\n",
       "      <td>-0.922944</td>\n",
       "      <td>0</td>\n",
       "      <td>0</td>\n",
       "      <td>0.391027</td>\n",
       "      <td>0</td>\n",
       "      <td>1.6</td>\n",
       "      <td>2</td>\n",
       "      <td>0</td>\n",
       "      <td>3</td>\n",
       "    </tr>\n",
       "  </tbody>\n",
       "</table>\n",
       "</div>"
      ],
      "text/plain": [
       "          age  sex  chest_pain_type        bp  cholesterol  fbs_over_120  \\\n",
       "209 -2.015415    1                3  0.142640    -0.211941             0   \n",
       "163  0.265504    1                4  0.015325    -0.005522             0   \n",
       "240  1.351656    1                3  3.325511     0.338512             1   \n",
       "145 -0.277572    1                4 -0.302962     0.521996             0   \n",
       "151 -0.603418    0                3 -0.493934    -0.922944             0   \n",
       "\n",
       "     ekg_results    max_hr  exercise_angina  st_depression  slope_of_st  \\\n",
       "209            0  1.653599                0            3.5            3   \n",
       "163            2 -0.828009                1            3.0            2   \n",
       "240            2  0.042731                1            1.6            2   \n",
       "145            0 -2.351804                1            2.0            2   \n",
       "151            0  0.391027                0            1.6            2   \n",
       "\n",
       "     number_of_vessels_fluro  thallium  \n",
       "209                        0         3  \n",
       "163                        2         7  \n",
       "240                        0         7  \n",
       "145                        2         7  \n",
       "151                        0         3  "
      ]
     },
     "metadata": {},
     "output_type": "display_data"
    }
   ],
   "source": [
    "# Стандартизируем выборки, т.к есть значения и маленькие и очень большие. \n",
    "numeric=['age','bp','cholesterol','max_hr']\n",
    "scaler=StandardScaler()\n",
    "scaler.fit(train_features[numeric])\n",
    "train_features[numeric] = scaler.transform(train_features[numeric])\n",
    "scaler.fit(valid_features[numeric])\n",
    "valid_features[numeric] = scaler.transform(valid_features[numeric])\n",
    "scaler.fit(test_features[numeric])\n",
    "test_features[numeric] = scaler.transform(test_features[numeric])\n",
    "display(train_features.head(5))\n",
    "display(valid_features.head(5))\n",
    "display(test_features.head(5))"
   ]
  },
  {
   "cell_type": "markdown",
   "id": "5e41b0b1",
   "metadata": {},
   "source": [
    "## Обучение моделей"
   ]
  },
  {
   "cell_type": "markdown",
   "id": "15152f6d",
   "metadata": {},
   "source": [
    "#### Модел DecisionTree"
   ]
  },
  {
   "cell_type": "code",
   "execution_count": 25,
   "id": "8aca7598",
   "metadata": {},
   "outputs": [
    {
     "data": {
      "text/plain": [
       "GridSearchCV(cv=5, estimator=DecisionTreeClassifier(random_state=12345),\n",
       "             param_grid={'criterion': ['gini', 'entropy'],\n",
       "                         'max_depth': [5, 10, 15, 20]},\n",
       "             scoring='f1')"
      ]
     },
     "execution_count": 25,
     "metadata": {},
     "output_type": "execute_result"
    }
   ],
   "source": [
    "# Подберем оптимальные параметры для модели решающего дерева\n",
    "parameters = {\n",
    "    'criterion' : ['gini', 'entropy'],\n",
    "    'max_depth':[5,10,15,20]\n",
    "}\n",
    "\n",
    "dtc = DecisionTreeClassifier(random_state=12345)\n",
    "\n",
    "clf_dtc = GridSearchCV(\n",
    "    estimator = dtc,\n",
    "    param_grid = parameters,\n",
    "    scoring = 'f1',\n",
    "    cv=5)\n",
    "\n",
    "clf_dtc.fit(train_features, train_target)"
   ]
  },
  {
   "cell_type": "code",
   "execution_count": 26,
   "id": "e101303e",
   "metadata": {},
   "outputs": [
    {
     "name": "stdout",
     "output_type": "stream",
     "text": [
      "accuracy: 0.91\n",
      "precision: 0.78\n",
      "recall: 0.88\n",
      "F1: 0.82\n",
      "AUC ROC: 0.8944\n",
      "confusion_matrix:\n",
      "[[24  6]\n",
      " [ 3 21]]\n"
     ]
    }
   ],
   "source": [
    "# Обучим модель решающего дерева с лучшими гиперпараметрами и рассчитаем метрики на тестовой выборке\n",
    "model_tree = clf_dtc.best_estimator_.fit(train_features,train_target)\n",
    "prediction_tree = model_tree.predict(valid_features)\n",
    "print(\"accuracy:\", round ((model_tree.score(train_features,train_target)),2))\n",
    "print(\"precision:\", round((precision_score(valid_target, prediction_tree)),2))\n",
    "print(\"recall:\", round((recall_score(valid_target, prediction_tree)),2))\n",
    "print(\"F1:\", round ((f1_score(valid_target,prediction_tree)),2))\n",
    "print(\"AUC ROC:\", round(roc_auc_score(valid_target, (model_tree.predict_proba(valid_features))[:, 1]),4))\n",
    "print(\"confusion_matrix:\")\n",
    "print(confusion_matrix(valid_target, prediction_tree))"
   ]
  },
  {
   "cell_type": "markdown",
   "id": "8441ebdb",
   "metadata": {},
   "source": [
    "#### Логистическая регрессия"
   ]
  },
  {
   "cell_type": "code",
   "execution_count": 27,
   "id": "6bd2bd38",
   "metadata": {},
   "outputs": [
    {
     "name": "stdout",
     "output_type": "stream",
     "text": [
      "accuracy: 0.86\n",
      "precision: 0.91\n",
      "recall: 0.88\n",
      "F1: 0.89\n"
     ]
    }
   ],
   "source": [
    "# Обучим модель логистической регрессии\n",
    "model_logistic=LogisticRegression().fit(train_features,train_target)\n",
    "prediction=model_logistic.predict(valid_features)\n",
    "print(\"accuracy:\", round ((model_logistic.score(train_features,train_target)),2))\n",
    "print(\"precision:\", round((precision_score(valid_target, prediction)),2))\n",
    "print(\"recall:\", round((recall_score(valid_target, prediction)),2))\n",
    "print('F1:', round ((f1_score(valid_target,prediction)),2))"
   ]
  },
  {
   "cell_type": "code",
   "execution_count": null,
   "id": "fa717f20",
   "metadata": {},
   "outputs": [],
   "source": []
  },
  {
   "cell_type": "code",
   "execution_count": null,
   "id": "7eef98ad",
   "metadata": {},
   "outputs": [],
   "source": []
  },
  {
   "cell_type": "markdown",
   "id": "466d5786",
   "metadata": {},
   "source": [
    "### Общий вывод:\n"
   ]
  },
  {
   "cell_type": "code",
   "execution_count": null,
   "id": "7f277935",
   "metadata": {},
   "outputs": [],
   "source": []
  },
  {
   "cell_type": "code",
   "execution_count": null,
   "id": "ec413af9",
   "metadata": {},
   "outputs": [],
   "source": []
  },
  {
   "cell_type": "markdown",
   "id": "98d244c5",
   "metadata": {},
   "source": [
    "### График ROC"
   ]
  },
  {
   "cell_type": "markdown",
   "id": "e2f7c0bf",
   "metadata": {},
   "source": [
    "Модель Логистическая регрессия"
   ]
  },
  {
   "cell_type": "code",
   "execution_count": 28,
   "id": "7cb83063",
   "metadata": {},
   "outputs": [
    {
     "data": {
      "text/plain": [
       "0.9555555555555555"
      ]
     },
     "execution_count": 28,
     "metadata": {},
     "output_type": "execute_result"
    }
   ],
   "source": [
    "probabilities_reg=model_logistic.predict_proba(valid_features)\n",
    "probabilities_one_valid_reg=probabilities_reg[:,1]\n",
    "fpr_log,tpr_log,thresholds=roc_curve(valid_target,probabilities_one_valid_reg)\n",
    "auc_roc_reg=roc_auc_score(valid_target,probabilities_one_valid_reg)\n",
    "auc_roc_reg"
   ]
  },
  {
   "cell_type": "markdown",
   "id": "a048b976",
   "metadata": {},
   "source": [
    "### Борьба с дисбалансом"
   ]
  },
  {
   "cell_type": "markdown",
   "id": "1148b7f9",
   "metadata": {},
   "source": [
    "##### Воспользуемся функцией Upsampling и увеличим ... (target==1)"
   ]
  },
  {
   "cell_type": "code",
   "execution_count": 29,
   "id": "4dfb5208",
   "metadata": {},
   "outputs": [],
   "source": [
    "## Функция Upsampling\n",
    "def upsampling (features,target,repeat):\n",
    "    #Разделяем выборку по значениям целевой функции\n",
    "    target_one=target[target==1]\n",
    "    target_null=target[target==0]\n",
    "    features_one=features[target==1]\n",
    "    features_null=features[target==0]\n",
    "    \n",
    "    #Увеличиваем и соединяем обратно\n",
    "    upsampling_features=pd.concat([features_null]+[features_one]*repeat)\n",
    "    upsampling_target=pd.concat([target_null]+[target_one]*repeat)\n",
    "    \n",
    "    # Перемешиваем\n",
    "    upsampling_features,upsampling_target=shuffle(upsampling_features,upsampling_target,random_state=1234)\n",
    "    \n",
    "    return upsampling_features,upsampling_target"
   ]
  },
  {
   "cell_type": "code",
   "execution_count": 30,
   "id": "1a9a205e",
   "metadata": {},
   "outputs": [],
   "source": [
    "features_balance_up,target_balance_up=upsampling(train_features,train_target,2)"
   ]
  },
  {
   "cell_type": "code",
   "execution_count": 31,
   "id": "5f9ed892",
   "metadata": {},
   "outputs": [
    {
     "name": "stdout",
     "output_type": "stream",
     "text": [
      "Размеры выборок после увеличения положительного класса:\n",
      "features_balance_up (234, 13)\n",
      "target_balance_up (234,)\n",
      "соотношение классов после увеличения выборки: 0.62\n"
     ]
    }
   ],
   "source": [
    "print('Размеры выборок после увеличения положительного класса:')\n",
    "print('features_balance_up', features_balance_up.shape)\n",
    "print('target_balance_up', target_balance_up.shape)\n",
    "print('соотношение классов после увеличения выборки:',round(\n",
    "    (target_balance_up[target_balance_up ==0].count()/target_balance_up[target_balance_up==1].count()),2))"
   ]
  },
  {
   "cell_type": "markdown",
   "id": "3feb2c48",
   "metadata": {},
   "source": [
    "##### Воспользуемся функцией Downsampling и уменьшим количество объектов отрицательного класса"
   ]
  },
  {
   "cell_type": "code",
   "execution_count": 32,
   "id": "64349067",
   "metadata": {},
   "outputs": [],
   "source": [
    "## Функция Downsampling\n",
    "def downsampling (features,target,fraction):\n",
    "    #Разделяем выборку по значениям целевого признака\n",
    "    target_one=target[target==1]\n",
    "    target_null=target[target==0]\n",
    "    features_one=features[target==1]\n",
    "    features_null=features[target==0]\n",
    "    \n",
    "    #уменьшаем количество объектов отрицательного класса и соединяем обратно\n",
    "    \n",
    "    downsampling_features=pd.concat([features_null.sample(frac=fraction, random_state=12345)] + [features_one])\n",
    "    downsampling_target = pd.concat([target_null.sample(frac=fraction, random_state=12345)] + [target_one])\n",
    "    \n",
    "    # Перемешиваем\n",
    "    downsampling_features,downsampling_target=shuffle(downsampling_features,downsampling_target,random_state=1234)\n",
    "    \n",
    "    return downsampling_features,downsampling_target"
   ]
  },
  {
   "cell_type": "code",
   "execution_count": 33,
   "id": "293c0553",
   "metadata": {},
   "outputs": [],
   "source": [
    "features_balance_down,target_balance_down=downsampling(train_features,train_target, 0.8)"
   ]
  },
  {
   "cell_type": "code",
   "execution_count": 34,
   "id": "64337f3a",
   "metadata": {},
   "outputs": [
    {
     "name": "stdout",
     "output_type": "stream",
     "text": [
      "Размеры выборок после увеличения положительного класса:\n",
      "features_balance_up (144, 13)\n",
      "target_balance_up (144,)\n",
      "соотношение классов после увеличения выборки: 1.0\n"
     ]
    }
   ],
   "source": [
    "print('Размеры выборок после увеличения положительного класса:')\n",
    "print('features_balance_up', features_balance_down.shape)\n",
    "print('target_balance_up', target_balance_down.shape)\n",
    "print('соотношение классов после увеличения выборки:',round(\n",
    "    (target_balance_down[target_balance_down ==0].count()/target_balance_down[target_balance_down==1].count()),2))"
   ]
  },
  {
   "cell_type": "markdown",
   "id": "9abbc7d5",
   "metadata": {},
   "source": [
    "### Модели после работы с дисбалансом"
   ]
  },
  {
   "cell_type": "markdown",
   "id": "603b41b0",
   "metadata": {},
   "source": [
    "#### Модель DecisionTree"
   ]
  },
  {
   "cell_type": "code",
   "execution_count": 35,
   "id": "47e01c63",
   "metadata": {},
   "outputs": [
    {
     "data": {
      "text/plain": [
       "GridSearchCV(cv=5, estimator=DecisionTreeClassifier(random_state=12345),\n",
       "             param_grid={'class_weight': ['balanced'],\n",
       "                         'criterion': ['gini', 'entropy'],\n",
       "                         'max_depth': [5, 10, 15, 20]},\n",
       "             scoring='f1')"
      ]
     },
     "execution_count": 35,
     "metadata": {},
     "output_type": "execute_result"
    }
   ],
   "source": [
    "# Подберем оптимальные параметры для модели решающего дерева с параметром class_weight = 'balanced'\n",
    "\n",
    "parameters = {\n",
    "    'criterion' : ['gini', 'entropy'],\n",
    "    'max_depth':[5,10,15,20],\n",
    "    'class_weight' : ['balanced']\n",
    "}\n",
    "\n",
    "dtc = DecisionTreeClassifier(random_state=12345)\n",
    "\n",
    "clf_dtc_b = GridSearchCV(\n",
    "    estimator = dtc,\n",
    "    param_grid = parameters,\n",
    "    scoring = 'f1',\n",
    "    cv=5)\n",
    "\n",
    "clf_dtc_b.fit(train_features, train_target)"
   ]
  },
  {
   "cell_type": "code",
   "execution_count": 36,
   "id": "7bc349f4",
   "metadata": {},
   "outputs": [
    {
     "name": "stdout",
     "output_type": "stream",
     "text": [
      "F1: 0.6428571428571429\n"
     ]
    }
   ],
   "source": [
    "# Обучим модель решающего дерева с лучшими гиперпараметрами и с параметром class_weight = 'balanced'. \n",
    "# Рассчитаем метрики на тестовой выборке\n",
    "model_tree = clf_dtc.best_estimator_.fit(features_balance_up,target_balance_up)\n",
    "prediction_tree = model_tree.predict(test_features)\n",
    "print(\"F1:\", f1_score(test_target,prediction_tree))"
   ]
  },
  {
   "cell_type": "markdown",
   "id": "71d8088a",
   "metadata": {},
   "source": [
    "#### Модель Логистическая регрессия"
   ]
  },
  {
   "cell_type": "code",
   "execution_count": 37,
   "id": "160a3746",
   "metadata": {},
   "outputs": [
    {
     "name": "stdout",
     "output_type": "stream",
     "text": [
      "accuracy: 0.86\n",
      "precision: 0.91\n",
      "recall: 0.88\n",
      "F1: 0.89\n"
     ]
    }
   ],
   "source": [
    "model = LogisticRegression(random_state=12345, solver='liblinear', class_weight='balanced')\n",
    "model.fit(train_features,train_target)\n",
    "predicted_valid = model.predict(valid_features)\n",
    "print(\"accuracy:\", round ((model_logistic.score(train_features,train_target)),2))\n",
    "print(\"precision:\", round((precision_score(valid_target, prediction)),2))\n",
    "print(\"recall:\", round((recall_score(valid_target, prediction)),2))\n",
    "print('F1:', round ((f1_score(valid_target,prediction)),2))"
   ]
  },
  {
   "cell_type": "markdown",
   "id": "e0b90615",
   "metadata": {},
   "source": [
    "### график AUC-ROC"
   ]
  },
  {
   "cell_type": "markdown",
   "id": "55a7a557",
   "metadata": {},
   "source": [
    "Модель Логистическая регрессия"
   ]
  },
  {
   "cell_type": "code",
   "execution_count": 38,
   "id": "d507f9ee",
   "metadata": {},
   "outputs": [
    {
     "data": {
      "text/plain": [
       "0.9555555555555555"
      ]
     },
     "execution_count": 38,
     "metadata": {},
     "output_type": "execute_result"
    }
   ],
   "source": [
    "probabilities_reg=model_logistic.predict_proba(valid_features)\n",
    "probabilities_one_valid_reg=probabilities_reg[:,1]\n",
    "fpr_log,tpr_log,thresholds=roc_curve(valid_target,probabilities_one_valid_reg)\n",
    "auc_roc_reg=roc_auc_score(valid_target,probabilities_one_valid_reg)\n",
    "auc_roc_reg"
   ]
  },
  {
   "cell_type": "markdown",
   "id": "32d525a2",
   "metadata": {},
   "source": [
    "#### Модель Random forest"
   ]
  },
  {
   "cell_type": "code",
   "execution_count": 39,
   "id": "1aae4215",
   "metadata": {},
   "outputs": [
    {
     "name": "stdout",
     "output_type": "stream",
     "text": [
      "Лучшее значение f1 = 0.91 при max_depth = 4 и min_samples_leaf = 1\n"
     ]
    }
   ],
   "source": [
    "# Подбираем лучшие гиперпараметры для построения модели Random forest при устранении дисбаланса \n",
    "# аргументом class_weight='balanced' \n",
    "best_depth = 0\n",
    "best_f1 = 0\n",
    "best_msl = 0 \n",
    "for depth in range(1, 10):\n",
    "    for msl in range(1, 11,2):\n",
    "        model_forest = RandomForestClassifier(random_state=12345, max_depth=depth, \n",
    "                                              min_samples_leaf = msl, class_weight='balanced')\n",
    "        model_forest.fit(train_features,train_target)\n",
    "        forest_prediction = model_forest.predict(valid_features)\n",
    "        result = f1_score(valid_target, forest_prediction)\n",
    "        if result > best_f1:\n",
    "            best_depth = depth\n",
    "            best_msl = msl\n",
    "            best_f1 = result\n",
    "            \n",
    "print(\"Лучшее значение f1 =\", round((best_f1),2), \"при max_depth =\", best_depth, \"и min_samples_leaf =\", best_msl)   "
   ]
  },
  {
   "cell_type": "code",
   "execution_count": 40,
   "id": "232cb070",
   "metadata": {},
   "outputs": [
    {
     "name": "stdout",
     "output_type": "stream",
     "text": [
      "accuracy: 0.93\n",
      "precision: 0.95\n",
      "recall: 0.88\n",
      "F1: 0.91\n",
      "AUC ROC: 0.9347\n",
      "confusion_matrix:\n",
      "[[29  1]\n",
      " [ 3 21]]\n"
     ]
    }
   ],
   "source": [
    "model_forest = RandomForestClassifier(random_state=12345, max_depth = 4, min_samples_leaf = 1, class_weight='balanced') \n",
    "model_forest.fit(train_features,train_target)        \n",
    "forest_prediction = model_forest.predict(valid_features)\n",
    "print(\"accuracy:\", round ((model_forest.score(valid_features,valid_target)),2))\n",
    "print(\"precision:\", round((precision_score(valid_target, forest_prediction)),2))\n",
    "print(\"recall:\", round((recall_score(valid_target, forest_prediction)),2))\n",
    "print(\"F1:\", round ((f1_score(valid_target, forest_prediction)),2))\n",
    "print(\"AUC ROC:\", round(roc_auc_score(valid_target, (model_forest.predict_proba(valid_features))[:, 1]),4))\n",
    "print(\"confusion_matrix:\")\n",
    "print(confusion_matrix(valid_target, forest_prediction))"
   ]
  },
  {
   "cell_type": "code",
   "execution_count": 41,
   "id": "7924ff2a",
   "metadata": {},
   "outputs": [
    {
     "name": "stdout",
     "output_type": "stream",
     "text": [
      "Лучшие гиперпараметры для модели 'Случайный лес': {'max_depth': 6, 'min_samples_leaf': 5}\n"
     ]
    }
   ],
   "source": [
    "# Подбираем лучшие гиперпараметры для Random forest при устранении дисбаланса путем уменьшения числа объектов \n",
    "# отрицательного класса  \n",
    "parametrs = {'min_samples_leaf': range (1,11,2),\n",
    "             'max_depth': range (1,10)}\n",
    "model_forest = GridSearchCV(RandomForestClassifier(random_state=12345), parametrs, scoring='f1', cv=5)\n",
    "model_forest.fit(features_balance_down,target_balance_down)\n",
    "print(\"Лучшие гиперпараметры для модели 'Случайный лес':\", model_forest.best_params_)"
   ]
  },
  {
   "cell_type": "code",
   "execution_count": 42,
   "id": "7e881229",
   "metadata": {},
   "outputs": [
    {
     "name": "stdout",
     "output_type": "stream",
     "text": [
      "accuracy: 0.89\n",
      "precision: 0.91\n",
      "recall: 0.83\n",
      "F1: 0.87\n",
      "AUC ROC: 0.9431\n",
      "confusion_matrix:\n",
      "[[28  2]\n",
      " [ 4 20]]\n"
     ]
    }
   ],
   "source": [
    "model_forest = RandomForestClassifier(random_state=12345, max_depth = 6, min_samples_leaf = 5)\n",
    "model_forest.fit(features_balance_down,target_balance_down)        \n",
    "forest_prediction = model_forest.predict(valid_features)\n",
    "print(\"accuracy:\", round ((model_forest.score(valid_features,valid_target)),2))\n",
    "print(\"precision:\", round((precision_score(valid_target, forest_prediction)),2))\n",
    "print(\"recall:\", round((recall_score(valid_target, forest_prediction)),2))\n",
    "print(\"F1:\", round ((f1_score(valid_target, forest_prediction)),2))\n",
    "print(\"AUC ROC:\", round(roc_auc_score(valid_target, (model_forest.predict_proba(valid_features))[:, 1]),4))\n",
    "print(\"confusion_matrix:\")\n",
    "print(confusion_matrix(valid_target, forest_prediction))"
   ]
  },
  {
   "cell_type": "code",
   "execution_count": null,
   "id": "7dfba2d2",
   "metadata": {},
   "outputs": [],
   "source": []
  }
 ],
 "metadata": {
  "kernelspec": {
   "display_name": "Python 3 (ipykernel)",
   "language": "python",
   "name": "python3"
  },
  "language_info": {
   "codemirror_mode": {
    "name": "ipython",
    "version": 3
   },
   "file_extension": ".py",
   "mimetype": "text/x-python",
   "name": "python",
   "nbconvert_exporter": "python",
   "pygments_lexer": "ipython3",
   "version": "3.9.13"
  }
 },
 "nbformat": 4,
 "nbformat_minor": 5
}
