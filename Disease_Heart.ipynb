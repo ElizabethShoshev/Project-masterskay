{
 "cells": [
  {
   "cell_type": "markdown",
   "id": "d77e7916",
   "metadata": {},
   "source": [
    "# Исследование: Прогноз сердечных заболеваний\n",
    "\n",
    "## Содержание: основной причиной смерти в развитых странах являются болезни сердца. Поэтому необходимо проделать работу, чтобы помочь предотвратить риск сердечного приступа или инсульта.\n",
    "\n",
    "## Постановка задачи: использовать имеющийся набор данных, чтобы предсказать, какие пациенты с наибольшей вероятностью будут страдать от сердечно-сосудистых заболеваний в ближайшем будущем.\n",
    "\n",
    "#### Материал взят из репозитория машинного обучения Калифорнийского университета в Ирвине по адресу https://archive.ics.uci.edu/ml/datasets/Heart+Disease."
   ]
  },
  {
   "cell_type": "markdown",
   "id": "01e033ca",
   "metadata": {},
   "source": [
    "## Шаг 1. Откроем файл с данными и прочитаем его"
   ]
  },
  {
   "cell_type": "code",
   "execution_count": 1,
   "id": "343e4fda",
   "metadata": {},
   "outputs": [],
   "source": [
    "#Импорт библиотек и различных метрик для работы \n",
    "import pandas as pd\n",
    "import numpy as np\n",
    "import matplotlib.pyplot as plt\n",
    "import seaborn as sns\n",
    "from numpy.random import RandomState\n",
    "from sklearn.model_selection import train_test_split\n",
    "from sklearn.linear_model import LogisticRegression\n",
    "from sklearn.tree import DecisionTreeClassifier\n",
    "from sklearn.ensemble import RandomForestClassifier\n",
    "from sklearn.metrics import mean_absolute_error\n",
    "from sklearn.dummy import DummyClassifier\n",
    "from sklearn.preprocessing import OrdinalEncoder\n",
    "from sklearn.preprocessing import StandardScaler\n",
    "from sklearn.utils import shuffle\n",
    "from sklearn.model_selection import train_test_split,cross_val_score, GridSearchCV, StratifiedShuffleSplit\n",
    "from sklearn.metrics import accuracy_score, roc_curve, roc_auc_score, confusion_matrix, recall_score, precision_score, f1_score\n",
    "import warnings\n",
    "warnings.filterwarnings('ignore')"
   ]
  },
  {
   "cell_type": "code",
   "execution_count": 2,
   "id": "a8a7453c",
   "metadata": {},
   "outputs": [],
   "source": [
    "data = pd.read_csv('C:/Users/Admin/Desktop/masterskaya/Heart_Disease_Prediction.csv') "
   ]
  },
  {
   "cell_type": "code",
   "execution_count": 3,
   "id": "632a61cd",
   "metadata": {},
   "outputs": [
    {
     "name": "stdout",
     "output_type": "stream",
     "text": [
      "<class 'pandas.core.frame.DataFrame'>\n",
      "RangeIndex: 270 entries, 0 to 269\n",
      "Data columns (total 14 columns):\n",
      " #   Column                   Non-Null Count  Dtype  \n",
      "---  ------                   --------------  -----  \n",
      " 0   Age                      270 non-null    int64  \n",
      " 1   Sex                      270 non-null    int64  \n",
      " 2   Chest pain type          270 non-null    int64  \n",
      " 3   BP                       270 non-null    int64  \n",
      " 4   Cholesterol              270 non-null    int64  \n",
      " 5   FBS over 120             270 non-null    int64  \n",
      " 6   EKG results              270 non-null    int64  \n",
      " 7   Max HR                   270 non-null    int64  \n",
      " 8   Exercise angina          270 non-null    int64  \n",
      " 9   ST depression            270 non-null    float64\n",
      " 10  Slope of ST              270 non-null    int64  \n",
      " 11  Number of vessels fluro  270 non-null    int64  \n",
      " 12  Thallium                 270 non-null    int64  \n",
      " 13  Heart Disease            270 non-null    object \n",
      "dtypes: float64(1), int64(12), object(1)\n",
      "memory usage: 29.7+ KB\n"
     ]
    },
    {
     "data": {
      "text/html": [
       "<div>\n",
       "<style scoped>\n",
       "    .dataframe tbody tr th:only-of-type {\n",
       "        vertical-align: middle;\n",
       "    }\n",
       "\n",
       "    .dataframe tbody tr th {\n",
       "        vertical-align: top;\n",
       "    }\n",
       "\n",
       "    .dataframe thead th {\n",
       "        text-align: right;\n",
       "    }\n",
       "</style>\n",
       "<table border=\"1\" class=\"dataframe\">\n",
       "  <thead>\n",
       "    <tr style=\"text-align: right;\">\n",
       "      <th></th>\n",
       "      <th>Age</th>\n",
       "      <th>Sex</th>\n",
       "      <th>Chest pain type</th>\n",
       "      <th>BP</th>\n",
       "      <th>Cholesterol</th>\n",
       "      <th>FBS over 120</th>\n",
       "      <th>EKG results</th>\n",
       "      <th>Max HR</th>\n",
       "      <th>Exercise angina</th>\n",
       "      <th>ST depression</th>\n",
       "      <th>Slope of ST</th>\n",
       "      <th>Number of vessels fluro</th>\n",
       "      <th>Thallium</th>\n",
       "      <th>Heart Disease</th>\n",
       "    </tr>\n",
       "  </thead>\n",
       "  <tbody>\n",
       "    <tr>\n",
       "      <th>0</th>\n",
       "      <td>70</td>\n",
       "      <td>1</td>\n",
       "      <td>4</td>\n",
       "      <td>130</td>\n",
       "      <td>322</td>\n",
       "      <td>0</td>\n",
       "      <td>2</td>\n",
       "      <td>109</td>\n",
       "      <td>0</td>\n",
       "      <td>2.4</td>\n",
       "      <td>2</td>\n",
       "      <td>3</td>\n",
       "      <td>3</td>\n",
       "      <td>Presence</td>\n",
       "    </tr>\n",
       "    <tr>\n",
       "      <th>1</th>\n",
       "      <td>67</td>\n",
       "      <td>0</td>\n",
       "      <td>3</td>\n",
       "      <td>115</td>\n",
       "      <td>564</td>\n",
       "      <td>0</td>\n",
       "      <td>2</td>\n",
       "      <td>160</td>\n",
       "      <td>0</td>\n",
       "      <td>1.6</td>\n",
       "      <td>2</td>\n",
       "      <td>0</td>\n",
       "      <td>7</td>\n",
       "      <td>Absence</td>\n",
       "    </tr>\n",
       "    <tr>\n",
       "      <th>2</th>\n",
       "      <td>57</td>\n",
       "      <td>1</td>\n",
       "      <td>2</td>\n",
       "      <td>124</td>\n",
       "      <td>261</td>\n",
       "      <td>0</td>\n",
       "      <td>0</td>\n",
       "      <td>141</td>\n",
       "      <td>0</td>\n",
       "      <td>0.3</td>\n",
       "      <td>1</td>\n",
       "      <td>0</td>\n",
       "      <td>7</td>\n",
       "      <td>Presence</td>\n",
       "    </tr>\n",
       "    <tr>\n",
       "      <th>3</th>\n",
       "      <td>64</td>\n",
       "      <td>1</td>\n",
       "      <td>4</td>\n",
       "      <td>128</td>\n",
       "      <td>263</td>\n",
       "      <td>0</td>\n",
       "      <td>0</td>\n",
       "      <td>105</td>\n",
       "      <td>1</td>\n",
       "      <td>0.2</td>\n",
       "      <td>2</td>\n",
       "      <td>1</td>\n",
       "      <td>7</td>\n",
       "      <td>Absence</td>\n",
       "    </tr>\n",
       "    <tr>\n",
       "      <th>4</th>\n",
       "      <td>74</td>\n",
       "      <td>0</td>\n",
       "      <td>2</td>\n",
       "      <td>120</td>\n",
       "      <td>269</td>\n",
       "      <td>0</td>\n",
       "      <td>2</td>\n",
       "      <td>121</td>\n",
       "      <td>1</td>\n",
       "      <td>0.2</td>\n",
       "      <td>1</td>\n",
       "      <td>1</td>\n",
       "      <td>3</td>\n",
       "      <td>Absence</td>\n",
       "    </tr>\n",
       "    <tr>\n",
       "      <th>...</th>\n",
       "      <td>...</td>\n",
       "      <td>...</td>\n",
       "      <td>...</td>\n",
       "      <td>...</td>\n",
       "      <td>...</td>\n",
       "      <td>...</td>\n",
       "      <td>...</td>\n",
       "      <td>...</td>\n",
       "      <td>...</td>\n",
       "      <td>...</td>\n",
       "      <td>...</td>\n",
       "      <td>...</td>\n",
       "      <td>...</td>\n",
       "      <td>...</td>\n",
       "    </tr>\n",
       "    <tr>\n",
       "      <th>265</th>\n",
       "      <td>52</td>\n",
       "      <td>1</td>\n",
       "      <td>3</td>\n",
       "      <td>172</td>\n",
       "      <td>199</td>\n",
       "      <td>1</td>\n",
       "      <td>0</td>\n",
       "      <td>162</td>\n",
       "      <td>0</td>\n",
       "      <td>0.5</td>\n",
       "      <td>1</td>\n",
       "      <td>0</td>\n",
       "      <td>7</td>\n",
       "      <td>Absence</td>\n",
       "    </tr>\n",
       "    <tr>\n",
       "      <th>266</th>\n",
       "      <td>44</td>\n",
       "      <td>1</td>\n",
       "      <td>2</td>\n",
       "      <td>120</td>\n",
       "      <td>263</td>\n",
       "      <td>0</td>\n",
       "      <td>0</td>\n",
       "      <td>173</td>\n",
       "      <td>0</td>\n",
       "      <td>0.0</td>\n",
       "      <td>1</td>\n",
       "      <td>0</td>\n",
       "      <td>7</td>\n",
       "      <td>Absence</td>\n",
       "    </tr>\n",
       "    <tr>\n",
       "      <th>267</th>\n",
       "      <td>56</td>\n",
       "      <td>0</td>\n",
       "      <td>2</td>\n",
       "      <td>140</td>\n",
       "      <td>294</td>\n",
       "      <td>0</td>\n",
       "      <td>2</td>\n",
       "      <td>153</td>\n",
       "      <td>0</td>\n",
       "      <td>1.3</td>\n",
       "      <td>2</td>\n",
       "      <td>0</td>\n",
       "      <td>3</td>\n",
       "      <td>Absence</td>\n",
       "    </tr>\n",
       "    <tr>\n",
       "      <th>268</th>\n",
       "      <td>57</td>\n",
       "      <td>1</td>\n",
       "      <td>4</td>\n",
       "      <td>140</td>\n",
       "      <td>192</td>\n",
       "      <td>0</td>\n",
       "      <td>0</td>\n",
       "      <td>148</td>\n",
       "      <td>0</td>\n",
       "      <td>0.4</td>\n",
       "      <td>2</td>\n",
       "      <td>0</td>\n",
       "      <td>6</td>\n",
       "      <td>Absence</td>\n",
       "    </tr>\n",
       "    <tr>\n",
       "      <th>269</th>\n",
       "      <td>67</td>\n",
       "      <td>1</td>\n",
       "      <td>4</td>\n",
       "      <td>160</td>\n",
       "      <td>286</td>\n",
       "      <td>0</td>\n",
       "      <td>2</td>\n",
       "      <td>108</td>\n",
       "      <td>1</td>\n",
       "      <td>1.5</td>\n",
       "      <td>2</td>\n",
       "      <td>3</td>\n",
       "      <td>3</td>\n",
       "      <td>Presence</td>\n",
       "    </tr>\n",
       "  </tbody>\n",
       "</table>\n",
       "<p>270 rows × 14 columns</p>\n",
       "</div>"
      ],
      "text/plain": [
       "     Age  Sex  Chest pain type   BP  Cholesterol  FBS over 120  EKG results  \\\n",
       "0     70    1                4  130          322             0            2   \n",
       "1     67    0                3  115          564             0            2   \n",
       "2     57    1                2  124          261             0            0   \n",
       "3     64    1                4  128          263             0            0   \n",
       "4     74    0                2  120          269             0            2   \n",
       "..   ...  ...              ...  ...          ...           ...          ...   \n",
       "265   52    1                3  172          199             1            0   \n",
       "266   44    1                2  120          263             0            0   \n",
       "267   56    0                2  140          294             0            2   \n",
       "268   57    1                4  140          192             0            0   \n",
       "269   67    1                4  160          286             0            2   \n",
       "\n",
       "     Max HR  Exercise angina  ST depression  Slope of ST  \\\n",
       "0       109                0            2.4            2   \n",
       "1       160                0            1.6            2   \n",
       "2       141                0            0.3            1   \n",
       "3       105                1            0.2            2   \n",
       "4       121                1            0.2            1   \n",
       "..      ...              ...            ...          ...   \n",
       "265     162                0            0.5            1   \n",
       "266     173                0            0.0            1   \n",
       "267     153                0            1.3            2   \n",
       "268     148                0            0.4            2   \n",
       "269     108                1            1.5            2   \n",
       "\n",
       "     Number of vessels fluro  Thallium Heart Disease  \n",
       "0                          3         3      Presence  \n",
       "1                          0         7       Absence  \n",
       "2                          0         7      Presence  \n",
       "3                          1         7       Absence  \n",
       "4                          1         3       Absence  \n",
       "..                       ...       ...           ...  \n",
       "265                        0         7       Absence  \n",
       "266                        0         7       Absence  \n",
       "267                        0         3       Absence  \n",
       "268                        0         6       Absence  \n",
       "269                        3         3      Presence  \n",
       "\n",
       "[270 rows x 14 columns]"
      ]
     },
     "metadata": {},
     "output_type": "display_data"
    }
   ],
   "source": [
    "data.info()\n",
    "display (data)"
   ]
  },
  {
   "cell_type": "markdown",
   "id": "5f1f41b5",
   "metadata": {},
   "source": [
    "В данном датасете 13 признаков, целевой признак (Heart Disease), 269 строк."
   ]
  },
  {
   "cell_type": "markdown",
   "id": "069b409c",
   "metadata": {},
   "source": [
    "### Описание данных\n",
    "\n",
    "Age: The person’s age in years\n",
    "\n",
    "Sex: The person’s sex (1 = male, 0 = female)\n",
    "\n",
    "Chest pain type: chest pain type:\n",
    "                 Value 1: asymptomatic\n",
    "                 Value 2: atypical angina\n",
    "                 Value 3: non-anginal pain\n",
    "                 Value 4: typical angina\n",
    "\n",
    "BP: The person’s resting blood pressure (mm Hg on admission to the hospital)\n",
    "\n",
    "Cholesterol: The person’s cholesterol measurement in mg/dl\n",
    "\n",
    "FBS over 120: The person’s fasting blood sugar (> 120 mg/dl, 1 = true; 0 = false)\n",
    "\n",
    "EKG results: resting electrocardiographic results — \n",
    "             Value 0: showing probable or definite left ventricular hypertrophy by Estes’ criteria\n",
    "             Value 1: normal \n",
    "             Value 2: having ST-T wave abnormality (T wave inversions and/or ST elevation or depression of > 0.05 mV)\n",
    "\n",
    "Max HR: The person’s maximum heart rate achieved\n",
    "\n",
    "Exercise angina: Exercise induced angina (1 = yes; 0 = no)\n",
    "\n",
    "ST depression: ST depression induced by exercise relative to rest (‘ST’ relates to positions on the ECG plot. See more here)\n",
    "\n",
    "Slope of ST: the slope of the peak exercise ST segment \n",
    "             0: downsloping; \n",
    "             1: flat; \n",
    "             2: upsloping\n",
    "\n",
    "Number of vessels fluro: The number of major vessels (0–3)\n",
    "\n",
    "\n",
    "\n",
    "\n",
    "\n",
    "Thallium: A blood disorder called thalassemia \n",
    "          Value 0: NULL (dropped from the dataset previously \n",
    "          Value 1: fixed defect (no blood flow in some part of the heart) \n",
    "          Value 2: normal blood flow \n",
    "          Value 3: reversible defect (a blood flow is observed but it is not normal)\t\n",
    "\n",
    "target: Heart Disease ((1 = yes(Presence), 0 = no(Absence)))\n",
    "\n"
   ]
  },
  {
   "cell_type": "markdown",
   "id": "4d7c2c29",
   "metadata": {},
   "source": [
    "Вывод: В данных оставим все столбцы, т.к. одни или другие проблемы со здоровьем могут стать причиной сердечно-сосудистых заболеваний"
   ]
  },
  {
   "cell_type": "markdown",
   "id": "67bdfe84",
   "metadata": {},
   "source": [
    "# Шаг 2. Предобработка и исследовательский анализ данных"
   ]
  },
  {
   "cell_type": "code",
   "execution_count": 4,
   "id": "04be84c2",
   "metadata": {},
   "outputs": [
    {
     "data": {
      "text/html": [
       "<div>\n",
       "<style scoped>\n",
       "    .dataframe tbody tr th:only-of-type {\n",
       "        vertical-align: middle;\n",
       "    }\n",
       "\n",
       "    .dataframe tbody tr th {\n",
       "        vertical-align: top;\n",
       "    }\n",
       "\n",
       "    .dataframe thead th {\n",
       "        text-align: right;\n",
       "    }\n",
       "</style>\n",
       "<table border=\"1\" class=\"dataframe\">\n",
       "  <thead>\n",
       "    <tr style=\"text-align: right;\">\n",
       "      <th></th>\n",
       "      <th>age</th>\n",
       "      <th>sex</th>\n",
       "      <th>chest_pain_type</th>\n",
       "      <th>bp</th>\n",
       "      <th>cholesterol</th>\n",
       "      <th>fbs_over_120</th>\n",
       "      <th>ekg_results</th>\n",
       "      <th>max_hr</th>\n",
       "      <th>exercise_angina</th>\n",
       "      <th>st_depression</th>\n",
       "      <th>slope_of_st</th>\n",
       "      <th>number_of_vessels_fluro</th>\n",
       "      <th>thallium</th>\n",
       "      <th>heart_disease</th>\n",
       "    </tr>\n",
       "  </thead>\n",
       "  <tbody>\n",
       "    <tr>\n",
       "      <th>0</th>\n",
       "      <td>70</td>\n",
       "      <td>1</td>\n",
       "      <td>4</td>\n",
       "      <td>130</td>\n",
       "      <td>322</td>\n",
       "      <td>0</td>\n",
       "      <td>2</td>\n",
       "      <td>109</td>\n",
       "      <td>0</td>\n",
       "      <td>2.4</td>\n",
       "      <td>2</td>\n",
       "      <td>3</td>\n",
       "      <td>3</td>\n",
       "      <td>Presence</td>\n",
       "    </tr>\n",
       "    <tr>\n",
       "      <th>1</th>\n",
       "      <td>67</td>\n",
       "      <td>0</td>\n",
       "      <td>3</td>\n",
       "      <td>115</td>\n",
       "      <td>564</td>\n",
       "      <td>0</td>\n",
       "      <td>2</td>\n",
       "      <td>160</td>\n",
       "      <td>0</td>\n",
       "      <td>1.6</td>\n",
       "      <td>2</td>\n",
       "      <td>0</td>\n",
       "      <td>7</td>\n",
       "      <td>Absence</td>\n",
       "    </tr>\n",
       "    <tr>\n",
       "      <th>2</th>\n",
       "      <td>57</td>\n",
       "      <td>1</td>\n",
       "      <td>2</td>\n",
       "      <td>124</td>\n",
       "      <td>261</td>\n",
       "      <td>0</td>\n",
       "      <td>0</td>\n",
       "      <td>141</td>\n",
       "      <td>0</td>\n",
       "      <td>0.3</td>\n",
       "      <td>1</td>\n",
       "      <td>0</td>\n",
       "      <td>7</td>\n",
       "      <td>Presence</td>\n",
       "    </tr>\n",
       "    <tr>\n",
       "      <th>3</th>\n",
       "      <td>64</td>\n",
       "      <td>1</td>\n",
       "      <td>4</td>\n",
       "      <td>128</td>\n",
       "      <td>263</td>\n",
       "      <td>0</td>\n",
       "      <td>0</td>\n",
       "      <td>105</td>\n",
       "      <td>1</td>\n",
       "      <td>0.2</td>\n",
       "      <td>2</td>\n",
       "      <td>1</td>\n",
       "      <td>7</td>\n",
       "      <td>Absence</td>\n",
       "    </tr>\n",
       "    <tr>\n",
       "      <th>4</th>\n",
       "      <td>74</td>\n",
       "      <td>0</td>\n",
       "      <td>2</td>\n",
       "      <td>120</td>\n",
       "      <td>269</td>\n",
       "      <td>0</td>\n",
       "      <td>2</td>\n",
       "      <td>121</td>\n",
       "      <td>1</td>\n",
       "      <td>0.2</td>\n",
       "      <td>1</td>\n",
       "      <td>1</td>\n",
       "      <td>3</td>\n",
       "      <td>Absence</td>\n",
       "    </tr>\n",
       "    <tr>\n",
       "      <th>...</th>\n",
       "      <td>...</td>\n",
       "      <td>...</td>\n",
       "      <td>...</td>\n",
       "      <td>...</td>\n",
       "      <td>...</td>\n",
       "      <td>...</td>\n",
       "      <td>...</td>\n",
       "      <td>...</td>\n",
       "      <td>...</td>\n",
       "      <td>...</td>\n",
       "      <td>...</td>\n",
       "      <td>...</td>\n",
       "      <td>...</td>\n",
       "      <td>...</td>\n",
       "    </tr>\n",
       "    <tr>\n",
       "      <th>265</th>\n",
       "      <td>52</td>\n",
       "      <td>1</td>\n",
       "      <td>3</td>\n",
       "      <td>172</td>\n",
       "      <td>199</td>\n",
       "      <td>1</td>\n",
       "      <td>0</td>\n",
       "      <td>162</td>\n",
       "      <td>0</td>\n",
       "      <td>0.5</td>\n",
       "      <td>1</td>\n",
       "      <td>0</td>\n",
       "      <td>7</td>\n",
       "      <td>Absence</td>\n",
       "    </tr>\n",
       "    <tr>\n",
       "      <th>266</th>\n",
       "      <td>44</td>\n",
       "      <td>1</td>\n",
       "      <td>2</td>\n",
       "      <td>120</td>\n",
       "      <td>263</td>\n",
       "      <td>0</td>\n",
       "      <td>0</td>\n",
       "      <td>173</td>\n",
       "      <td>0</td>\n",
       "      <td>0.0</td>\n",
       "      <td>1</td>\n",
       "      <td>0</td>\n",
       "      <td>7</td>\n",
       "      <td>Absence</td>\n",
       "    </tr>\n",
       "    <tr>\n",
       "      <th>267</th>\n",
       "      <td>56</td>\n",
       "      <td>0</td>\n",
       "      <td>2</td>\n",
       "      <td>140</td>\n",
       "      <td>294</td>\n",
       "      <td>0</td>\n",
       "      <td>2</td>\n",
       "      <td>153</td>\n",
       "      <td>0</td>\n",
       "      <td>1.3</td>\n",
       "      <td>2</td>\n",
       "      <td>0</td>\n",
       "      <td>3</td>\n",
       "      <td>Absence</td>\n",
       "    </tr>\n",
       "    <tr>\n",
       "      <th>268</th>\n",
       "      <td>57</td>\n",
       "      <td>1</td>\n",
       "      <td>4</td>\n",
       "      <td>140</td>\n",
       "      <td>192</td>\n",
       "      <td>0</td>\n",
       "      <td>0</td>\n",
       "      <td>148</td>\n",
       "      <td>0</td>\n",
       "      <td>0.4</td>\n",
       "      <td>2</td>\n",
       "      <td>0</td>\n",
       "      <td>6</td>\n",
       "      <td>Absence</td>\n",
       "    </tr>\n",
       "    <tr>\n",
       "      <th>269</th>\n",
       "      <td>67</td>\n",
       "      <td>1</td>\n",
       "      <td>4</td>\n",
       "      <td>160</td>\n",
       "      <td>286</td>\n",
       "      <td>0</td>\n",
       "      <td>2</td>\n",
       "      <td>108</td>\n",
       "      <td>1</td>\n",
       "      <td>1.5</td>\n",
       "      <td>2</td>\n",
       "      <td>3</td>\n",
       "      <td>3</td>\n",
       "      <td>Presence</td>\n",
       "    </tr>\n",
       "  </tbody>\n",
       "</table>\n",
       "<p>270 rows × 14 columns</p>\n",
       "</div>"
      ],
      "text/plain": [
       "     age  sex  chest_pain_type   bp  cholesterol  fbs_over_120  ekg_results  \\\n",
       "0     70    1                4  130          322             0            2   \n",
       "1     67    0                3  115          564             0            2   \n",
       "2     57    1                2  124          261             0            0   \n",
       "3     64    1                4  128          263             0            0   \n",
       "4     74    0                2  120          269             0            2   \n",
       "..   ...  ...              ...  ...          ...           ...          ...   \n",
       "265   52    1                3  172          199             1            0   \n",
       "266   44    1                2  120          263             0            0   \n",
       "267   56    0                2  140          294             0            2   \n",
       "268   57    1                4  140          192             0            0   \n",
       "269   67    1                4  160          286             0            2   \n",
       "\n",
       "     max_hr  exercise_angina  st_depression  slope_of_st  \\\n",
       "0       109                0            2.4            2   \n",
       "1       160                0            1.6            2   \n",
       "2       141                0            0.3            1   \n",
       "3       105                1            0.2            2   \n",
       "4       121                1            0.2            1   \n",
       "..      ...              ...            ...          ...   \n",
       "265     162                0            0.5            1   \n",
       "266     173                0            0.0            1   \n",
       "267     153                0            1.3            2   \n",
       "268     148                0            0.4            2   \n",
       "269     108                1            1.5            2   \n",
       "\n",
       "     number_of_vessels_fluro  thallium heart_disease  \n",
       "0                          3         3      Presence  \n",
       "1                          0         7       Absence  \n",
       "2                          0         7      Presence  \n",
       "3                          1         7       Absence  \n",
       "4                          1         3       Absence  \n",
       "..                       ...       ...           ...  \n",
       "265                        0         7       Absence  \n",
       "266                        0         7       Absence  \n",
       "267                        0         3       Absence  \n",
       "268                        0         6       Absence  \n",
       "269                        3         3      Presence  \n",
       "\n",
       "[270 rows x 14 columns]"
      ]
     },
     "metadata": {},
     "output_type": "display_data"
    },
    {
     "data": {
      "text/plain": [
       "(270, 14)"
      ]
     },
     "execution_count": 4,
     "metadata": {},
     "output_type": "execute_result"
    }
   ],
   "source": [
    "#Изменим на змеиный шрифт названия столбцов и приведем к единообразию\n",
    "data = data.rename(columns = {'Heart Disease': 'heart_disease', 'Age': 'age', 'Sex': 'sex', \n",
    "                              'Chest pain type': 'chest_pain_type', 'BP': 'bp', 'Cholesterol': 'cholesterol', \n",
    "                              'FBS over 120': 'fbs_over_120', 'EKG results': 'ekg_results', 'Max HR': 'max_hr', \n",
    "                              'Exercise angina': 'exercise_angina', 'ST depression': 'st_depression', \n",
    "                              'Slope of ST': 'slope_of_st','Number of vessels fluro': 'number_of_vessels_fluro', \n",
    "                              'Thallium': 'thallium', 'Heart Disease': 'heart_disease' })\n",
    "#Проверим \n",
    "display(data)\n",
    "data.shape"
   ]
  },
  {
   "cell_type": "markdown",
   "id": "b2d5c601",
   "metadata": {},
   "source": [
    "##### Изучим данные на предмет наличия ошибок и аномалий"
   ]
  },
  {
   "cell_type": "code",
   "execution_count": 5,
   "id": "2c5f07ad",
   "metadata": {},
   "outputs": [
    {
     "name": "stdout",
     "output_type": "stream",
     "text": [
      "[29 34 35 37 38 39 40 41 42 43 44 45 46 47 48 49 50 51 52 53 54 55 56 57\n",
      " 58 59 60 61 62 63 64 65 66 67 68 69 70 71 74 76 77]\n",
      " \n",
      "[0 1]\n",
      " \n",
      "[1 2 3 4]\n",
      " \n",
      "[ 94 100 101 102 104 105 106 108 110 112 115 117 118 120 122 123 124 125\n",
      " 126 128 129 130 132 134 135 136 138 140 142 144 145 146 148 150 152 155\n",
      " 156 158 160 165 170 172 174 178 180 192 200]\n",
      " \n",
      "[126 141 149 160 164 166 167 168 172 174 175 177 178 180 182 183 184 185\n",
      " 186 188 192 193 195 196 197 198 199 200 201 203 204 205 206 207 208 209\n",
      " 210 211 212 213 214 215 216 217 218 219 220 221 222 223 224 225 226 227\n",
      " 228 229 230 231 232 233 234 235 236 237 239 240 242 243 244 245 246 247\n",
      " 248 249 250 252 253 254 255 256 257 258 259 260 261 262 263 264 265 266\n",
      " 267 268 269 270 271 273 274 275 276 277 281 282 283 284 286 288 289 290\n",
      " 293 294 295 298 299 300 302 303 304 305 306 307 308 309 311 313 315 318\n",
      " 319 321 322 325 326 327 330 335 340 341 353 354 360 394 407 409 417 564]\n",
      " \n",
      "[0 1]\n",
      " \n",
      "[0 1 2]\n",
      " \n",
      "[ 71  88  95  96  97  99 103 105 106 108 109 111 112 113 114 115 116 117\n",
      " 118 120 121 122 123 124 125 126 127 128 129 130 131 132 133 134 136 137\n",
      " 138 139 140 141 142 143 144 145 146 147 148 149 150 151 152 153 154 155\n",
      " 156 157 158 159 160 161 162 163 164 165 166 167 168 169 170 171 172 173\n",
      " 174 175 177 178 179 180 181 182 184 185 186 187 188 190 192 194 195 202]\n",
      " \n",
      "[0 1]\n",
      " \n",
      "[0.  0.1 0.2 0.3 0.4 0.5 0.6 0.7 0.8 0.9 1.  1.1 1.2 1.3 1.4 1.5 1.6 1.8\n",
      " 1.9 2.  2.1 2.2 2.3 2.4 2.5 2.6 2.8 2.9 3.  3.1 3.2 3.4 3.5 3.6 3.8 4.\n",
      " 4.2 5.6 6.2]\n",
      " \n",
      "[1 2 3]\n",
      " \n",
      "[0 1 2 3]\n",
      " \n",
      "[3 6 7]\n",
      " \n",
      "['Absence' 'Presence']\n"
     ]
    }
   ],
   "source": [
    "# Проверим уникальные значения \n",
    "\n",
    "print(data['age'].sort_values().unique())\n",
    "print(\" \")\n",
    "print(data['sex'].sort_values().unique())\n",
    "print(\" \")\n",
    "print(data['chest_pain_type'].sort_values().unique())\n",
    "print(\" \")\n",
    "print(data['bp'].sort_values().unique())\n",
    "print(\" \")\n",
    "print(data['cholesterol'].sort_values().unique())\n",
    "print(\" \")\n",
    "print(data['fbs_over_120'].sort_values().unique())\n",
    "print(\" \")\n",
    "print(data['ekg_results'].sort_values().unique())\n",
    "print(\" \")\n",
    "print(data['max_hr'].sort_values().unique())\n",
    "print(\" \")\n",
    "print(data['exercise_angina'].sort_values().unique())\n",
    "print(\" \")\n",
    "print(data['st_depression'].sort_values().unique())\n",
    "print(\" \")\n",
    "print(data['slope_of_st'].sort_values().unique())\n",
    "print(\" \")\n",
    "print(data['number_of_vessels_fluro'].sort_values().unique())\n",
    "print(\" \")\n",
    "print(data['thallium'].sort_values().unique())\n",
    "print(\" \")\n",
    "print(data['heart_disease'].sort_values().unique())"
   ]
  },
  {
   "cell_type": "code",
   "execution_count": 6,
   "id": "0bc320e1",
   "metadata": {},
   "outputs": [
    {
     "data": {
      "text/plain": [
       "age                        0\n",
       "sex                        0\n",
       "chest_pain_type            0\n",
       "bp                         0\n",
       "cholesterol                0\n",
       "fbs_over_120               0\n",
       "ekg_results                0\n",
       "max_hr                     0\n",
       "exercise_angina            0\n",
       "st_depression              0\n",
       "slope_of_st                0\n",
       "number_of_vessels_fluro    0\n",
       "thallium                   0\n",
       "heart_disease              0\n",
       "dtype: int64"
      ]
     },
     "execution_count": 6,
     "metadata": {},
     "output_type": "execute_result"
    }
   ],
   "source": [
    "# Проверяем наличие пропусков\n",
    "data.isna().sum()"
   ]
  },
  {
   "cell_type": "code",
   "execution_count": 7,
   "id": "870872eb",
   "metadata": {},
   "outputs": [
    {
     "data": {
      "text/plain": [
       "0"
      ]
     },
     "execution_count": 7,
     "metadata": {},
     "output_type": "execute_result"
    }
   ],
   "source": [
    "# Поиск дубликатов\n",
    "data.duplicated().sum()"
   ]
  },
  {
   "cell_type": "code",
   "execution_count": 8,
   "id": "15ef3aa2",
   "metadata": {},
   "outputs": [
    {
     "data": {
      "text/html": [
       "<div>\n",
       "<style scoped>\n",
       "    .dataframe tbody tr th:only-of-type {\n",
       "        vertical-align: middle;\n",
       "    }\n",
       "\n",
       "    .dataframe tbody tr th {\n",
       "        vertical-align: top;\n",
       "    }\n",
       "\n",
       "    .dataframe thead th {\n",
       "        text-align: right;\n",
       "    }\n",
       "</style>\n",
       "<table border=\"1\" class=\"dataframe\">\n",
       "  <thead>\n",
       "    <tr style=\"text-align: right;\">\n",
       "      <th></th>\n",
       "      <th>age</th>\n",
       "      <th>sex</th>\n",
       "      <th>chest_pain_type</th>\n",
       "      <th>bp</th>\n",
       "      <th>cholesterol</th>\n",
       "      <th>fbs_over_120</th>\n",
       "      <th>ekg_results</th>\n",
       "      <th>max_hr</th>\n",
       "      <th>exercise_angina</th>\n",
       "      <th>st_depression</th>\n",
       "      <th>slope_of_st</th>\n",
       "      <th>number_of_vessels_fluro</th>\n",
       "      <th>thallium</th>\n",
       "    </tr>\n",
       "  </thead>\n",
       "  <tbody>\n",
       "    <tr>\n",
       "      <th>count</th>\n",
       "      <td>270.000000</td>\n",
       "      <td>270.000000</td>\n",
       "      <td>270.000000</td>\n",
       "      <td>270.000000</td>\n",
       "      <td>270.000000</td>\n",
       "      <td>270.000000</td>\n",
       "      <td>270.000000</td>\n",
       "      <td>270.000000</td>\n",
       "      <td>270.000000</td>\n",
       "      <td>270.00000</td>\n",
       "      <td>270.000000</td>\n",
       "      <td>270.000000</td>\n",
       "      <td>270.000000</td>\n",
       "    </tr>\n",
       "    <tr>\n",
       "      <th>mean</th>\n",
       "      <td>54.433333</td>\n",
       "      <td>0.677778</td>\n",
       "      <td>3.174074</td>\n",
       "      <td>131.344444</td>\n",
       "      <td>249.659259</td>\n",
       "      <td>0.148148</td>\n",
       "      <td>1.022222</td>\n",
       "      <td>149.677778</td>\n",
       "      <td>0.329630</td>\n",
       "      <td>1.05000</td>\n",
       "      <td>1.585185</td>\n",
       "      <td>0.670370</td>\n",
       "      <td>4.696296</td>\n",
       "    </tr>\n",
       "    <tr>\n",
       "      <th>std</th>\n",
       "      <td>9.109067</td>\n",
       "      <td>0.468195</td>\n",
       "      <td>0.950090</td>\n",
       "      <td>17.861608</td>\n",
       "      <td>51.686237</td>\n",
       "      <td>0.355906</td>\n",
       "      <td>0.997891</td>\n",
       "      <td>23.165717</td>\n",
       "      <td>0.470952</td>\n",
       "      <td>1.14521</td>\n",
       "      <td>0.614390</td>\n",
       "      <td>0.943896</td>\n",
       "      <td>1.940659</td>\n",
       "    </tr>\n",
       "    <tr>\n",
       "      <th>min</th>\n",
       "      <td>29.000000</td>\n",
       "      <td>0.000000</td>\n",
       "      <td>1.000000</td>\n",
       "      <td>94.000000</td>\n",
       "      <td>126.000000</td>\n",
       "      <td>0.000000</td>\n",
       "      <td>0.000000</td>\n",
       "      <td>71.000000</td>\n",
       "      <td>0.000000</td>\n",
       "      <td>0.00000</td>\n",
       "      <td>1.000000</td>\n",
       "      <td>0.000000</td>\n",
       "      <td>3.000000</td>\n",
       "    </tr>\n",
       "    <tr>\n",
       "      <th>25%</th>\n",
       "      <td>48.000000</td>\n",
       "      <td>0.000000</td>\n",
       "      <td>3.000000</td>\n",
       "      <td>120.000000</td>\n",
       "      <td>213.000000</td>\n",
       "      <td>0.000000</td>\n",
       "      <td>0.000000</td>\n",
       "      <td>133.000000</td>\n",
       "      <td>0.000000</td>\n",
       "      <td>0.00000</td>\n",
       "      <td>1.000000</td>\n",
       "      <td>0.000000</td>\n",
       "      <td>3.000000</td>\n",
       "    </tr>\n",
       "    <tr>\n",
       "      <th>50%</th>\n",
       "      <td>55.000000</td>\n",
       "      <td>1.000000</td>\n",
       "      <td>3.000000</td>\n",
       "      <td>130.000000</td>\n",
       "      <td>245.000000</td>\n",
       "      <td>0.000000</td>\n",
       "      <td>2.000000</td>\n",
       "      <td>153.500000</td>\n",
       "      <td>0.000000</td>\n",
       "      <td>0.80000</td>\n",
       "      <td>2.000000</td>\n",
       "      <td>0.000000</td>\n",
       "      <td>3.000000</td>\n",
       "    </tr>\n",
       "    <tr>\n",
       "      <th>75%</th>\n",
       "      <td>61.000000</td>\n",
       "      <td>1.000000</td>\n",
       "      <td>4.000000</td>\n",
       "      <td>140.000000</td>\n",
       "      <td>280.000000</td>\n",
       "      <td>0.000000</td>\n",
       "      <td>2.000000</td>\n",
       "      <td>166.000000</td>\n",
       "      <td>1.000000</td>\n",
       "      <td>1.60000</td>\n",
       "      <td>2.000000</td>\n",
       "      <td>1.000000</td>\n",
       "      <td>7.000000</td>\n",
       "    </tr>\n",
       "    <tr>\n",
       "      <th>max</th>\n",
       "      <td>77.000000</td>\n",
       "      <td>1.000000</td>\n",
       "      <td>4.000000</td>\n",
       "      <td>200.000000</td>\n",
       "      <td>564.000000</td>\n",
       "      <td>1.000000</td>\n",
       "      <td>2.000000</td>\n",
       "      <td>202.000000</td>\n",
       "      <td>1.000000</td>\n",
       "      <td>6.20000</td>\n",
       "      <td>3.000000</td>\n",
       "      <td>3.000000</td>\n",
       "      <td>7.000000</td>\n",
       "    </tr>\n",
       "  </tbody>\n",
       "</table>\n",
       "</div>"
      ],
      "text/plain": [
       "              age         sex  chest_pain_type          bp  cholesterol  \\\n",
       "count  270.000000  270.000000       270.000000  270.000000   270.000000   \n",
       "mean    54.433333    0.677778         3.174074  131.344444   249.659259   \n",
       "std      9.109067    0.468195         0.950090   17.861608    51.686237   \n",
       "min     29.000000    0.000000         1.000000   94.000000   126.000000   \n",
       "25%     48.000000    0.000000         3.000000  120.000000   213.000000   \n",
       "50%     55.000000    1.000000         3.000000  130.000000   245.000000   \n",
       "75%     61.000000    1.000000         4.000000  140.000000   280.000000   \n",
       "max     77.000000    1.000000         4.000000  200.000000   564.000000   \n",
       "\n",
       "       fbs_over_120  ekg_results      max_hr  exercise_angina  st_depression  \\\n",
       "count    270.000000   270.000000  270.000000       270.000000      270.00000   \n",
       "mean       0.148148     1.022222  149.677778         0.329630        1.05000   \n",
       "std        0.355906     0.997891   23.165717         0.470952        1.14521   \n",
       "min        0.000000     0.000000   71.000000         0.000000        0.00000   \n",
       "25%        0.000000     0.000000  133.000000         0.000000        0.00000   \n",
       "50%        0.000000     2.000000  153.500000         0.000000        0.80000   \n",
       "75%        0.000000     2.000000  166.000000         1.000000        1.60000   \n",
       "max        1.000000     2.000000  202.000000         1.000000        6.20000   \n",
       "\n",
       "       slope_of_st  number_of_vessels_fluro    thallium  \n",
       "count   270.000000               270.000000  270.000000  \n",
       "mean      1.585185                 0.670370    4.696296  \n",
       "std       0.614390                 0.943896    1.940659  \n",
       "min       1.000000                 0.000000    3.000000  \n",
       "25%       1.000000                 0.000000    3.000000  \n",
       "50%       2.000000                 0.000000    3.000000  \n",
       "75%       2.000000                 1.000000    7.000000  \n",
       "max       3.000000                 3.000000    7.000000  "
      ]
     },
     "execution_count": 8,
     "metadata": {},
     "output_type": "execute_result"
    }
   ],
   "source": [
    "data.describe()"
   ]
  },
  {
   "cell_type": "markdown",
   "id": "55a82ee9",
   "metadata": {},
   "source": [
    "Вывод: данные чистые, предварительной обработки не потребовалось. Удалять столбцы не будем, т.к. это медицинские понятия и наличие одного или другого показателя может влиять на болезнь человека Целевой признак будет формироваться из колонки наличие болезни \"heart_disease\", т.к. в задании просят предсказать, какие пациенты с наибольшей вероятностью будут страдать от сердечно-сосудистых заболеваний."
   ]
  },
  {
   "cell_type": "markdown",
   "id": "c4c7c10f",
   "metadata": {},
   "source": [
    "##### Для изучения взаимозависимости данных составим матрицу корелляции некатегоризированных значений"
   ]
  },
  {
   "cell_type": "code",
   "execution_count": 9,
   "id": "c3ab8547",
   "metadata": {},
   "outputs": [
    {
     "name": "stdout",
     "output_type": "stream",
     "text": [
      "<class 'pandas.core.frame.DataFrame'>\n",
      "RangeIndex: 270 entries, 0 to 269\n",
      "Data columns (total 4 columns):\n",
      " #   Column       Non-Null Count  Dtype\n",
      "---  ------       --------------  -----\n",
      " 0   age          270 non-null    int64\n",
      " 1   bp           270 non-null    int64\n",
      " 2   cholesterol  270 non-null    int64\n",
      " 3   max_hr       270 non-null    int64\n",
      "dtypes: int64(4)\n",
      "memory usage: 8.6 KB\n"
     ]
    }
   ],
   "source": [
    "ds = data[['age', 'bp', 'cholesterol', 'max_hr']]\n",
    "ds.info()"
   ]
  },
  {
   "cell_type": "code",
   "execution_count": 10,
   "id": "d83de9f8",
   "metadata": {},
   "outputs": [
    {
     "data": {
      "image/png": "[encoded data removed]",
      "text/plain": [
       "<Figure size 1200x1200 with 16 Axes>"
      ]
     },
     "metadata": {},
     "output_type": "display_data"
    }
   ],
   "source": [
    "ax = pd.plotting.scatter_matrix(ds,figsize=(12, 12))"
   ]
  },
  {
   "cell_type": "markdown",
   "id": "d799ca93",
   "metadata": {},
   "source": [
    "Вывод: прослеживается связь между признакими такими как возраст и холестирол, холестерол и учащенное сердцебиение, возраст и учащенное сердцебиение."
   ]
  },
  {
   "cell_type": "markdown",
   "id": "e2959136",
   "metadata": {},
   "source": [
    "### Выделение признаков, целевого признака, деление данных на выборки"
   ]
  },
  {
   "cell_type": "markdown",
   "id": "23461c80",
   "metadata": {},
   "source": [
    "Целевой признак \"heart_disease_Presence\" представлен категориальными значениями. Для построения модели машинного обучения необходимо их перевести в численные. Для этого применим кодирование методом one hot encoding. "
   ]
  },
  {
   "cell_type": "markdown",
   "id": "d290a4dd",
   "metadata": {},
   "source": [
    "К прямому кодированию применим метод get_dummies() с аргументом drop_first=True, избежав \"ловушку фиктивных признаков\""
   ]
  },
  {
   "cell_type": "code",
   "execution_count": 11,
   "id": "bbe3d7d2",
   "metadata": {},
   "outputs": [
    {
     "data": {
      "text/html": [
       "<div>\n",
       "<style scoped>\n",
       "    .dataframe tbody tr th:only-of-type {\n",
       "        vertical-align: middle;\n",
       "    }\n",
       "\n",
       "    .dataframe tbody tr th {\n",
       "        vertical-align: top;\n",
       "    }\n",
       "\n",
       "    .dataframe thead th {\n",
       "        text-align: right;\n",
       "    }\n",
       "</style>\n",
       "<table border=\"1\" class=\"dataframe\">\n",
       "  <thead>\n",
       "    <tr style=\"text-align: right;\">\n",
       "      <th></th>\n",
       "      <th>age</th>\n",
       "      <th>sex</th>\n",
       "      <th>chest_pain_type</th>\n",
       "      <th>bp</th>\n",
       "      <th>cholesterol</th>\n",
       "      <th>fbs_over_120</th>\n",
       "      <th>ekg_results</th>\n",
       "      <th>max_hr</th>\n",
       "      <th>exercise_angina</th>\n",
       "      <th>st_depression</th>\n",
       "      <th>slope_of_st</th>\n",
       "      <th>number_of_vessels_fluro</th>\n",
       "      <th>thallium</th>\n",
       "      <th>heart_disease_Presence</th>\n",
       "    </tr>\n",
       "  </thead>\n",
       "  <tbody>\n",
       "    <tr>\n",
       "      <th>0</th>\n",
       "      <td>70</td>\n",
       "      <td>1</td>\n",
       "      <td>4</td>\n",
       "      <td>130</td>\n",
       "      <td>322</td>\n",
       "      <td>0</td>\n",
       "      <td>2</td>\n",
       "      <td>109</td>\n",
       "      <td>0</td>\n",
       "      <td>2.4</td>\n",
       "      <td>2</td>\n",
       "      <td>3</td>\n",
       "      <td>3</td>\n",
       "      <td>1</td>\n",
       "    </tr>\n",
       "    <tr>\n",
       "      <th>1</th>\n",
       "      <td>67</td>\n",
       "      <td>0</td>\n",
       "      <td>3</td>\n",
       "      <td>115</td>\n",
       "      <td>564</td>\n",
       "      <td>0</td>\n",
       "      <td>2</td>\n",
       "      <td>160</td>\n",
       "      <td>0</td>\n",
       "      <td>1.6</td>\n",
       "      <td>2</td>\n",
       "      <td>0</td>\n",
       "      <td>7</td>\n",
       "      <td>0</td>\n",
       "    </tr>\n",
       "    <tr>\n",
       "      <th>2</th>\n",
       "      <td>57</td>\n",
       "      <td>1</td>\n",
       "      <td>2</td>\n",
       "      <td>124</td>\n",
       "      <td>261</td>\n",
       "      <td>0</td>\n",
       "      <td>0</td>\n",
       "      <td>141</td>\n",
       "      <td>0</td>\n",
       "      <td>0.3</td>\n",
       "      <td>1</td>\n",
       "      <td>0</td>\n",
       "      <td>7</td>\n",
       "      <td>1</td>\n",
       "    </tr>\n",
       "    <tr>\n",
       "      <th>3</th>\n",
       "      <td>64</td>\n",
       "      <td>1</td>\n",
       "      <td>4</td>\n",
       "      <td>128</td>\n",
       "      <td>263</td>\n",
       "      <td>0</td>\n",
       "      <td>0</td>\n",
       "      <td>105</td>\n",
       "      <td>1</td>\n",
       "      <td>0.2</td>\n",
       "      <td>2</td>\n",
       "      <td>1</td>\n",
       "      <td>7</td>\n",
       "      <td>0</td>\n",
       "    </tr>\n",
       "    <tr>\n",
       "      <th>4</th>\n",
       "      <td>74</td>\n",
       "      <td>0</td>\n",
       "      <td>2</td>\n",
       "      <td>120</td>\n",
       "      <td>269</td>\n",
       "      <td>0</td>\n",
       "      <td>2</td>\n",
       "      <td>121</td>\n",
       "      <td>1</td>\n",
       "      <td>0.2</td>\n",
       "      <td>1</td>\n",
       "      <td>1</td>\n",
       "      <td>3</td>\n",
       "      <td>0</td>\n",
       "    </tr>\n",
       "  </tbody>\n",
       "</table>\n",
       "</div>"
      ],
      "text/plain": [
       "   age  sex  chest_pain_type   bp  cholesterol  fbs_over_120  ekg_results  \\\n",
       "0   70    1                4  130          322             0            2   \n",
       "1   67    0                3  115          564             0            2   \n",
       "2   57    1                2  124          261             0            0   \n",
       "3   64    1                4  128          263             0            0   \n",
       "4   74    0                2  120          269             0            2   \n",
       "\n",
       "   max_hr  exercise_angina  st_depression  slope_of_st  \\\n",
       "0     109                0            2.4            2   \n",
       "1     160                0            1.6            2   \n",
       "2     141                0            0.3            1   \n",
       "3     105                1            0.2            2   \n",
       "4     121                1            0.2            1   \n",
       "\n",
       "   number_of_vessels_fluro  thallium  heart_disease_Presence  \n",
       "0                        3         3                       1  \n",
       "1                        0         7                       0  \n",
       "2                        0         7                       1  \n",
       "3                        1         7                       0  \n",
       "4                        1         3                       0  "
      ]
     },
     "execution_count": 11,
     "metadata": {},
     "output_type": "execute_result"
    }
   ],
   "source": [
    "data_ohe=pd.get_dummies(data, drop_first=True)\n",
    "data_ohe.head()"
   ]
  },
  {
   "cell_type": "markdown",
   "id": "83116b7a",
   "metadata": {},
   "source": [
    "Выделяем признаки и целевой признак"
   ]
  },
  {
   "cell_type": "code",
   "execution_count": 12,
   "id": "57a00b67",
   "metadata": {},
   "outputs": [],
   "source": [
    "features=data_ohe.drop(['heart_disease_Presence'],axis=1) # Признаки\n",
    "target=data_ohe['heart_disease_Presence'] # Целевой признак"
   ]
  },
  {
   "cell_type": "markdown",
   "id": "e7de8647",
   "metadata": {},
   "source": [
    "#### Данные разобьем на три части: обучающую, валидационную и тестовую. Исходные данные разбиваем в соотношении 3:1:1."
   ]
  },
  {
   "cell_type": "code",
   "execution_count": 13,
   "id": "48464abf",
   "metadata": {},
   "outputs": [
    {
     "name": "stdout",
     "output_type": "stream",
     "text": [
      "train_features (162, 13)\n"
     ]
    }
   ],
   "source": [
    "train_features, test_features, train_target, test_target = train_test_split(features, target, \n",
    "                                                    train_size=0.6, \n",
    "                                                    random_state=12345,\n",
    "                                                    stratify=target,shuffle=True)\n",
    "print('train_features',train_features.shape)"
   ]
  },
  {
   "cell_type": "code",
   "execution_count": 14,
   "id": "87b54890",
   "metadata": {},
   "outputs": [],
   "source": [
    "test_features, valid_features, test_target, valid_target = train_test_split(test_features, test_target, \n",
    "                                                    train_size=0.5, \n",
    "                                                    random_state=12345,\n",
    "                                                    stratify= test_target, shuffle=True)"
   ]
  },
  {
   "cell_type": "markdown",
   "id": "954d89a8",
   "metadata": {},
   "source": [
    "Проверяем размеры выборок"
   ]
  },
  {
   "cell_type": "code",
   "execution_count": 15,
   "id": "71d0504d",
   "metadata": {},
   "outputs": [
    {
     "name": "stdout",
     "output_type": "stream",
     "text": [
      "Размеры выборок:\n",
      "train_features (162, 13)\n",
      "valid_features (54, 13)\n",
      "test_features (54, 13)\n",
      "train_target (162,)\n",
      "valid_target (54,)\n",
      "test_target (54,)\n"
     ]
    }
   ],
   "source": [
    "print('Размеры выборок:')\n",
    "print('train_features',train_features.shape)\n",
    "print('valid_features', valid_features.shape)\n",
    "print('test_features', test_features.shape)\n",
    "print('train_target', train_target.shape)\n",
    "print('valid_target', valid_target.shape)\n",
    "print('test_target', test_target.shape)"
   ]
  },
  {
   "cell_type": "markdown",
   "id": "f1983f4f",
   "metadata": {},
   "source": [
    "#####   Проверим соотношение классов"
   ]
  },
  {
   "cell_type": "code",
   "execution_count": 16,
   "id": "12a547fd",
   "metadata": {},
   "outputs": [
    {
     "name": "stdout",
     "output_type": "stream",
     "text": [
      "соотношение классов в исходном датасете: 1.25\n",
      "соотношение классов на учебной выборке: 1.25\n",
      "соотношение классов на валидационной выборке: 1.25\n",
      "соотношение классов на тестовой выборке: 1.25\n"
     ]
    }
   ],
   "source": [
    "print('соотношение классов в исходном датасете:', round((target[target == 0].count()/target[target == 1].count()),2))\n",
    "print('соотношение классов на учебной выборке:', round((train_target[train_target == 0\n",
    "                                                             ].count()/train_target[train_target == 1].count()),2))\n",
    "print('соотношение классов на валидационной выборке:', round((valid_target[valid_target == 0\n",
    "                                                                   ].count()/valid_target[valid_target == 1].count()),2))\n",
    "print('соотношение классов на тестовой выборке:', round((test_target[test_target == 0].count()/\n",
    "                                                         test_target[test_target == 1].count()),2))"
   ]
  },
  {
   "cell_type": "markdown",
   "id": "92f57d92",
   "metadata": {},
   "source": [
    "Соотношение классов на всех выбоках одинаково"
   ]
  },
  {
   "cell_type": "code",
   "execution_count": 17,
   "id": "0561f56a",
   "metadata": {},
   "outputs": [
    {
     "data": {
      "image/png": "[encoded data removed]",
      "text/plain": [
       "<Figure size 800x800 with 1 Axes>"
      ]
     },
     "metadata": {},
     "output_type": "display_data"
    }
   ],
   "source": [
    "a = data_ohe.groupby('heart_disease_Presence').size()\n",
    "a.plot(kind='pie', subplots=True, figsize=(8, 8))\n",
    "plt.title(\"Соотношение классов целевого признака\")\n",
    "plt.ylabel(\"\")\n",
    "plt.show()"
   ]
  },
  {
   "cell_type": "markdown",
   "id": "5a51da55",
   "metadata": {},
   "source": [
    "#### Построим baseline модель "
   ]
  },
  {
   "cell_type": "code",
   "execution_count": 18,
   "id": "05c1b84e",
   "metadata": {},
   "outputs": [],
   "source": [
    "STATE = RandomState(12345)"
   ]
  },
  {
   "cell_type": "code",
   "execution_count": 19,
   "id": "4258bbc1",
   "metadata": {},
   "outputs": [
    {
     "name": "stdout",
     "output_type": "stream",
     "text": [
      "accuracy: 0.7\n",
      "precision: 0.63\n",
      "recall: 0.79\n",
      "F1: 0.7\n",
      "AUC ROC: 0.71\n",
      "confusion_matrix:\n",
      "[[19 11]\n",
      " [ 5 19]]\n"
     ]
    },
    {
     "data": {
      "text/plain": [
       "['DT', 0.7, 0.7, 0.71]"
      ]
     },
     "execution_count": 19,
     "metadata": {},
     "output_type": "execute_result"
    }
   ],
   "source": [
    "# Строим модель DecisionTree при дисбалансе классов и гиперпараметрах по умолчанию \n",
    "model_tree = DecisionTreeClassifier(random_state=STATE)\n",
    "model_tree.fit(train_features,train_target)\n",
    "tree_prediction = model_tree.predict(valid_features)\n",
    "print(\"accuracy:\", round ((model_tree.score(valid_features,valid_target)),2))\n",
    "print(\"precision:\", round((precision_score(valid_target, tree_prediction)),2))\n",
    "print(\"recall:\", round((recall_score(valid_target, tree_prediction)),2))\n",
    "print(\"F1:\", round ((f1_score(valid_target,tree_prediction)),2))\n",
    "print(\"AUC ROC:\", round(roc_auc_score(valid_target, (model_tree.predict_proba(valid_features))[:, 1]),2))\n",
    "print(\"confusion_matrix:\")\n",
    "print(confusion_matrix(valid_target, tree_prediction))\n",
    "\n",
    "a = ['DT', round ((model_tree.score(valid_features,valid_target)),2)\n",
    "     ,round ((f1_score(valid_target,tree_prediction)),2)\n",
    "     ,round(roc_auc_score(valid_target, (model_tree.predict_proba(valid_features))[:, 1]),2)]\n",
    "a"
   ]
  },
  {
   "cell_type": "code",
   "execution_count": 20,
   "id": "8aa8bc88",
   "metadata": {},
   "outputs": [
    {
     "name": "stdout",
     "output_type": "stream",
     "text": [
      "accuracy: 0.85\n",
      "precision: 0.86\n",
      "recall: 0.79\n",
      "F1: 0.83\n",
      "AUC ROC: 0.94\n",
      "confusion_matrix:\n",
      "[[27  3]\n",
      " [ 5 19]]\n"
     ]
    },
    {
     "data": {
      "text/plain": [
       "['RF', 0.85, 0.83, 0.94]"
      ]
     },
     "execution_count": 20,
     "metadata": {},
     "output_type": "execute_result"
    }
   ],
   "source": [
    "# Строим модель  Random forest при дисбалансе классов и гиперпараметрах по умолчанию \n",
    "model_forest = RandomForestClassifier(random_state=STATE)\n",
    "model_forest.fit(train_features,train_target)        \n",
    "forest_prediction = model_forest.predict(valid_features)\n",
    "print(\"accuracy:\", round ((model_forest.score(valid_features,valid_target)),2))\n",
    "print(\"precision:\", round((precision_score(valid_target, forest_prediction)),2))\n",
    "print(\"recall:\", round((recall_score(valid_target, forest_prediction)),2))\n",
    "print(\"F1:\", round ((f1_score(valid_target, forest_prediction)),2))\n",
    "print(\"AUC ROC:\", round(roc_auc_score(valid_target, (model_forest.predict_proba(valid_features))[:, 1]),2))\n",
    "print(\"confusion_matrix:\")\n",
    "print(confusion_matrix(valid_target, forest_prediction))\n",
    "\n",
    "b = ['RF', round ((model_forest.score(valid_features,valid_target)),2)\n",
    "     ,round ((f1_score(valid_target, forest_prediction)),2)\n",
    "     ,round(roc_auc_score(valid_target, (model_forest.predict_proba(valid_features))[:, 1]),2)]\n",
    "b"
   ]
  },
  {
   "cell_type": "code",
   "execution_count": 21,
   "id": "951f0aae",
   "metadata": {},
   "outputs": [
    {
     "name": "stdout",
     "output_type": "stream",
     "text": [
      "accuracy: 0.91\n",
      "precision: 0.95\n",
      "recall: 0.83\n",
      "F1: 0.89\n",
      "AUC ROC: 0.94\n",
      "confusion_matrix:\n",
      "[[29  1]\n",
      " [ 4 20]]\n"
     ]
    },
    {
     "data": {
      "text/plain": [
       "['LR', 0.91, 0.89, 0.94]"
      ]
     },
     "execution_count": 21,
     "metadata": {},
     "output_type": "execute_result"
    }
   ],
   "source": [
    "# Построим логистическую регрессию до каких-либо улучшений моделей\n",
    "model_logistic=LogisticRegression(random_state=STATE).fit(train_features,train_target)\n",
    "prediction_logistic=model_logistic.predict(valid_features)\n",
    "print(\"accuracy:\", round ((model_logistic.score(valid_features,valid_target)),2))\n",
    "print(\"precision:\", round((precision_score(valid_target, prediction_logistic)),2))\n",
    "print(\"recall:\", round((recall_score(valid_target, prediction_logistic)),2))\n",
    "print(\"F1:\", round ((f1_score(valid_target, prediction_logistic)),2))\n",
    "print(\"AUC ROC:\", round(roc_auc_score(valid_target, (model_logistic.predict_proba(valid_features))[:, 1]),2))\n",
    "print(\"confusion_matrix:\")\n",
    "print(confusion_matrix(valid_target, prediction_logistic))\n",
    "\n",
    "c = ['LR', round ((model_logistic.score(valid_features,valid_target)),2)\n",
    "     ,round ((f1_score(valid_target, prediction_logistic)),2)\n",
    "     ,round(roc_auc_score(valid_target, (model_logistic.predict_proba(valid_features))[:, 1]),2)]\n",
    "c"
   ]
  },
  {
   "cell_type": "markdown",
   "id": "04666328",
   "metadata": {},
   "source": [
    "### ROC-кривая"
   ]
  },
  {
   "cell_type": "code",
   "execution_count": 22,
   "id": "a226d8be",
   "metadata": {},
   "outputs": [],
   "source": [
    "#Модель Дерево решений\n",
    "probabilities_tree=model_tree.predict_proba(valid_features)\n",
    "probabilities_one_valid_tree=probabilities_tree[:,1]\n",
    "fpr_tree,tpr_tree,thresholds=roc_curve(valid_target,probabilities_one_valid_tree)\n",
    "auc_roc_tree=roc_auc_score(valid_target,probabilities_one_valid_tree)\n",
    "#Модель Случайный лес\n",
    "probabilities_forest=model_forest.predict_proba(valid_features)\n",
    "probabilities_one_valid_forest=probabilities_forest[:,1]\n",
    "fpr_forest,tpr_forest,thresholds=roc_curve(valid_target,probabilities_one_valid_forest)\n",
    "auc_roc_forest=roc_auc_score(valid_target,probabilities_one_valid_forest)\n",
    "#Модель Логистическая регрессия\n",
    "probabilities_reg=model_logistic.predict_proba(valid_features)\n",
    "probabilities_one_valid_reg=probabilities_reg[:,1]\n",
    "fpr_log,tpr_log,thresholds=roc_curve(valid_target,probabilities_one_valid_reg)\n",
    "auc_roc_reg=roc_auc_score(valid_target,probabilities_one_valid_reg)"
   ]
  },
  {
   "cell_type": "code",
   "execution_count": 23,
   "id": "a1dafc3e",
   "metadata": {},
   "outputs": [
    {
     "data": {
      "text/plain": [
       "<Figure size 640x480 with 0 Axes>"
      ]
     },
     "metadata": {},
     "output_type": "display_data"
    },
    {
     "data": {
      "image/png": "[encoded data removed]",
      "text/plain": [
       "<Figure size 800x800 with 1 Axes>"
      ]
     },
     "metadata": {},
     "output_type": "display_data"
    }
   ],
   "source": [
    "plt.figure()\n",
    "\n",
    "plt.figure(figsize=(8,8))\n",
    "plt.plot([0, 1], [0, 1], linestyle='--')\n",
    "plt.xlim([0.0, 1.0])\n",
    "plt.ylim([0.0, 1.0])\n",
    "plt.plot(fpr_tree,tpr_tree)\n",
    "plt.plot(fpr_forest,tpr_forest)\n",
    "plt.plot(fpr_log,tpr_log)\n",
    "plt.xlabel('False Positive Rate')\n",
    "plt.ylabel('True Positive Rate')\n",
    "plt.title('ROC-кривая')\n",
    "plt.legend(('Случайная модель','Дерево решения','Случайный лес','Логистическая регрессия'),\n",
    "           loc= 'lower right') \n",
    "plt.show()"
   ]
  },
  {
   "cell_type": "code",
   "execution_count": 24,
   "id": "183313a5",
   "metadata": {},
   "outputs": [
    {
     "data": {
      "text/html": [
       "<div>\n",
       "<style scoped>\n",
       "    .dataframe tbody tr th:only-of-type {\n",
       "        vertical-align: middle;\n",
       "    }\n",
       "\n",
       "    .dataframe tbody tr th {\n",
       "        vertical-align: top;\n",
       "    }\n",
       "\n",
       "    .dataframe thead th {\n",
       "        text-align: right;\n",
       "    }\n",
       "</style>\n",
       "<table border=\"1\" class=\"dataframe\">\n",
       "  <thead>\n",
       "    <tr style=\"text-align: right;\">\n",
       "      <th></th>\n",
       "      <th>AUC ROC</th>\n",
       "      <th>Accuracy</th>\n",
       "      <th>F1-мера</th>\n",
       "    </tr>\n",
       "    <tr>\n",
       "      <th>bs_model</th>\n",
       "      <th></th>\n",
       "      <th></th>\n",
       "      <th></th>\n",
       "    </tr>\n",
       "  </thead>\n",
       "  <tbody>\n",
       "    <tr>\n",
       "      <th>DT</th>\n",
       "      <td>0.71</td>\n",
       "      <td>0.70</td>\n",
       "      <td>0.70</td>\n",
       "    </tr>\n",
       "    <tr>\n",
       "      <th>LR</th>\n",
       "      <td>0.94</td>\n",
       "      <td>0.91</td>\n",
       "      <td>0.89</td>\n",
       "    </tr>\n",
       "    <tr>\n",
       "      <th>RF</th>\n",
       "      <td>0.94</td>\n",
       "      <td>0.85</td>\n",
       "      <td>0.83</td>\n",
       "    </tr>\n",
       "  </tbody>\n",
       "</table>\n",
       "</div>"
      ],
      "text/plain": [
       "          AUC ROC  Accuracy  F1-мера\n",
       "bs_model                            \n",
       "DT           0.71      0.70     0.70\n",
       "LR           0.94      0.91     0.89\n",
       "RF           0.94      0.85     0.83"
      ]
     },
     "metadata": {},
     "output_type": "display_data"
    },
    {
     "data": {
      "image/png": "[encoded data removed]",
      "text/plain": [
       "<Figure size 1500x500 with 1 Axes>"
      ]
     },
     "metadata": {},
     "output_type": "display_data"
    }
   ],
   "source": [
    "d = pd.DataFrame(data = [a, b, c],columns = ['bs_model', 'Accuracy','F1-мера', 'AUC ROC'])\n",
    "d = d.pivot_table(index='bs_model', values=['Accuracy','F1-мера', 'AUC ROC'])\n",
    "display(d)\n",
    "ax = d.plot(grid=True, kind='bar', title='Метрики baseline_model', figsize=(15, 5))"
   ]
  },
  {
   "cell_type": "markdown",
   "id": "82ddbe64",
   "metadata": {},
   "source": [
    "Общий вывод:\n",
    "Рассматривая данные с дисбалансом (но, с переведенными категориальными в численные данные) тремя моделями можно сделать вывод, что саммая лучшая модель оказалась логистическая регрессия при F1=0.85"
   ]
  },
  {
   "cell_type": "markdown",
   "id": "2a070093",
   "metadata": {},
   "source": [
    "## Обучение моделей"
   ]
  },
  {
   "cell_type": "markdown",
   "id": "18fe7c04",
   "metadata": {},
   "source": [
    "### Подготовка данных для обучения моделей"
   ]
  },
  {
   "cell_type": "markdown",
   "id": "d9bf16dd",
   "metadata": {},
   "source": [
    "Для оптимизации процесса обучения во всех трех выборках категоризируем признак 'bp', поскольку изменение давления в пределах 10 пунктов считается погрешностью. Для этого напишем функцию, предварительно изменив тип данных на int.  "
   ]
  },
  {
   "cell_type": "code",
   "execution_count": 25,
   "id": "43d83262",
   "metadata": {},
   "outputs": [
    {
     "name": "stdout",
     "output_type": "stream",
     "text": [
      "[ 94 101 102 105 106 108 110 112 115 117 118 120 122 124 125 126 128 130\n",
      " 132 134 135 136 138 140 142 144 145 146 148 150 155 156 158 160 165 170\n",
      " 172 178 180 192 200]\n",
      "<class 'pandas.core.frame.DataFrame'>\n",
      "Int64Index: 162 entries, 94 to 125\n",
      "Data columns (total 13 columns):\n",
      " #   Column                   Non-Null Count  Dtype  \n",
      "---  ------                   --------------  -----  \n",
      " 0   age                      162 non-null    int64  \n",
      " 1   sex                      162 non-null    int64  \n",
      " 2   chest_pain_type          162 non-null    int64  \n",
      " 3   bp                       162 non-null    int32  \n",
      " 4   cholesterol              162 non-null    int64  \n",
      " 5   fbs_over_120             162 non-null    int64  \n",
      " 6   ekg_results              162 non-null    int64  \n",
      " 7   max_hr                   162 non-null    int64  \n",
      " 8   exercise_angina          162 non-null    int64  \n",
      " 9   st_depression            162 non-null    float64\n",
      " 10  slope_of_st              162 non-null    int64  \n",
      " 11  number_of_vessels_fluro  162 non-null    int64  \n",
      " 12  thallium                 162 non-null    int64  \n",
      "dtypes: float64(1), int32(1), int64(11)\n",
      "memory usage: 17.1 KB\n"
     ]
    }
   ],
   "source": [
    "# Изменяем тип данных\n",
    "print(train_features['bp'].sort_values().unique())\n",
    "train_features['bp'] = train_features['bp'].astype('int')\n",
    "valid_features['bp'] = valid_features['bp'].astype('int')\n",
    "test_features['bp'] = test_features['bp'].astype('int')\n",
    "train_features.info()"
   ]
  },
  {
   "cell_type": "code",
   "execution_count": 26,
   "id": "16d51953",
   "metadata": {},
   "outputs": [
    {
     "name": "stdout",
     "output_type": "stream",
     "text": [
      "<class 'pandas.core.frame.DataFrame'>\n",
      "Int64Index: 54 entries, 232 to 14\n",
      "Data columns (total 13 columns):\n",
      " #   Column                   Non-Null Count  Dtype  \n",
      "---  ------                   --------------  -----  \n",
      " 0   age                      54 non-null     int64  \n",
      " 1   sex                      54 non-null     int64  \n",
      " 2   chest_pain_type          54 non-null     int64  \n",
      " 3   bp                       54 non-null     int32  \n",
      " 4   cholesterol              54 non-null     int64  \n",
      " 5   fbs_over_120             54 non-null     int64  \n",
      " 6   ekg_results              54 non-null     int64  \n",
      " 7   max_hr                   54 non-null     int64  \n",
      " 8   exercise_angina          54 non-null     int64  \n",
      " 9   st_depression            54 non-null     float64\n",
      " 10  slope_of_st              54 non-null     int64  \n",
      " 11  number_of_vessels_fluro  54 non-null     int64  \n",
      " 12  thallium                 54 non-null     int64  \n",
      "dtypes: float64(1), int32(1), int64(11)\n",
      "memory usage: 5.7 KB\n"
     ]
    }
   ],
   "source": [
    "valid_features.info()"
   ]
  },
  {
   "cell_type": "code",
   "execution_count": 27,
   "id": "af107606",
   "metadata": {},
   "outputs": [
    {
     "name": "stdout",
     "output_type": "stream",
     "text": [
      "<class 'pandas.core.frame.DataFrame'>\n",
      "Int64Index: 54 entries, 209 to 213\n",
      "Data columns (total 13 columns):\n",
      " #   Column                   Non-Null Count  Dtype  \n",
      "---  ------                   --------------  -----  \n",
      " 0   age                      54 non-null     int64  \n",
      " 1   sex                      54 non-null     int64  \n",
      " 2   chest_pain_type          54 non-null     int64  \n",
      " 3   bp                       54 non-null     int32  \n",
      " 4   cholesterol              54 non-null     int64  \n",
      " 5   fbs_over_120             54 non-null     int64  \n",
      " 6   ekg_results              54 non-null     int64  \n",
      " 7   max_hr                   54 non-null     int64  \n",
      " 8   exercise_angina          54 non-null     int64  \n",
      " 9   st_depression            54 non-null     float64\n",
      " 10  slope_of_st              54 non-null     int64  \n",
      " 11  number_of_vessels_fluro  54 non-null     int64  \n",
      " 12  thallium                 54 non-null     int64  \n",
      "dtypes: float64(1), int32(1), int64(11)\n",
      "memory usage: 5.7 KB\n"
     ]
    }
   ],
   "source": [
    "test_features.info()"
   ]
  },
  {
   "cell_type": "code",
   "execution_count": 28,
   "id": "ce7cac7f",
   "metadata": {},
   "outputs": [
    {
     "name": "stdout",
     "output_type": "stream",
     "text": [
      "5     35\n",
      "3     32\n",
      "4     31\n",
      "2     22\n",
      "6     21\n",
      "7     11\n",
      "9      4\n",
      "1      2\n",
      "10     2\n",
      "8      2\n",
      "Name: bp, dtype: int64\n",
      "4    15\n",
      "5    14\n",
      "3    12\n",
      "7     3\n",
      "6     3\n",
      "2     2\n",
      "1     2\n",
      "9     2\n",
      "8     1\n",
      "Name: bp, dtype: int64\n",
      "4    17\n",
      "3    10\n",
      "5     9\n",
      "2     7\n",
      "6     4\n",
      "7     4\n",
      "1     2\n",
      "9     1\n",
      "Name: bp, dtype: int64\n"
     ]
    }
   ],
   "source": [
    "# Пишем функцию\n",
    "def bp(row):\n",
    "    if row <= 100:\n",
    "        return '1'\n",
    "    if 100 < row <= 110: \n",
    "        return '2'\n",
    "    if 110 < row <= 120:\n",
    "        return '3'\n",
    "    if 120 < row <= 130:\n",
    "        return '4'\n",
    "    if 130 < row <= 140: \n",
    "        return '5'\n",
    "    if 140 < row <= 150:\n",
    "        return '6'\n",
    "    if 150 < row <= 160:\n",
    "        return '7'\n",
    "    if 160 < row <= 170: \n",
    "        return '8'\n",
    "    if 170 < row <= 180:\n",
    "        return '9'\n",
    "    else:\n",
    "        return '10'\n",
    "    \n",
    "train_features['bp'] = train_features['bp'].apply(bp)\n",
    "valid_features['bp'] = valid_features['bp'].apply(bp)\n",
    "test_features['bp'] = test_features['bp'].apply(bp)\n",
    "print(train_features['bp'].value_counts())\n",
    "print(valid_features['bp'].value_counts())\n",
    "print(test_features['bp'].value_counts())"
   ]
  },
  {
   "cell_type": "markdown",
   "id": "c80f5481",
   "metadata": {},
   "source": [
    "#### Стандартизируем выборки, т.к есть значения и маленькие и очень большие. "
   ]
  },
  {
   "cell_type": "code",
   "execution_count": 29,
   "id": "82193daf",
   "metadata": {},
   "outputs": [
    {
     "data": {
      "text/html": [
       "<div>\n",
       "<style scoped>\n",
       "    .dataframe tbody tr th:only-of-type {\n",
       "        vertical-align: middle;\n",
       "    }\n",
       "\n",
       "    .dataframe tbody tr th {\n",
       "        vertical-align: top;\n",
       "    }\n",
       "\n",
       "    .dataframe thead th {\n",
       "        text-align: right;\n",
       "    }\n",
       "</style>\n",
       "<table border=\"1\" class=\"dataframe\">\n",
       "  <thead>\n",
       "    <tr style=\"text-align: right;\">\n",
       "      <th></th>\n",
       "      <th>age</th>\n",
       "      <th>sex</th>\n",
       "      <th>chest_pain_type</th>\n",
       "      <th>bp</th>\n",
       "      <th>cholesterol</th>\n",
       "      <th>fbs_over_120</th>\n",
       "      <th>ekg_results</th>\n",
       "      <th>max_hr</th>\n",
       "      <th>exercise_angina</th>\n",
       "      <th>st_depression</th>\n",
       "      <th>slope_of_st</th>\n",
       "      <th>number_of_vessels_fluro</th>\n",
       "      <th>thallium</th>\n",
       "    </tr>\n",
       "  </thead>\n",
       "  <tbody>\n",
       "    <tr>\n",
       "      <th>94</th>\n",
       "      <td>-0.277557</td>\n",
       "      <td>1</td>\n",
       "      <td>4</td>\n",
       "      <td>4</td>\n",
       "      <td>-0.630817</td>\n",
       "      <td>0</td>\n",
       "      <td>0</td>\n",
       "      <td>0.857684</td>\n",
       "      <td>0</td>\n",
       "      <td>1.0</td>\n",
       "      <td>1</td>\n",
       "      <td>2</td>\n",
       "      <td>7</td>\n",
       "    </tr>\n",
       "    <tr>\n",
       "      <th>72</th>\n",
       "      <td>1.672702</td>\n",
       "      <td>1</td>\n",
       "      <td>2</td>\n",
       "      <td>7</td>\n",
       "      <td>-0.019109</td>\n",
       "      <td>0</td>\n",
       "      <td>2</td>\n",
       "      <td>-0.239133</td>\n",
       "      <td>0</td>\n",
       "      <td>0.0</td>\n",
       "      <td>1</td>\n",
       "      <td>0</td>\n",
       "      <td>3</td>\n",
       "    </tr>\n",
       "    <tr>\n",
       "      <th>189</th>\n",
       "      <td>1.672702</td>\n",
       "      <td>1</td>\n",
       "      <td>3</td>\n",
       "      <td>7</td>\n",
       "      <td>0.425770</td>\n",
       "      <td>0</td>\n",
       "      <td>0</td>\n",
       "      <td>-1.599186</td>\n",
       "      <td>1</td>\n",
       "      <td>2.9</td>\n",
       "      <td>2</td>\n",
       "      <td>1</td>\n",
       "      <td>7</td>\n",
       "    </tr>\n",
       "    <tr>\n",
       "      <th>47</th>\n",
       "      <td>-1.144339</td>\n",
       "      <td>1</td>\n",
       "      <td>4</td>\n",
       "      <td>2</td>\n",
       "      <td>-0.908866</td>\n",
       "      <td>0</td>\n",
       "      <td>2</td>\n",
       "      <td>1.252538</td>\n",
       "      <td>0</td>\n",
       "      <td>0.0</td>\n",
       "      <td>1</td>\n",
       "      <td>1</td>\n",
       "      <td>3</td>\n",
       "    </tr>\n",
       "    <tr>\n",
       "      <th>1</th>\n",
       "      <td>1.347658</td>\n",
       "      <td>0</td>\n",
       "      <td>3</td>\n",
       "      <td>3</td>\n",
       "      <td>5.894067</td>\n",
       "      <td>0</td>\n",
       "      <td>2</td>\n",
       "      <td>0.506702</td>\n",
       "      <td>0</td>\n",
       "      <td>1.6</td>\n",
       "      <td>2</td>\n",
       "      <td>0</td>\n",
       "      <td>7</td>\n",
       "    </tr>\n",
       "  </tbody>\n",
       "</table>\n",
       "</div>"
      ],
      "text/plain": [
       "          age  sex  chest_pain_type bp  cholesterol  fbs_over_120  \\\n",
       "94  -0.277557    1                4  4    -0.630817             0   \n",
       "72   1.672702    1                2  7    -0.019109             0   \n",
       "189  1.672702    1                3  7     0.425770             0   \n",
       "47  -1.144339    1                4  2    -0.908866             0   \n",
       "1    1.347658    0                3  3     5.894067             0   \n",
       "\n",
       "     ekg_results    max_hr  exercise_angina  st_depression  slope_of_st  \\\n",
       "94             0  0.857684                0            1.0            1   \n",
       "72             2 -0.239133                0            0.0            1   \n",
       "189            0 -1.599186                1            2.9            2   \n",
       "47             2  1.252538                0            0.0            1   \n",
       "1              2  0.506702                0            1.6            2   \n",
       "\n",
       "     number_of_vessels_fluro  thallium  \n",
       "94                         2         7  \n",
       "72                         0         3  \n",
       "189                        1         7  \n",
       "47                         1         3  \n",
       "1                          0         7  "
      ]
     },
     "metadata": {},
     "output_type": "display_data"
    },
    {
     "data": {
      "text/html": [
       "<div>\n",
       "<style scoped>\n",
       "    .dataframe tbody tr th:only-of-type {\n",
       "        vertical-align: middle;\n",
       "    }\n",
       "\n",
       "    .dataframe tbody tr th {\n",
       "        vertical-align: top;\n",
       "    }\n",
       "\n",
       "    .dataframe thead th {\n",
       "        text-align: right;\n",
       "    }\n",
       "</style>\n",
       "<table border=\"1\" class=\"dataframe\">\n",
       "  <thead>\n",
       "    <tr style=\"text-align: right;\">\n",
       "      <th></th>\n",
       "      <th>age</th>\n",
       "      <th>sex</th>\n",
       "      <th>chest_pain_type</th>\n",
       "      <th>bp</th>\n",
       "      <th>cholesterol</th>\n",
       "      <th>fbs_over_120</th>\n",
       "      <th>ekg_results</th>\n",
       "      <th>max_hr</th>\n",
       "      <th>exercise_angina</th>\n",
       "      <th>st_depression</th>\n",
       "      <th>slope_of_st</th>\n",
       "      <th>number_of_vessels_fluro</th>\n",
       "      <th>thallium</th>\n",
       "    </tr>\n",
       "  </thead>\n",
       "  <tbody>\n",
       "    <tr>\n",
       "      <th>232</th>\n",
       "      <td>-0.951149</td>\n",
       "      <td>1</td>\n",
       "      <td>4</td>\n",
       "      <td>3</td>\n",
       "      <td>0.179209</td>\n",
       "      <td>0</td>\n",
       "      <td>2</td>\n",
       "      <td>1.305306</td>\n",
       "      <td>0</td>\n",
       "      <td>0.0</td>\n",
       "      <td>1</td>\n",
       "      <td>0</td>\n",
       "      <td>3</td>\n",
       "    </tr>\n",
       "    <tr>\n",
       "      <th>269</th>\n",
       "      <td>1.688956</td>\n",
       "      <td>1</td>\n",
       "      <td>4</td>\n",
       "      <td>7</td>\n",
       "      <td>0.694801</td>\n",
       "      <td>0</td>\n",
       "      <td>2</td>\n",
       "      <td>-1.938844</td>\n",
       "      <td>1</td>\n",
       "      <td>1.5</td>\n",
       "      <td>2</td>\n",
       "      <td>3</td>\n",
       "      <td>3</td>\n",
       "    </tr>\n",
       "    <tr>\n",
       "      <th>188</th>\n",
       "      <td>1.088932</td>\n",
       "      <td>0</td>\n",
       "      <td>4</td>\n",
       "      <td>5</td>\n",
       "      <td>2.836493</td>\n",
       "      <td>0</td>\n",
       "      <td>2</td>\n",
       "      <td>0.125615</td>\n",
       "      <td>0</td>\n",
       "      <td>1.2</td>\n",
       "      <td>2</td>\n",
       "      <td>0</td>\n",
       "      <td>3</td>\n",
       "    </tr>\n",
       "    <tr>\n",
       "      <th>119</th>\n",
       "      <td>0.368903</td>\n",
       "      <td>1</td>\n",
       "      <td>4</td>\n",
       "      <td>4</td>\n",
       "      <td>0.635310</td>\n",
       "      <td>1</td>\n",
       "      <td>2</td>\n",
       "      <td>-2.149503</td>\n",
       "      <td>1</td>\n",
       "      <td>1.6</td>\n",
       "      <td>3</td>\n",
       "      <td>0</td>\n",
       "      <td>7</td>\n",
       "    </tr>\n",
       "    <tr>\n",
       "      <th>137</th>\n",
       "      <td>0.368903</td>\n",
       "      <td>1</td>\n",
       "      <td>4</td>\n",
       "      <td>4</td>\n",
       "      <td>-0.038927</td>\n",
       "      <td>1</td>\n",
       "      <td>2</td>\n",
       "      <td>-0.422098</td>\n",
       "      <td>1</td>\n",
       "      <td>1.2</td>\n",
       "      <td>2</td>\n",
       "      <td>1</td>\n",
       "      <td>3</td>\n",
       "    </tr>\n",
       "  </tbody>\n",
       "</table>\n",
       "</div>"
      ],
      "text/plain": [
       "          age  sex  chest_pain_type bp  cholesterol  fbs_over_120  \\\n",
       "232 -0.951149    1                4  3     0.179209             0   \n",
       "269  1.688956    1                4  7     0.694801             0   \n",
       "188  1.088932    0                4  5     2.836493             0   \n",
       "119  0.368903    1                4  4     0.635310             1   \n",
       "137  0.368903    1                4  4    -0.038927             1   \n",
       "\n",
       "     ekg_results    max_hr  exercise_angina  st_depression  slope_of_st  \\\n",
       "232            2  1.305306                0            0.0            1   \n",
       "269            2 -1.938844                1            1.5            2   \n",
       "188            2  0.125615                0            1.2            2   \n",
       "119            2 -2.149503                1            1.6            3   \n",
       "137            2 -0.422098                1            1.2            2   \n",
       "\n",
       "     number_of_vessels_fluro  thallium  \n",
       "232                        0         3  \n",
       "269                        3         3  \n",
       "188                        0         3  \n",
       "119                        0         7  \n",
       "137                        1         3  "
      ]
     },
     "metadata": {},
     "output_type": "display_data"
    },
    {
     "data": {
      "text/html": [
       "<div>\n",
       "<style scoped>\n",
       "    .dataframe tbody tr th:only-of-type {\n",
       "        vertical-align: middle;\n",
       "    }\n",
       "\n",
       "    .dataframe tbody tr th {\n",
       "        vertical-align: top;\n",
       "    }\n",
       "\n",
       "    .dataframe thead th {\n",
       "        text-align: right;\n",
       "    }\n",
       "</style>\n",
       "<table border=\"1\" class=\"dataframe\">\n",
       "  <thead>\n",
       "    <tr style=\"text-align: right;\">\n",
       "      <th></th>\n",
       "      <th>age</th>\n",
       "      <th>sex</th>\n",
       "      <th>chest_pain_type</th>\n",
       "      <th>bp</th>\n",
       "      <th>cholesterol</th>\n",
       "      <th>fbs_over_120</th>\n",
       "      <th>ekg_results</th>\n",
       "      <th>max_hr</th>\n",
       "      <th>exercise_angina</th>\n",
       "      <th>st_depression</th>\n",
       "      <th>slope_of_st</th>\n",
       "      <th>number_of_vessels_fluro</th>\n",
       "      <th>thallium</th>\n",
       "    </tr>\n",
       "  </thead>\n",
       "  <tbody>\n",
       "    <tr>\n",
       "      <th>209</th>\n",
       "      <td>-2.015415</td>\n",
       "      <td>1</td>\n",
       "      <td>3</td>\n",
       "      <td>4</td>\n",
       "      <td>-0.211941</td>\n",
       "      <td>0</td>\n",
       "      <td>0</td>\n",
       "      <td>1.653599</td>\n",
       "      <td>0</td>\n",
       "      <td>3.5</td>\n",
       "      <td>3</td>\n",
       "      <td>0</td>\n",
       "      <td>3</td>\n",
       "    </tr>\n",
       "    <tr>\n",
       "      <th>163</th>\n",
       "      <td>0.265504</td>\n",
       "      <td>1</td>\n",
       "      <td>4</td>\n",
       "      <td>4</td>\n",
       "      <td>-0.005522</td>\n",
       "      <td>0</td>\n",
       "      <td>2</td>\n",
       "      <td>-0.828009</td>\n",
       "      <td>1</td>\n",
       "      <td>3.0</td>\n",
       "      <td>2</td>\n",
       "      <td>2</td>\n",
       "      <td>7</td>\n",
       "    </tr>\n",
       "    <tr>\n",
       "      <th>240</th>\n",
       "      <td>1.351656</td>\n",
       "      <td>1</td>\n",
       "      <td>3</td>\n",
       "      <td>9</td>\n",
       "      <td>0.338512</td>\n",
       "      <td>1</td>\n",
       "      <td>2</td>\n",
       "      <td>0.042731</td>\n",
       "      <td>1</td>\n",
       "      <td>1.6</td>\n",
       "      <td>2</td>\n",
       "      <td>0</td>\n",
       "      <td>7</td>\n",
       "    </tr>\n",
       "    <tr>\n",
       "      <th>145</th>\n",
       "      <td>-0.277572</td>\n",
       "      <td>1</td>\n",
       "      <td>4</td>\n",
       "      <td>4</td>\n",
       "      <td>0.521996</td>\n",
       "      <td>0</td>\n",
       "      <td>0</td>\n",
       "      <td>-2.351804</td>\n",
       "      <td>1</td>\n",
       "      <td>2.0</td>\n",
       "      <td>2</td>\n",
       "      <td>2</td>\n",
       "      <td>7</td>\n",
       "    </tr>\n",
       "    <tr>\n",
       "      <th>151</th>\n",
       "      <td>-0.603418</td>\n",
       "      <td>0</td>\n",
       "      <td>3</td>\n",
       "      <td>3</td>\n",
       "      <td>-0.922944</td>\n",
       "      <td>0</td>\n",
       "      <td>0</td>\n",
       "      <td>0.391027</td>\n",
       "      <td>0</td>\n",
       "      <td>1.6</td>\n",
       "      <td>2</td>\n",
       "      <td>0</td>\n",
       "      <td>3</td>\n",
       "    </tr>\n",
       "  </tbody>\n",
       "</table>\n",
       "</div>"
      ],
      "text/plain": [
       "          age  sex  chest_pain_type bp  cholesterol  fbs_over_120  \\\n",
       "209 -2.015415    1                3  4    -0.211941             0   \n",
       "163  0.265504    1                4  4    -0.005522             0   \n",
       "240  1.351656    1                3  9     0.338512             1   \n",
       "145 -0.277572    1                4  4     0.521996             0   \n",
       "151 -0.603418    0                3  3    -0.922944             0   \n",
       "\n",
       "     ekg_results    max_hr  exercise_angina  st_depression  slope_of_st  \\\n",
       "209            0  1.653599                0            3.5            3   \n",
       "163            2 -0.828009                1            3.0            2   \n",
       "240            2  0.042731                1            1.6            2   \n",
       "145            0 -2.351804                1            2.0            2   \n",
       "151            0  0.391027                0            1.6            2   \n",
       "\n",
       "     number_of_vessels_fluro  thallium  \n",
       "209                        0         3  \n",
       "163                        2         7  \n",
       "240                        0         7  \n",
       "145                        2         7  \n",
       "151                        0         3  "
      ]
     },
     "metadata": {},
     "output_type": "display_data"
    }
   ],
   "source": [
    "numeric=['age','cholesterol','max_hr']\n",
    "scaler=StandardScaler()\n",
    "scaler.fit(train_features[numeric])\n",
    "train_features[numeric] = scaler.transform(train_features[numeric])\n",
    "scaler.fit(valid_features[numeric])\n",
    "valid_features[numeric] = scaler.transform(valid_features[numeric])\n",
    "scaler.fit(test_features[numeric])\n",
    "test_features[numeric] = scaler.transform(test_features[numeric])\n",
    "display(train_features.head(5))\n",
    "display(valid_features.head(5))\n",
    "display(test_features.head(5))"
   ]
  },
  {
   "cell_type": "markdown",
   "id": "44379560",
   "metadata": {},
   "source": [
    "### Модели после обработки данных с применением методов устранения дисбаланса"
   ]
  },
  {
   "cell_type": "markdown",
   "id": "2b33e140",
   "metadata": {},
   "source": [
    "#### Построение моделей при выравнивании классов аргументом class_weight "
   ]
  },
  {
   "cell_type": "markdown",
   "id": "310616db",
   "metadata": {},
   "source": [
    "#### Модель DecisionTree"
   ]
  },
  {
   "cell_type": "code",
   "execution_count": 30,
   "id": "dfef9310",
   "metadata": {},
   "outputs": [
    {
     "name": "stdout",
     "output_type": "stream",
     "text": [
      "Лучшие гиперпараметры для модели 'Решающее дерево': {'class_weight': 'balanced', 'max_depth': 3, 'min_samples_leaf': 7}\n"
     ]
    }
   ],
   "source": [
    "# Подбор лучших гиперпараметров для DecisionTree\n",
    "parametrs = {'min_samples_leaf': range (1,11,2),\n",
    "             'max_depth': range (1,10),\n",
    "            'class_weight' : ['balanced']}\n",
    "tree_model = GridSearchCV(DecisionTreeClassifier(random_state=STATE), parametrs, scoring='f1', cv=5)\n",
    "tree_model.fit(train_features,train_target)\n",
    "print(\"Лучшие гиперпараметры для модели 'Решающее дерево':\", tree_model.best_params_)"
   ]
  },
  {
   "cell_type": "code",
   "execution_count": 31,
   "id": "9baf85b6",
   "metadata": {},
   "outputs": [
    {
     "name": "stdout",
     "output_type": "stream",
     "text": [
      "accuracy: 0.83\n",
      "precision: 0.83\n",
      "recall: 0.79\n",
      "F1: 0.81\n",
      "AUC ROC: 0.91\n",
      "confusion_matrix:\n",
      "[[26  4]\n",
      " [ 5 19]]\n"
     ]
    },
    {
     "data": {
      "text/plain": [
       "['DT', 0.83, 0.81, 0.91]"
      ]
     },
     "execution_count": 31,
     "metadata": {},
     "output_type": "execute_result"
    }
   ],
   "source": [
    "# Строим модель, выводим метрики качества\n",
    "\n",
    "tree_model = DecisionTreeClassifier(random_state=12345, max_depth = 3, min_samples_leaf = 7, class_weight='balanced') \n",
    "tree_model.fit(train_features,train_target)        \n",
    "tree_model_prediction = tree_model.predict(valid_features)\n",
    "\n",
    "print(\"accuracy:\", round ((tree_model.score(valid_features,valid_target)),2))\n",
    "print(\"precision:\", round((precision_score(valid_target, tree_model_prediction)),2))\n",
    "print(\"recall:\", round((recall_score(valid_target,tree_model_prediction)),2))\n",
    "print(\"F1:\", round ((f1_score(valid_target, tree_model_prediction)),2))\n",
    "print(\"AUC ROC:\", round(roc_auc_score(valid_target, (tree_model.predict_proba(valid_features))[:, 1]),2))\n",
    "print(\"confusion_matrix:\")\n",
    "print(confusion_matrix(valid_target, tree_model_prediction))\n",
    "\n",
    "j = ['DT', round ((tree_model.score(valid_features,valid_target)),2)\n",
    "     ,round ((f1_score(valid_target,tree_model_prediction)),2)\n",
    "     ,round(roc_auc_score(valid_target, (tree_model.predict_proba(valid_features))[:, 1]),2)]\n",
    "j"
   ]
  },
  {
   "cell_type": "markdown",
   "id": "2130a88c",
   "metadata": {},
   "source": [
    "#### Модель Logistic Regression"
   ]
  },
  {
   "cell_type": "code",
   "execution_count": 32,
   "id": "503bbcf2",
   "metadata": {},
   "outputs": [
    {
     "name": "stdout",
     "output_type": "stream",
     "text": [
      "Лучшее значение f1 = 0.89  при max_iter = 1000 ,solver: newton-cg\n"
     ]
    }
   ],
   "source": [
    "# Подбор лучших гиперпараметров для Logistic Regression\n",
    "solver =  ['newton-cg', 'lbfgs', 'liblinear', 'sag', 'saga']\n",
    "best_s = None\n",
    "best_f1 = 0\n",
    "best_i = 0 \n",
    "for s in solver:        \n",
    "    for i in range(1000,10000,1000):\n",
    "            log_model = LogisticRegression(random_state=STATE, max_iter = i,solver = s)\n",
    "            log_model.fit(train_features,train_target)\n",
    "            log_predictions = log_model.predict(valid_features)\n",
    "            result = f1_score(valid_target, log_predictions)\n",
    "            if result > best_f1:\n",
    "                best_i = i\n",
    "                best_f1 = result\n",
    "                best_s = s              \n",
    "print(\"Лучшее значение f1 =\", round((best_f1),2),  \" при max_iter =\", best_i, \",solver:\", best_s)    \n"
   ]
  },
  {
   "cell_type": "code",
   "execution_count": 33,
   "id": "944fd4e9",
   "metadata": {},
   "outputs": [
    {
     "name": "stdout",
     "output_type": "stream",
     "text": [
      "accuracy: 0.91\n",
      "precision: 0.91\n",
      "recall: 0.88\n",
      "F1-мера: 0.89\n",
      "AUC ROC: 0.9569\n",
      "confusion_matrix:\n",
      "[[28  2]\n",
      " [ 3 21]]\n"
     ]
    },
    {
     "data": {
      "text/plain": [
       "['LR', 0.91, 0.89, 0.96]"
      ]
     },
     "execution_count": 33,
     "metadata": {},
     "output_type": "execute_result"
    }
   ],
   "source": [
    "# Строим модель, выводим метрики качества\n",
    "log_model = LogisticRegression(random_state=STATE, max_iter = 1000, solver='newton-cg', penalty = 'l2')\n",
    "log_model.fit(train_features,train_target)\n",
    "log_predictions = log_model.predict(valid_features) \n",
    "\n",
    "print(\"accuracy:\",round((log_model.score(valid_features,valid_target)),2))\n",
    "print(\"precision:\", round((precision_score(valid_target, log_predictions)),2))\n",
    "print(\"recall:\", round((recall_score(valid_target, log_predictions)),2))\n",
    "print(\"F1-мера:\", round((f1_score(valid_target, log_predictions)),2))\n",
    "print(\"AUC ROC:\", round(roc_auc_score(valid_target, (log_model.predict_proba(valid_features))[:, 1]),4))\n",
    "print(\"confusion_matrix:\")\n",
    "print(confusion_matrix(valid_target,log_predictions))\n",
    "\n",
    "g = ['LR', round ((log_model.score(valid_features,valid_target)),2)\n",
    "     ,round ((f1_score(valid_target, log_predictions)),2)\n",
    "     ,round(roc_auc_score(valid_target, (log_model.predict_proba(valid_features))[:, 1]),2)]\n",
    "g"
   ]
  },
  {
   "cell_type": "markdown",
   "id": "cc0715af",
   "metadata": {},
   "source": [
    "#### Модель Random forest"
   ]
  },
  {
   "cell_type": "code",
   "execution_count": 34,
   "id": "1aae4215",
   "metadata": {},
   "outputs": [
    {
     "name": "stdout",
     "output_type": "stream",
     "text": [
      "Лучшее значение f1 = 0.91 при max_depth = 3 и min_samples_leaf = 3\n"
     ]
    }
   ],
   "source": [
    "# Подбираем лучшие гиперпараметры для построения модели Random forest \n",
    "best_depth = 0\n",
    "best_f1 = 0\n",
    "best_msl = 0 \n",
    "for depth in range(1, 10):\n",
    "    for msl in range(1, 11,2):\n",
    "        model_forest = RandomForestClassifier(random_state=STATE, max_depth=depth, \n",
    "                                              min_samples_leaf = msl, class_weight='balanced')\n",
    "        model_forest.fit(train_features,train_target)\n",
    "        forest_prediction = model_forest.predict(valid_features)\n",
    "        result = f1_score(valid_target, forest_prediction)\n",
    "        if result > best_f1:\n",
    "            best_depth = depth\n",
    "            best_msl = msl\n",
    "            best_f1 = result\n",
    "            \n",
    "print(\"Лучшее значение f1 =\", round((best_f1),2), \"при max_depth =\", best_depth, \"и min_samples_leaf =\", best_msl)   "
   ]
  },
  {
   "cell_type": "code",
   "execution_count": 35,
   "id": "232cb070",
   "metadata": {},
   "outputs": [
    {
     "name": "stdout",
     "output_type": "stream",
     "text": [
      "accuracy: 0.93\n",
      "precision: 0.95\n",
      "recall: 0.88\n",
      "F1: 0.91\n",
      "AUC ROC: 0.9361\n",
      "confusion_matrix:\n",
      "[[29  1]\n",
      " [ 3 21]]\n"
     ]
    },
    {
     "data": {
      "text/plain": [
       "['RF', 0.93, 0.91, 0.94]"
      ]
     },
     "execution_count": 35,
     "metadata": {},
     "output_type": "execute_result"
    }
   ],
   "source": [
    "# Строим модель, выводим метрики качества\n",
    "\n",
    "model_forest = RandomForestClassifier(random_state=STATE, max_depth = 4, min_samples_leaf = 3, class_weight='balanced') \n",
    "model_forest.fit(train_features,train_target)        \n",
    "forest_prediction = model_forest.predict(valid_features)\n",
    "print(\"accuracy:\", round ((model_forest.score(valid_features,valid_target)),2))\n",
    "print(\"precision:\", round((precision_score(valid_target, forest_prediction)),2))\n",
    "print(\"recall:\", round((recall_score(valid_target, forest_prediction)),2))\n",
    "print(\"F1:\", round ((f1_score(valid_target, forest_prediction)),2))\n",
    "print(\"AUC ROC:\", round(roc_auc_score(valid_target, (model_forest.predict_proba(valid_features))[:, 1]),4))\n",
    "print(\"confusion_matrix:\")\n",
    "print(confusion_matrix(valid_target, forest_prediction))\n",
    "\n",
    "f = ['RF', round ((model_forest.score(valid_features,valid_target)),2)\n",
    "     ,round ((f1_score(valid_target, forest_prediction)),2)\n",
    "     ,round(roc_auc_score(valid_target, (model_forest.predict_proba(valid_features))[:, 1]),2)]\n",
    "f"
   ]
  },
  {
   "cell_type": "markdown",
   "id": "b9223639",
   "metadata": {},
   "source": [
    "### ROC-кривая"
   ]
  },
  {
   "cell_type": "code",
   "execution_count": 36,
   "id": "c6544ab1",
   "metadata": {},
   "outputs": [],
   "source": [
    "#Модель Дерево решений\n",
    "probabilities_tree=model_tree.predict_proba(valid_features)\n",
    "probabilities_one_valid_tree=probabilities_tree[:,1]\n",
    "fpr_tree,tpr_tree,thresholds=roc_curve(valid_target,probabilities_one_valid_tree)\n",
    "auc_roc_tree=roc_auc_score(valid_target,probabilities_one_valid_tree)\n",
    "#Модель Случайный лес\n",
    "probabilities_forest=model_forest.predict_proba(valid_features)\n",
    "probabilities_one_valid_forest=probabilities_forest[:,1]\n",
    "fpr_forest,tpr_forest,thresholds=roc_curve(valid_target,probabilities_one_valid_forest)\n",
    "auc_roc_forest=roc_auc_score(valid_target,probabilities_one_valid_forest)\n",
    "#Модель Логистическая регрессия\n",
    "probabilities_reg=model_logistic.predict_proba(valid_features)\n",
    "probabilities_one_valid_reg=probabilities_reg[:,1]\n",
    "fpr_log,tpr_log,thresholds=roc_curve(valid_target,probabilities_one_valid_reg)\n",
    "auc_roc_reg=roc_auc_score(valid_target,probabilities_one_valid_reg)"
   ]
  },
  {
   "cell_type": "code",
   "execution_count": 37,
   "id": "08d3f105",
   "metadata": {},
   "outputs": [
    {
     "data": {
      "text/plain": [
       "<Figure size 640x480 with 0 Axes>"
      ]
     },
     "metadata": {},
     "output_type": "display_data"
    },
    {
     "data": {
      "image/png": "[encoded data removed]",
      "text/plain": [
       "<Figure size 800x800 with 1 Axes>"
      ]
     },
     "metadata": {},
     "output_type": "display_data"
    }
   ],
   "source": [
    "plt.figure()\n",
    "\n",
    "plt.figure(figsize=(8,8))\n",
    "plt.plot([0, 1], [0, 1], linestyle='--')\n",
    "plt.xlim([0.0, 1.0])\n",
    "plt.ylim([0.0, 1.0])\n",
    "plt.plot(fpr_tree,tpr_tree)\n",
    "plt.plot(fpr_forest,tpr_forest)\n",
    "plt.plot(fpr_log,tpr_log)\n",
    "plt.xlabel('False Positive Rate')\n",
    "plt.ylabel('True Positive Rate')\n",
    "plt.title('ROC-кривая')\n",
    "plt.legend(('Случайная модель','Дерево решения','Случайный лес','Логистическая регрессия'),\n",
    "           loc= 'lower right') \n",
    "plt.show()"
   ]
  },
  {
   "cell_type": "markdown",
   "id": "3ece7a39",
   "metadata": {},
   "source": [
    "Вывод: после стандартизации данных и выравнивании классов аргументом class_weight наилучшей моделью становится RandomForest c F1 = 0.91"
   ]
  },
  {
   "cell_type": "code",
   "execution_count": 38,
   "id": "73a2b5fd",
   "metadata": {},
   "outputs": [
    {
     "data": {
      "text/html": [
       "<div>\n",
       "<style scoped>\n",
       "    .dataframe tbody tr th:only-of-type {\n",
       "        vertical-align: middle;\n",
       "    }\n",
       "\n",
       "    .dataframe tbody tr th {\n",
       "        vertical-align: top;\n",
       "    }\n",
       "\n",
       "    .dataframe thead th {\n",
       "        text-align: right;\n",
       "    }\n",
       "</style>\n",
       "<table border=\"1\" class=\"dataframe\">\n",
       "  <thead>\n",
       "    <tr style=\"text-align: right;\">\n",
       "      <th></th>\n",
       "      <th>AUC ROC</th>\n",
       "      <th>Accuracy</th>\n",
       "      <th>F1-мера</th>\n",
       "    </tr>\n",
       "    <tr>\n",
       "      <th>weight_model</th>\n",
       "      <th></th>\n",
       "      <th></th>\n",
       "      <th></th>\n",
       "    </tr>\n",
       "  </thead>\n",
       "  <tbody>\n",
       "    <tr>\n",
       "      <th>DT</th>\n",
       "      <td>0.91</td>\n",
       "      <td>0.83</td>\n",
       "      <td>0.81</td>\n",
       "    </tr>\n",
       "    <tr>\n",
       "      <th>LR</th>\n",
       "      <td>0.96</td>\n",
       "      <td>0.91</td>\n",
       "      <td>0.89</td>\n",
       "    </tr>\n",
       "    <tr>\n",
       "      <th>RF</th>\n",
       "      <td>0.94</td>\n",
       "      <td>0.93</td>\n",
       "      <td>0.91</td>\n",
       "    </tr>\n",
       "  </tbody>\n",
       "</table>\n",
       "</div>"
      ],
      "text/plain": [
       "              AUC ROC  Accuracy  F1-мера\n",
       "weight_model                            \n",
       "DT               0.91      0.83     0.81\n",
       "LR               0.96      0.91     0.89\n",
       "RF               0.94      0.93     0.91"
      ]
     },
     "metadata": {},
     "output_type": "display_data"
    },
    {
     "data": {
      "image/png": "[encoded data removed]",
      "text/plain": [
       "<Figure size 1500x500 with 1 Axes>"
      ]
     },
     "metadata": {},
     "output_type": "display_data"
    }
   ],
   "source": [
    "q = pd.DataFrame(data = [j, g, f],columns = ['weight_model', 'Accuracy','F1-мера', 'AUC ROC'])\n",
    "q = q.pivot_table(index='weight_model', values=['Accuracy','F1-мера', 'AUC ROC'])\n",
    "display(q)\n",
    "ax = q.plot(grid=True, kind='bar', title='Метрики \"взвешиания классов\"', figsize=(15, 5))"
   ]
  },
  {
   "cell_type": "markdown",
   "id": "5369c4c3",
   "metadata": {},
   "source": [
    "#### Построение моделей при выравнивании классов функцией Downsampling "
   ]
  },
  {
   "cell_type": "markdown",
   "id": "d059e5bd",
   "metadata": {},
   "source": [
    "Для построения моделей при отсутствии дисбаланса классов пишем функцию Downsampling по уменьшению числа объектов отрицательного класса"
   ]
  },
  {
   "cell_type": "code",
   "execution_count": 39,
   "id": "fe007690",
   "metadata": {},
   "outputs": [
    {
     "name": "stdout",
     "output_type": "stream",
     "text": [
      "Размеры выборок после увеличения положительного класса:\n",
      "features_balance_up (144, 13)\n",
      "target_balance_up (144,)\n",
      "соотношение классов после увеличения выборки: 1.0\n"
     ]
    }
   ],
   "source": [
    "# Функция Downsampling\n",
    "def downsampling (features,target,fraction):\n",
    "    target_one=target[target==1]\n",
    "    target_null=target[target==0]\n",
    "    features_one=features[target==1]\n",
    "    features_null=features[target==0]\n",
    "          \n",
    "    downsampling_features=pd.concat([features_null.sample(frac=fraction, random_state=STATE)] + [features_one])\n",
    "    downsampling_target = pd.concat([target_null.sample(frac=fraction, random_state=STATE)] + [target_one])\n",
    "    \n",
    "    downsampling_features,downsampling_target=shuffle(downsampling_features,downsampling_target,random_state=STATE)\n",
    "    \n",
    "    return downsampling_features,downsampling_target\n",
    "\n",
    "features_balance_down,target_balance_down=downsampling(train_features,train_target, 0.8)\n",
    "\n",
    "print('Размеры выборок после увеличения положительного класса:')\n",
    "print('features_balance_up', features_balance_down.shape)\n",
    "print('target_balance_up', target_balance_down.shape)\n",
    "print('соотношение классов после увеличения выборки:',round(\n",
    "    (target_balance_down[target_balance_down ==0].count()/target_balance_down[target_balance_down==1].count()),2))"
   ]
  },
  {
   "cell_type": "markdown",
   "id": "1385e237",
   "metadata": {},
   "source": [
    "#### Модель DecisionTree"
   ]
  },
  {
   "cell_type": "code",
   "execution_count": 40,
   "id": "2eafaeb3",
   "metadata": {},
   "outputs": [
    {
     "name": "stdout",
     "output_type": "stream",
     "text": [
      "Лучшие гиперпараметры для модели 'Решающее дерево': {'max_depth': 3, 'min_samples_leaf': 9}\n"
     ]
    }
   ],
   "source": [
    "# Подбор лучших гиперпараметров для DecisionTree\n",
    "parametrs = {'min_samples_leaf': range (1,11,2),\n",
    "             'max_depth': range (1,10)}\n",
    "tree_model = GridSearchCV(DecisionTreeClassifier(random_state=STATE), parametrs, scoring='f1', cv=5)\n",
    "tree_model.fit(features_balance_down,target_balance_down)\n",
    "print(\"Лучшие гиперпараметры для модели 'Решающее дерево':\", tree_model.best_params_)\n"
   ]
  },
  {
   "cell_type": "code",
   "execution_count": 41,
   "id": "69e75526",
   "metadata": {},
   "outputs": [
    {
     "name": "stdout",
     "output_type": "stream",
     "text": [
      "accuracy: 0.87\n",
      "precision: 0.9\n",
      "recall: 0.79\n",
      "F1: 0.84\n",
      "AUC ROC: 0.9\n",
      "confusion_matrix:\n",
      "[[28  2]\n",
      " [ 5 19]]\n"
     ]
    },
    {
     "data": {
      "text/plain": [
       "['DT', 0.87, 0.84, 0.9]"
      ]
     },
     "execution_count": 41,
     "metadata": {},
     "output_type": "execute_result"
    }
   ],
   "source": [
    "\n",
    "# Строим модель, выводим метрики качества\n",
    "\n",
    "tree_model = DecisionTreeClassifier(random_state=STATE, max_depth = 3, min_samples_leaf = 9) \n",
    "tree_model.fit(features_balance_down,target_balance_down)        \n",
    "tree_model_prediction = tree_model.predict(valid_features)\n",
    "\n",
    "print(\"accuracy:\", round ((tree_model.score(valid_features,valid_target)),2))\n",
    "print(\"precision:\", round((precision_score(valid_target, tree_model_prediction)),2))\n",
    "print(\"recall:\", round((recall_score(valid_target,tree_model_prediction)),2))\n",
    "print(\"F1:\", round ((f1_score(valid_target, tree_model_prediction)),2))\n",
    "print(\"AUC ROC:\", round(roc_auc_score(valid_target, (tree_model.predict_proba(valid_features))[:, 1]),2))\n",
    "print(\"confusion_matrix:\")\n",
    "print(confusion_matrix(valid_target, tree_model_prediction))\n",
    "\n",
    "k = ['DT', round ((tree_model.score(valid_features,valid_target)),2)\n",
    "     ,round ((f1_score(valid_target,tree_model_prediction)),2)\n",
    "     ,round(roc_auc_score(valid_target, (tree_model.predict_proba(valid_features))[:, 1]),2)]\n",
    "k"
   ]
  },
  {
   "cell_type": "markdown",
   "id": "5b311991",
   "metadata": {},
   "source": [
    "#### Модель Logistic Regression"
   ]
  },
  {
   "cell_type": "code",
   "execution_count": 42,
   "id": "e71a2804",
   "metadata": {},
   "outputs": [
    {
     "name": "stdout",
     "output_type": "stream",
     "text": [
      "Лучшее значение f1 = 0.88  при max_iter = 1000 ,solver: newton-cg\n"
     ]
    }
   ],
   "source": [
    "# Подбор лучших гиперпараметров для Logistic Regression\n",
    "solver =  ['newton-cg', 'lbfgs', 'liblinear', 'sag', 'saga']\n",
    "best_s = None\n",
    "best_f1 = 0\n",
    "best_i = 0 \n",
    "for s in solver:        \n",
    "    for i in range(1000,10000,1000):\n",
    "            log_model = LogisticRegression(random_state=STATE, max_iter = i,solver = s, penalty = 'l2')\n",
    "            log_model.fit(features_balance_down,target_balance_down)\n",
    "            log_predictions = log_model.predict(valid_features)\n",
    "            result = f1_score(valid_target, log_predictions)\n",
    "            if result > best_f1:\n",
    "                best_i = i\n",
    "                best_f1 = result\n",
    "                best_s = s              \n",
    "print(\"Лучшее значение f1 =\", round((best_f1),2),  \" при max_iter =\", best_i, \",solver:\", best_s)    \n"
   ]
  },
  {
   "cell_type": "code",
   "execution_count": 43,
   "id": "7169eeab",
   "metadata": {},
   "outputs": [
    {
     "name": "stdout",
     "output_type": "stream",
     "text": [
      "accuracy: 0.89\n",
      "precision: 0.88\n",
      "recall: 0.88\n",
      "F1-мера: 0.88\n",
      "AUC ROC: 0.9542\n",
      "confusion_matrix:\n",
      "[[27  3]\n",
      " [ 3 21]]\n"
     ]
    },
    {
     "data": {
      "text/plain": [
       "['LR', 0.89, 0.88, 0.95]"
      ]
     },
     "execution_count": 43,
     "metadata": {},
     "output_type": "execute_result"
    }
   ],
   "source": [
    "\n",
    "# Строим модель, выводим метрики качества\n",
    "log_model = LogisticRegression(random_state=STATE, max_iter = 1000, solver='newton-cg', penalty = 'l2')\n",
    "log_model.fit(features_balance_down,target_balance_down)\n",
    "log_predictions = log_model.predict(valid_features) \n",
    "\n",
    "print(\"accuracy:\",round((log_model.score(valid_features,valid_target)),2))\n",
    "print(\"precision:\", round((precision_score(valid_target, log_predictions)),2))\n",
    "print(\"recall:\", round((recall_score(valid_target, log_predictions)),2))\n",
    "print(\"F1-мера:\", round((f1_score(valid_target, log_predictions)),2))\n",
    "print(\"AUC ROC:\", round(roc_auc_score(valid_target, (log_model.predict_proba(valid_features))[:, 1]),4))\n",
    "print(\"confusion_matrix:\")\n",
    "print(confusion_matrix(valid_target,log_predictions))\n",
    "\n",
    "m = ['LR', round ((log_model.score(valid_features,valid_target)),2)\n",
    "     ,round ((f1_score(valid_target, log_predictions)),2)\n",
    "     ,round(roc_auc_score(valid_target, (log_model.predict_proba(valid_features))[:, 1]),2)]\n",
    "m"
   ]
  },
  {
   "cell_type": "markdown",
   "id": "1100cd48",
   "metadata": {},
   "source": [
    "#### Модель Random forest"
   ]
  },
  {
   "cell_type": "code",
   "execution_count": 44,
   "id": "9fc1019c",
   "metadata": {},
   "outputs": [
    {
     "name": "stdout",
     "output_type": "stream",
     "text": [
      "Лучшие гиперпараметры для модели 'Случайный лес': {'max_depth': 2, 'min_samples_leaf': 3}\n"
     ]
    }
   ],
   "source": [
    "# Подбираем лучшие гиперпараметры для Random forest при устранении дисбаланса путем уменьшения числа объектов \n",
    "# отрицательного класса  \n",
    "parametrs = {'min_samples_leaf': range (1,11,2),\n",
    "             'max_depth': range (1,10)}\n",
    "model_forest = GridSearchCV(RandomForestClassifier(random_state=STATE), parametrs, scoring='f1', cv=5)\n",
    "model_forest.fit(features_balance_down,target_balance_down)\n",
    "print(\"Лучшие гиперпараметры для модели 'Случайный лес':\", model_forest.best_params_)"
   ]
  },
  {
   "cell_type": "code",
   "execution_count": 45,
   "id": "7e881229",
   "metadata": {},
   "outputs": [
    {
     "name": "stdout",
     "output_type": "stream",
     "text": [
      "accuracy: 0.89\n",
      "precision: 0.91\n",
      "recall: 0.83\n",
      "F1: 0.87\n",
      "AUC ROC: 0.9361\n",
      "confusion_matrix:\n",
      "[[28  2]\n",
      " [ 4 20]]\n"
     ]
    },
    {
     "data": {
      "text/plain": [
       "['RF', 0.89, 0.87, 0.94]"
      ]
     },
     "execution_count": 45,
     "metadata": {},
     "output_type": "execute_result"
    }
   ],
   "source": [
    "\n",
    "\n",
    "model_forest = RandomForestClassifier(random_state=STATE, max_depth = 2, min_samples_leaf = 3)\n",
    "model_forest.fit(features_balance_down,target_balance_down)        \n",
    "forest_prediction = model_forest.predict(valid_features)\n",
    "print(\"accuracy:\", round ((model_forest.score(valid_features,valid_target)),2))\n",
    "print(\"precision:\", round((precision_score(valid_target, forest_prediction)),2))\n",
    "print(\"recall:\", round((recall_score(valid_target, forest_prediction)),2))\n",
    "print(\"F1:\", round ((f1_score(valid_target, forest_prediction)),2))\n",
    "print(\"AUC ROC:\", round(roc_auc_score(valid_target, (model_forest.predict_proba(valid_features))[:, 1]),4))\n",
    "print(\"confusion_matrix:\")\n",
    "print(confusion_matrix(valid_target, forest_prediction))\n",
    "\n",
    "l = ['RF', round ((model_forest.score(valid_features,valid_target)),2)\n",
    "     ,round ((f1_score(valid_target, forest_prediction)),2)\n",
    "     ,round(roc_auc_score(valid_target, (model_forest.predict_proba(valid_features))[:, 1]),2)]\n",
    "\n",
    "l"
   ]
  },
  {
   "cell_type": "markdown",
   "id": "b6a3ad4a",
   "metadata": {},
   "source": [
    "Вывод: после применения функции Downsampling по уменьшению числа объектов отрицательного класса лидерами стали две модели (Logistic reression c F1=0.88 и Random Forest c F1=0.87)"
   ]
  },
  {
   "cell_type": "markdown",
   "id": "8a9170d9",
   "metadata": {},
   "source": [
    "### ROC-кривая"
   ]
  },
  {
   "cell_type": "code",
   "execution_count": 46,
   "id": "1e4b8e9b",
   "metadata": {},
   "outputs": [],
   "source": [
    "#Модель Дерево решений\n",
    "probabilities_tree=model_tree.predict_proba(valid_features)\n",
    "probabilities_one_valid_tree=probabilities_tree[:,1]\n",
    "fpr_tree,tpr_tree,thresholds=roc_curve(valid_target,probabilities_one_valid_tree)\n",
    "auc_roc_tree=roc_auc_score(valid_target,probabilities_one_valid_tree)\n",
    "#Модель Случайный лес\n",
    "probabilities_forest=model_forest.predict_proba(valid_features)\n",
    "probabilities_one_valid_forest=probabilities_forest[:,1]\n",
    "fpr_forest,tpr_forest,thresholds=roc_curve(valid_target,probabilities_one_valid_forest)\n",
    "auc_roc_forest=roc_auc_score(valid_target,probabilities_one_valid_forest)\n",
    "#Модель Логистическая регрессия\n",
    "probabilities_reg=model_logistic.predict_proba(valid_features)\n",
    "probabilities_one_valid_reg=probabilities_reg[:,1]\n",
    "fpr_log,tpr_log,thresholds=roc_curve(valid_target,probabilities_one_valid_reg)\n",
    "auc_roc_reg=roc_auc_score(valid_target,probabilities_one_valid_reg)"
   ]
  },
  {
   "cell_type": "code",
   "execution_count": 47,
   "id": "67d330a1",
   "metadata": {},
   "outputs": [
    {
     "data": {
      "text/plain": [
       "<Figure size 640x480 with 0 Axes>"
      ]
     },
     "metadata": {},
     "output_type": "display_data"
    },
    {
     "data": {
      "image/png": "[encoded data removed]",
      "text/plain": [
       "<Figure size 800x800 with 1 Axes>"
      ]
     },
     "metadata": {},
     "output_type": "display_data"
    }
   ],
   "source": [
    "plt.figure()\n",
    "\n",
    "plt.figure(figsize=(8,8))\n",
    "plt.plot([0, 1], [0, 1], linestyle='--')\n",
    "plt.xlim([0.0, 1.0])\n",
    "plt.ylim([0.0, 1.0])\n",
    "plt.plot(fpr_tree,tpr_tree)\n",
    "plt.plot(fpr_forest,tpr_forest)\n",
    "plt.plot(fpr_log,tpr_log)\n",
    "plt.xlabel('False Positive')\n",
    "plt.ylabel('True Positive')\n",
    "plt.title('ROC-кривая')\n",
    "plt.legend(('Случайная модель','Дерево решения', 'Случайный лес','Логистическая регрессия'),\n",
    "           loc= 'lower right') \n",
    "plt.show()"
   ]
  },
  {
   "cell_type": "code",
   "execution_count": 48,
   "id": "b11c71fc",
   "metadata": {},
   "outputs": [
    {
     "data": {
      "text/html": [
       "<div>\n",
       "<style scoped>\n",
       "    .dataframe tbody tr th:only-of-type {\n",
       "        vertical-align: middle;\n",
       "    }\n",
       "\n",
       "    .dataframe tbody tr th {\n",
       "        vertical-align: top;\n",
       "    }\n",
       "\n",
       "    .dataframe thead th {\n",
       "        text-align: right;\n",
       "    }\n",
       "</style>\n",
       "<table border=\"1\" class=\"dataframe\">\n",
       "  <thead>\n",
       "    <tr style=\"text-align: right;\">\n",
       "      <th></th>\n",
       "      <th>AUC ROC</th>\n",
       "      <th>Accuracy</th>\n",
       "      <th>F1-мера</th>\n",
       "    </tr>\n",
       "    <tr>\n",
       "      <th>Downsampling_model</th>\n",
       "      <th></th>\n",
       "      <th></th>\n",
       "      <th></th>\n",
       "    </tr>\n",
       "  </thead>\n",
       "  <tbody>\n",
       "    <tr>\n",
       "      <th>DT</th>\n",
       "      <td>0.90</td>\n",
       "      <td>0.87</td>\n",
       "      <td>0.84</td>\n",
       "    </tr>\n",
       "    <tr>\n",
       "      <th>LR</th>\n",
       "      <td>0.95</td>\n",
       "      <td>0.89</td>\n",
       "      <td>0.88</td>\n",
       "    </tr>\n",
       "    <tr>\n",
       "      <th>RF</th>\n",
       "      <td>0.94</td>\n",
       "      <td>0.89</td>\n",
       "      <td>0.87</td>\n",
       "    </tr>\n",
       "  </tbody>\n",
       "</table>\n",
       "</div>"
      ],
      "text/plain": [
       "                    AUC ROC  Accuracy  F1-мера\n",
       "Downsampling_model                            \n",
       "DT                     0.90      0.87     0.84\n",
       "LR                     0.95      0.89     0.88\n",
       "RF                     0.94      0.89     0.87"
      ]
     },
     "metadata": {},
     "output_type": "display_data"
    },
    {
     "data": {
      "image/png": "[encoded data removed]",
      "text/plain": [
       "<Figure size 1500x500 with 1 Axes>"
      ]
     },
     "metadata": {},
     "output_type": "display_data"
    }
   ],
   "source": [
    "p = pd.DataFrame(data = [k, m, l],columns = ['Downsampling_model', 'Accuracy','F1-мера', 'AUC ROC'])\n",
    "p = p.pivot_table(index='Downsampling_model', values=['Accuracy','F1-мера', 'AUC ROC'])\n",
    "display(p)\n",
    "ax = p.plot(grid=True, kind='bar', title='Метрики с функцией Downsampling', figsize=(15, 5))\n"
   ]
  },
  {
   "cell_type": "markdown",
   "id": "59d04e09",
   "metadata": {},
   "source": [
    "После выравнивания классов функцией Downsampling только у решающего дерева поднялась метрика F1 = 0.84 (c 0.81), при этом наилучшей моделью снова оказалась логистическая регрессия (F1 = 0.88)"
   ]
  },
  {
   "cell_type": "markdown",
   "id": "7aef1178",
   "metadata": {},
   "source": [
    "## Тестирование"
   ]
  },
  {
   "cell_type": "markdown",
   "id": "31a4676b",
   "metadata": {},
   "source": [
    "Выберем для тестирования модель с наивысшим показателем F1-меры. Для этого визуалилизуем данную метрику, полученную на разных моделях, создав датафрейм и график. "
   ]
  },
  {
   "cell_type": "code",
   "execution_count": 49,
   "id": "4560152e",
   "metadata": {},
   "outputs": [
    {
     "data": {
      "text/html": [
       "<div>\n",
       "<style scoped>\n",
       "    .dataframe tbody tr th:only-of-type {\n",
       "        vertical-align: middle;\n",
       "    }\n",
       "\n",
       "    .dataframe tbody tr th {\n",
       "        vertical-align: top;\n",
       "    }\n",
       "\n",
       "    .dataframe thead th {\n",
       "        text-align: right;\n",
       "    }\n",
       "</style>\n",
       "<table border=\"1\" class=\"dataframe\">\n",
       "  <thead>\n",
       "    <tr style=\"text-align: right;\">\n",
       "      <th></th>\n",
       "      <th>baseline_model</th>\n",
       "      <th>weight_model</th>\n",
       "      <th>downsampling_model</th>\n",
       "    </tr>\n",
       "  </thead>\n",
       "  <tbody>\n",
       "    <tr>\n",
       "      <th>DT</th>\n",
       "      <td>0.70</td>\n",
       "      <td>0.81</td>\n",
       "      <td>0.84</td>\n",
       "    </tr>\n",
       "    <tr>\n",
       "      <th>LR</th>\n",
       "      <td>0.89</td>\n",
       "      <td>0.89</td>\n",
       "      <td>0.88</td>\n",
       "    </tr>\n",
       "    <tr>\n",
       "      <th>RF</th>\n",
       "      <td>0.83</td>\n",
       "      <td>0.91</td>\n",
       "      <td>0.87</td>\n",
       "    </tr>\n",
       "  </tbody>\n",
       "</table>\n",
       "</div>"
      ],
      "text/plain": [
       "    baseline_model  weight_model  downsampling_model\n",
       "DT            0.70          0.81                0.84\n",
       "LR            0.89          0.89                0.88\n",
       "RF            0.83          0.91                0.87"
      ]
     },
     "metadata": {},
     "output_type": "display_data"
    },
    {
     "name": "stdout",
     "output_type": "stream",
     "text": [
      "Наивысшее значение F1-меры : 0.91\n"
     ]
    }
   ],
   "source": [
    "df = pd.DataFrame({'baseline_model': pd.Series(d['F1-мера']), \n",
    "        'weight_model': pd.Series(q['F1-мера']), \n",
    "        'downsampling_model': pd.Series(p['F1-мера'])}, index = ['DT','LR', 'RF'])\n",
    "display(df)\n",
    "print(\"Наивысшее значение F1-меры :\", df.max().max())"
   ]
  },
  {
   "cell_type": "code",
   "execution_count": 50,
   "id": "0fa74612",
   "metadata": {},
   "outputs": [
    {
     "data": {
      "image/png": "[encoded data removed]",
      "text/plain": [
       "<Figure size 1500x500 with 1 Axes>"
      ]
     },
     "metadata": {},
     "output_type": "display_data"
    }
   ],
   "source": [
    "ax = df.plot(grid=True, kind='bar', title='F1-мера', color = ['purple','dodgerblue', 'pink'], figsize=(15, 5)) "
   ]
  },
  {
   "cell_type": "markdown",
   "id": "33b66887",
   "metadata": {},
   "source": [
    "Наивысшее значение F1-меры = 0.91 достигнуто у модели Random forest при взвешивании классов аргументом class_weight='balanced', в связи с чем данная модель выбирается для проверки на тестовой выборке."
   ]
  },
  {
   "cell_type": "markdown",
   "id": "2e09c267",
   "metadata": {},
   "source": [
    "Строим модель Random forest при сбалансировании классов аргументом class_weight='balanced' с подобранными наилучшими гиперпараметрами max_depth = 4 и min_samples_leaf = 3 и выводим метрики качества предсказаний на тестовой выборке"
   ]
  },
  {
   "cell_type": "code",
   "execution_count": 51,
   "id": "b4ab939f",
   "metadata": {},
   "outputs": [
    {
     "name": "stdout",
     "output_type": "stream",
     "text": [
      "accuracy: 0.8\n",
      "precision: 0.66\n",
      "recall: 0.79\n",
      "F1: 0.87\n",
      "AUC ROC: 0.8944\n",
      "confusion_matrix:\n",
      "[[20 10]\n",
      " [ 5 19]]\n"
     ]
    }
   ],
   "source": [
    "test_forest = RandomForestClassifier(random_state=STATE, max_depth = 4, min_samples_leaf = 3, class_weight='balanced') \n",
    "test_forest.fit(train_features,train_target)        \n",
    "test_forest_prediction = model_forest.predict(test_features)\n",
    "print(\"accuracy:\", round ((test_forest.score(test_features,test_target)),2))\n",
    "print(\"precision:\", round((precision_score(test_target, test_forest_prediction)),2))\n",
    "print(\"recall:\", round((recall_score(test_target, test_forest_prediction)),2))\n",
    "print(\"F1:\", round ((f1_score(valid_target, forest_prediction)),2))\n",
    "print(\"AUC ROC:\", round(roc_auc_score(test_target, (test_forest.predict_proba(test_features))[:, 1]),4))\n",
    "print(\"confusion_matrix:\")\n",
    "print(confusion_matrix(test_target, test_forest_prediction))"
   ]
  },
  {
   "cell_type": "markdown",
   "id": "7c7f9ab1",
   "metadata": {},
   "source": [
    "F1-мера модели Random forest  на тестовой выборке превысила данную метрику с наивысшим показателем  baseline модели (0.85 - Logistic Regression) и составила 0.87, что позволяет сделать вывод о возможности предложения данной модели для предсказаний заболеваний сердца."
   ]
  },
  {
   "cell_type": "markdown",
   "id": "ae712e4a",
   "metadata": {},
   "source": [
    "### Общий вывод:"
   ]
  },
  {
   "cell_type": "markdown",
   "id": "f06f8f11",
   "metadata": {},
   "source": [
    "    Было проведено исследование на прогноз сердечно-сосудистых заболеваний. Так как данные оказались чистыми, можно было сразу приступать к исследованию признаков и построению моделей. \n",
    "    Была построена baseline модели и получены данные до улучшения метрик и борьбы с дисбалансом.\n",
    "    После стандартизации данных и выравнивании классов аргументом class_weight наилучшей моделью становится RandomForest \n",
    "c F1 = 0.91 (при этом на baseline RandomForest модели F1 = 0.83).\n",
    "    После применения функции Downsampling по уменьшению числа объектов отрицательного класса лидерами стали две модели (Logistic regression c F1=0.88 и Random Forest c F1=0.87). При этом и кривая вероятности (ROC-кривая) наилучшим образом показана на тех же моделях (Logistic regression c AUC ROC=0.95 и Random Forest c AUC ROC=0.94)\n",
    "    Для тестирования выбираем модель с наивысшим показателем F1-меры Random Forest. На графики хорошо видно как менялись показатели после улучшения метрик модели.\n",
    "    Показатель F1-score (среднее гармоническое значение между precision и recall) не изменилось после улучшения гиперпараметров и составила 0.87. \n",
    "    На тесте немного упал показатель AUC ROC (с 0.94 до 0.89), однако остался попрежнему высок, откуда можно сделать вывод производительность данной модели высокая. \n",
    "    Интересно рассмотреть матрицу ошибок на тестововй моделе. Количество ложно-отрицательных (5) и ложно-положительных (10) результатов достаточно низкое по сравнению с точностью предсказания истинных результатов (20 и 19), что говорит об эффективности модели. \n",
    "    Таким образом эту модель с подобранными гиперпараметрами можно предложить для предсказания заболеваний сердца  "
   ]
  }
 ],
 "metadata": {
  "kernelspec": {
   "display_name": "Python 3 (ipykernel)",
   "language": "python",
   "name": "python3"
  },
  "language_info": {
   "codemirror_mode": {
    "name": "ipython",
    "version": 3
   },
   "file_extension": ".py",
   "mimetype": "text/x-python",
   "name": "python",
   "nbconvert_exporter": "python",
   "pygments_lexer": "ipython3",
   "version": "3.9.13"
  }
 },
 "nbformat": 4,
 "nbformat_minor": 5
}
